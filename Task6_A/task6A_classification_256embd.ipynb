{
 "cells": [
  {
   "cell_type": "markdown",
   "metadata": {
    "_cell_guid": "b1076dfc-b9ad-4769-8c92-a6c4dae69d19",
    "_uuid": "8f2839f25d086af736a60e9eeb907d3b93b6e0e5"
   },
   "source": [
    "## IMPORTS"
   ]
  },
  {
   "cell_type": "code",
   "execution_count": 1,
   "metadata": {
    "execution": {
     "iopub.execute_input": "2025-03-26T19:43:53.814719Z",
     "iopub.status.busy": "2025-03-26T19:43:53.814476Z",
     "iopub.status.idle": "2025-03-26T19:44:10.976513Z",
     "shell.execute_reply": "2025-03-26T19:44:10.975389Z",
     "shell.execute_reply.started": "2025-03-26T19:43:53.814696Z"
    },
    "trusted": true
   },
   "outputs": [],
   "source": [
    "import os\n",
    "import pandas as pd\n",
    "import numpy as np\n",
    "import csv\n",
    "import torch\n",
    "import torch.nn as nn\n",
    "import matplotlib.pyplot as plt\n",
    "import tqdm\n",
    "import ctypes\n",
    "import gc\n",
    "import random\n",
    "import json\n",
    "import datetime\n",
    "from pathlib import Path\n",
    "from PIL import Image, ImageOps, ImageEnhance\n",
    "from functools import partial\n",
    "from timm.models.vision_transformer import PatchEmbed, Block\n",
    "from skimage import io, transform\n",
    "from torchmetrics.functional.image import peak_signal_noise_ratio\n",
    "from torch.utils.data import Dataset, DataLoader, random_split\n",
    "from torchvision import transforms, utils\n",
    "from torch.optim import AdamW\n",
    "from torch.optim.lr_scheduler import CosineAnnealingWarmRestarts\n",
    "from tqdm import tqdm\n",
    "from torchmetrics import Accuracy\n",
    "from torchvision import datasets, transforms\n",
    "import torch.optim as optim\n",
    "import torch.nn.functional as F\n",
    "\n",
    "\n",
    "from sklearn.preprocessing import LabelEncoder\n",
    "from sklearn.metrics import roc_curve, auc\n",
    "from sklearn.preprocessing import label_binarize\n",
    "\n",
    "torch.manual_seed(42)\n",
    "libc = ctypes.CDLL(\"libc.so.6\")"
   ]
  },
  {
   "cell_type": "markdown",
   "metadata": {},
   "source": [
    "## MASKED AUTOENCODER ARCH"
   ]
  },
  {
   "cell_type": "code",
   "execution_count": null,
   "metadata": {
    "trusted": true
   },
   "outputs": [],
   "source": [
    "## 128 emb, patch size 8\n",
    "##256 emb patch size 4"
   ]
  },
  {
   "cell_type": "code",
   "execution_count": 2,
   "metadata": {
    "execution": {
     "iopub.execute_input": "2025-03-26T19:44:38.412692Z",
     "iopub.status.busy": "2025-03-26T19:44:38.412312Z",
     "iopub.status.idle": "2025-03-26T19:44:38.695259Z",
     "shell.execute_reply": "2025-03-26T19:44:38.694098Z",
     "shell.execute_reply.started": "2025-03-26T19:44:38.412660Z"
    },
    "trusted": true
   },
   "outputs": [],
   "source": [
    "def get_2d_sincos_pos_embed(embed_dim, grid_size, cls_token=False):\n",
    "    \"\"\"\n",
    "    grid_size: int of the grid height and width\n",
    "    return:\n",
    "    pos_embed: [grid_size*grid_size, embed_dim] or [1+grid_size*grid_size, embed_dim] (w/ or w/o cls_token)\n",
    "    \"\"\"\n",
    "    grid_h = np.arange(grid_size, dtype=np.float32)\n",
    "    grid_w = np.arange(grid_size, dtype=np.float32)\n",
    "    grid = np.meshgrid(grid_w, grid_h)  # here w goes first\n",
    "    grid = np.stack(grid, axis=0)\n",
    "\n",
    "    grid = grid.reshape([2, 1, grid_size, grid_size])\n",
    "    pos_embed = get_2d_sincos_pos_embed_from_grid(embed_dim, grid)\n",
    "    if cls_token:\n",
    "        pos_embed = np.concatenate([np.zeros([1, embed_dim]), pos_embed], axis=0)\n",
    "    return pos_embed\n",
    "\n",
    "\n",
    "def get_2d_sincos_pos_embed_from_grid(embed_dim, grid):\n",
    "    assert embed_dim % 2 == 0\n",
    "\n",
    "    # use half of dimensions to encode grid_h\n",
    "    emb_h = get_1d_sincos_pos_embed_from_grid(embed_dim // 2, grid[0])  # (H*W, D/2)\n",
    "    emb_w = get_1d_sincos_pos_embed_from_grid(embed_dim // 2, grid[1])  # (H*W, D/2)\n",
    "\n",
    "    emb = np.concatenate([emb_h, emb_w], axis=1) # (H*W, D)\n",
    "    return emb\n",
    "\n",
    "\n",
    "def get_1d_sincos_pos_embed_from_grid(embed_dim, pos):\n",
    "    \"\"\"\n",
    "    embed_dim: output dimension for each position\n",
    "    pos: a list of positions to be encoded: size (M,)\n",
    "    out: (M, D)\n",
    "    \"\"\"\n",
    "    assert embed_dim % 2 == 0\n",
    "    omega = np.arange(embed_dim // 2, dtype='float32')\n",
    "    omega /= embed_dim / 2.\n",
    "    omega = 1. / 10000**omega  # (D/2,)\n",
    "\n",
    "    pos = pos.reshape(-1)  # (M,)\n",
    "    out = np.einsum('m,d->md', pos, omega)  # (M, D/2), outer product\n",
    "\n",
    "    emb_sin = np.sin(out) # (M, D/2)\n",
    "    emb_cos = np.cos(out) # (M, D/2)\n",
    "\n",
    "    emb = np.concatenate([emb_sin, emb_cos], axis=1)  # (M, D)\n",
    "    return emb\n",
    "\n",
    "\n",
    "def patchify(imgs, img_size, patch_size, in_chans, embed_dim):\n",
    "    \"\"\"\n",
    "    imgs: (N, in_chans, H, W)\n",
    "    x: (N, L, patch_size**2 *in_chans)\n",
    "    \"\"\"\n",
    "    patch_embed = PatchEmbed(img_size, patch_size, in_chans, embed_dim)\n",
    "    p = patch_embed.patch_size[0]\n",
    "    assert imgs.shape[2] == imgs.shape[3] and imgs.shape[2] % p == 0\n",
    "\n",
    "    h = w = imgs.shape[2] // p\n",
    "    \n",
    "    # in_ch is 1\n",
    "    x = imgs.reshape(shape=(imgs.shape[0], in_chans, h, p, w, p))\n",
    "    x = torch.einsum('nchpwq->nhwpqc', x)\n",
    "    x = x.reshape(shape=(imgs.shape[0], h * w, p**2 * in_chans))\n",
    "    return x\n",
    "\n",
    "def unpatchify(x, img_size, patch_size, in_chans, embed_dim):\n",
    "    \"\"\"\n",
    "    x: (N, L, patch_size**2 *in_chans)\n",
    "    imgs: (N, in_chans, H, W)\n",
    "    \"\"\"\n",
    "    patch_embed = PatchEmbed(img_size, patch_size, in_chans, embed_dim)\n",
    "    p = patch_embed.patch_size[0]\n",
    "    h = w = int(x.shape[1]**.5)\n",
    "    assert h * w == x.shape[1]\n",
    "    \n",
    "    x = x.reshape(shape=(x.shape[0], h, w, p, p, in_chans))\n",
    "    x = torch.einsum('nhwpqc->nchpwq', x)\n",
    "    imgs = x.reshape(shape=(x.shape[0], in_chans, h * p, h * p))\n",
    "    return imgs\n",
    "#Original Code for ViT had \n",
    "class Encoder(nn.Module):\n",
    "    def __init__(self, img_size=64, patch_size=4, in_chans=1, mask_ratio = 0.75,\n",
    "                 embed_dim=256, depth=12, num_heads=8,\n",
    "                 mlp_ratio=4., norm_layer=nn.LayerNorm, norm_pix_loss=False):\n",
    "        super().__init__()\n",
    "\n",
    "        # --------------------------------------------------------------------------\n",
    "        # MAE encoder specifics\n",
    "        self.mask_ratio = mask_ratio\n",
    "        self.patch_embed = PatchEmbed(img_size, patch_size, in_chans, embed_dim)\n",
    "        num_patches = self.patch_embed.num_patches\n",
    "\n",
    "        self.cls_token = nn.Parameter(torch.zeros(1, 1, embed_dim))\n",
    "        self.pos_embed = nn.Parameter(torch.zeros(1, num_patches + 1, embed_dim), requires_grad=False)  # fixed sin-cos embedding\n",
    "\n",
    "        self.blocks = nn.ModuleList([\n",
    "            Block(embed_dim, num_heads, mlp_ratio, qkv_bias=True, norm_layer=norm_layer)\n",
    "            for i in range(depth)])\n",
    "        \n",
    "        self.norm = norm_layer(embed_dim)\n",
    "\n",
    "        self.initialize_weights()\n",
    "\n",
    "    def initialize_weights(self):\n",
    "        # initialization\n",
    "        # initialize (and freeze) pos_embed by sin-cos embedding\n",
    "        pos_embed = get_2d_sincos_pos_embed(self.pos_embed.shape[-1], int(self.patch_embed.num_patches**.5), cls_token=True)\n",
    "        self.pos_embed.data.copy_(torch.from_numpy(pos_embed).float().unsqueeze(0))\n",
    "\n",
    "        # initialize patch_embed like nn.Linear (instead of nn.Conv2d)\n",
    "        w = self.patch_embed.proj.weight.data\n",
    "        torch.nn.init.xavier_uniform_(w.view([w.shape[0], -1]))\n",
    "\n",
    "        # timm's trunc_normal_(std=.02) is effectively normal_(std=0.02) as cutoff is too big (2.)\n",
    "        torch.nn.init.normal_(self.cls_token, std=.02)\n",
    "\n",
    "        # initialize nn.Linear and nn.LayerNorm\n",
    "        self.apply(self._init_weights)\n",
    "    \n",
    "    def _init_weights(self, m):\n",
    "        if isinstance(m, nn.Linear):\n",
    "            # we use xavier_uniform following official JAX ViT:\n",
    "            torch.nn.init.xavier_uniform_(m.weight)\n",
    "            if isinstance(m, nn.Linear) and m.bias is not None:\n",
    "                nn.init.constant_(m.bias, 0)\n",
    "        elif isinstance(m, nn.LayerNorm):\n",
    "            nn.init.constant_(m.bias, 0)\n",
    "            nn.init.constant_(m.weight, 1.0)\n",
    "\n",
    "    def random_masking(self, x, mask_ratio):\n",
    "        \"\"\"\n",
    "        Perform per-sample random masking by per-sample shuffling.\n",
    "        Per-sample shuffling is done by argsort random noise.\n",
    "        x: [N, L, D], sequence\n",
    "        \"\"\"\n",
    "        N, L, D = x.shape  # batch, length, dim\n",
    "        len_keep = int(L * (1 - mask_ratio))\n",
    "        \n",
    "        noise = torch.rand(N, L, device=x.device)  # noise in [0, 1]\n",
    "        \n",
    "        # sort noise for each sample\n",
    "        ids_shuffle = torch.argsort(noise, dim=1)  # ascend: small is keep, large is remove\n",
    "        ids_restore = torch.argsort(ids_shuffle, dim=1)\n",
    "\n",
    "        # keep the first subset\n",
    "        ids_keep = ids_shuffle[:, :len_keep]\n",
    "        x_masked = torch.gather(x, dim=1, index=ids_keep.unsqueeze(-1).repeat(1, 1, D))\n",
    "\n",
    "        # generate the binary mask: 0 is keep, 1 is remove\n",
    "        mask = torch.ones([N, L], device=x.device)\n",
    "        mask[:, :len_keep] = 0\n",
    "        # unshuffle to get the binary mask\n",
    "        mask = torch.gather(mask, dim=1, index=ids_restore)\n",
    "\n",
    "        return x_masked, mask, ids_restore\n",
    "    \n",
    "    def forward(self, x):\n",
    "        \n",
    "        # embed patches\n",
    "        x = self.patch_embed(x)\n",
    "        x = x + self.pos_embed[:, 1:, :] # add pos embed w/o cls token\n",
    "\n",
    "        # masking: length -> length * mask_ratio\n",
    "        x, mask, ids_restore = self.random_masking(x, self.mask_ratio)\n",
    "\n",
    "        # append cls token\n",
    "        cls_token = self.cls_token + self.pos_embed[:, :1, :]\n",
    "        cls_tokens = cls_token.expand(x.shape[0], -1, -1)\n",
    "        x = torch.cat((cls_tokens, x), dim=1)\n",
    "\n",
    "        # apply Transformer blocks\n",
    "        for blk in self.blocks:\n",
    "            x = blk(x)\n",
    "        x = self.norm(x)\n",
    "\n",
    "        return x, mask, ids_restore\n",
    "    \n",
    "class Decoder(nn.Module):\n",
    "    def __init__(self, img_size=64, patch_size=4, in_chans=1, embed_dim = 256,\n",
    "                 decoder_embed_dim=128, decoder_depth=4, decoder_num_heads=4,\n",
    "                 mlp_ratio=4., norm_layer=nn.LayerNorm, norm_pix_loss=False):\n",
    "        super().__init__()\n",
    "\n",
    "        self.num_patches = (img_size//patch_size)**2\n",
    "        self.decoder_embed = nn.Linear(embed_dim, decoder_embed_dim, bias=True)\n",
    "\n",
    "        self.mask_token = nn.Parameter(torch.zeros(1, 1, decoder_embed_dim))\n",
    "\n",
    "        self.decoder_pos_embed = nn.Parameter(torch.zeros(1, self.num_patches + 1, decoder_embed_dim), requires_grad=False)  # fixed sin-cos embedding\n",
    "\n",
    "        self.decoder_blocks = nn.ModuleList([\n",
    "            Block(decoder_embed_dim, decoder_num_heads, mlp_ratio, qkv_bias=True, norm_layer=norm_layer)\n",
    "            for i in range(decoder_depth)])\n",
    "\n",
    "        self.decoder_norm = norm_layer(decoder_embed_dim)\n",
    "        self.decoder_pred = nn.Linear(decoder_embed_dim, patch_size**2 * in_chans, bias=True) # decoder to patch\n",
    "        # --------------------------------------------------------------------------\n",
    "\n",
    "        self.norm_pix_loss = norm_pix_loss\n",
    "\n",
    "        self.initialize_weights()\n",
    "\n",
    "    def initialize_weights(self):\n",
    "        # initialization\n",
    "        # initialize (and freeze) pos_embed by sin-cos embedding\n",
    "\n",
    "        decoder_pos_embed = get_2d_sincos_pos_embed(self.decoder_pos_embed.shape[-1], int(self.num_patches**.5), cls_token=True)\n",
    "        self.decoder_pos_embed.data.copy_(torch.from_numpy(decoder_pos_embed).float().unsqueeze(0))\n",
    "\n",
    "        # timm's trunc_normal_(std=.02) is effectively normal_(std=0.02) as cutoff is too big (2.)\n",
    "        torch.nn.init.normal_(self.mask_token, std=.02)\n",
    "\n",
    "        # initialize nn.Linear and nn.LayerNorm\n",
    "        self.apply(self._init_weights)\n",
    "\n",
    "    def _init_weights(self, m):\n",
    "        if isinstance(m, nn.Linear):\n",
    "            # we use xavier_uniform following official JAX ViT:\n",
    "            torch.nn.init.xavier_uniform_(m.weight)\n",
    "            if isinstance(m, nn.Linear) and m.bias is not None:\n",
    "                nn.init.constant_(m.bias, 0)\n",
    "        elif isinstance(m, nn.LayerNorm):\n",
    "            nn.init.constant_(m.bias, 0)\n",
    "            nn.init.constant_(m.weight, 1.0)\n",
    "\n",
    "\n",
    "    def forward(self, x, ids_restore):\n",
    "        # embed tokens\n",
    "        x = self.decoder_embed(x)\n",
    "\n",
    "        # append mask tokens to sequence\n",
    "        mask_tokens = self.mask_token.repeat(x.shape[0], ids_restore.shape[1] + 1 - x.shape[1], 1)\n",
    "        x_ = torch.cat([x[:, 1:, :], mask_tokens], dim=1)  # no cls token\n",
    "        x_ = torch.gather(x_, dim=1, index=ids_restore.unsqueeze(-1).repeat(1, 1, x.shape[2]))  # unshuffle\n",
    "        x = torch.cat([x[:, :1, :], x_], dim=1)  # append cls token\n",
    "\n",
    "        # add pos embed\n",
    "        x = x + self.decoder_pos_embed\n",
    "\n",
    "        # apply Transformer blocks\n",
    "        for blk in self.decoder_blocks:\n",
    "            x = blk(x)\n",
    "        x = self.decoder_norm(x)\n",
    "\n",
    "        # predictor projection\n",
    "        x = self.decoder_pred(x)\n",
    "\n",
    "        # remove cls token\n",
    "        x = x[:, 1:, :]\n",
    "\n",
    "        return x\n",
    "    \n",
    "class Masked_VIT(nn.Module):\n",
    "    def __init__(self, encoder, decoder, mask_ratio):\n",
    "        super().__init__()\n",
    "        \n",
    "        self.encoder = encoder\n",
    "        self.decoder = decoder\n",
    "        self.mask_ratio = mask_ratio\n",
    "\n",
    "    def forward_loss(self, imgs, pred, mask):\n",
    "        \"\"\"\n",
    "        imgs: [N, 3, H, W]\n",
    "        pred: [N, L, p*p*3]\n",
    "        mask: [N, L], 0 is keep, 1 is remove, \n",
    "        \"\"\"\n",
    "        target = patchify(imgs, 64, 8, 1, 128)\n",
    "        criterion = nn.BCEWithLogitsLoss(reduction = \"mean\")\n",
    "        loss = criterion(pred, target)\n",
    "        return loss\n",
    "\n",
    "    def forward_loss_mse(self, imgs, pred, mask):\n",
    "        target = patchify(imgs, 64, 4, 1, 256)\n",
    "        loss = (pred - target) ** 2\n",
    "        loss = loss.mean(dim=-1)  # [N, L], mean loss per patch\n",
    "\n",
    "        loss = (loss * mask).sum() / mask.sum()  # mean loss on removed patches\n",
    "        return loss\n",
    "\n",
    "    def forward(self, imgs):\n",
    "        latent, mask, ids_restore = self.encoder(imgs)\n",
    "        pred = self.decoder(latent, ids_restore)\n",
    "        bce_loss = self.forward_loss(imgs, pred, mask)\n",
    "        # mse_loss = self.forward_loss_mse(imgs, pred, mask)\n",
    "        return bce_loss, pred, mask\n"
   ]
  },
  {
   "cell_type": "markdown",
   "metadata": {},
   "source": [
    "## Classification Model"
   ]
  },
  {
   "cell_type": "code",
   "execution_count": 6,
   "metadata": {
    "execution": {
     "iopub.execute_input": "2025-03-26T19:46:03.016123Z",
     "iopub.status.busy": "2025-03-26T19:46:03.015759Z",
     "iopub.status.idle": "2025-03-26T19:46:03.027853Z",
     "shell.execute_reply": "2025-03-26T19:46:03.026488Z",
     "shell.execute_reply.started": "2025-03-26T19:46:03.016091Z"
    },
    "trusted": true
   },
   "outputs": [],
   "source": [
    "##hidden_dims = 1024, 512, 256\n",
    "class ClassificationModel(nn.Module):\n",
    "    def __init__(self, encoder, num_classes, hidden_dims=[512, 256], dropout_rate=0.2):\n",
    "        super(ClassificationModel, self).__init__()\n",
    "        self.encoder = encoder\n",
    "        \n",
    "        # Freeze the encoder parameters\n",
    "        for param in self.encoder.parameters():\n",
    "            param.requires_grad = False\n",
    "        \n",
    "        # Get the output dimension of the encoder\n",
    "        encoder_output_dim = self.get_encoder_output_dim()\n",
    "        \n",
    "        # Build MLP layers dynamically based on hidden_dims\n",
    "        layers = []\n",
    "        in_dim = encoder_output_dim\n",
    "        \n",
    "        for dim in hidden_dims:\n",
    "            layers.extend([\n",
    "                nn.Linear(in_dim, dim),\n",
    "                nn.BatchNorm1d(dim),  # Add BatchNorm for better convergence\n",
    "                nn.ReLU(),\n",
    "                nn.Dropout(dropout_rate)\n",
    "            ])\n",
    "            in_dim = dim\n",
    "        \n",
    "        self.mlp = nn.Sequential(*layers)\n",
    "        \n",
    "        # Classification head\n",
    "        self.classifier = nn.Linear(hidden_dims[-1], num_classes)\n",
    "    \n",
    "    def get_encoder_output_dim(self):\n",
    "        return 256\n",
    "    \n",
    "    def forward(self, x):\n",
    "        # Get encoder output\n",
    "        encoder_output, mask, ids_restore = self.encoder(x)\n",
    "        \n",
    "        # Use the [CLS] token or equivalent (first token)\n",
    "        features = encoder_output[:, 0, :]\n",
    "        \n",
    "        # Apply MLP\n",
    "        features = self.mlp(features)\n",
    "        \n",
    "        # Apply classifier\n",
    "        logits = self.classifier(features)\n",
    "        \n",
    "        return logits\n",
    "\n",
    "def load_pretrained_encoder(weights_path, img_size):\n",
    "    from functools import partial\n",
    "    \n",
    "    encoder = Encoder(\n",
    "        img_size=img_size, patch_size=4, in_chans=1, mask_ratio=0.75,\n",
    "        embed_dim=256, depth=8, num_heads=8,\n",
    "        mlp_ratio=4, norm_layer=partial(nn.LayerNorm, eps=1e-6))\n",
    "    \n",
    "    # Load weights\n",
    "    checkpoint = torch.load(weights_path, map_location = 'cpu')\n",
    "    \n",
    "    # Handle different checkpoint formats\n",
    "    if 'model' in checkpoint:\n",
    "        checkpoint = checkpoint['model']\n",
    "    \n",
    "    # Create a new state dict with the correct keys\n",
    "    encoder_state_dict = {}\n",
    "    for key, value in checkpoint.items():\n",
    "        # Check various possible prefixes\n",
    "        if key.startswith(\"module.encoder.\"):\n",
    "            new_key = key.replace(\"module.encoder.\", \"\")\n",
    "            encoder_state_dict[new_key] = value\n",
    "        elif key.startswith(\"encoder.\"):\n",
    "            new_key = key.replace(\"encoder.\", \"\")\n",
    "            encoder_state_dict[new_key] = value\n",
    "        elif key.startswith(\"module.\"):\n",
    "            new_key = key.replace(\"module.\", \"\")\n",
    "            encoder_state_dict[new_key] = value\n",
    "        else:\n",
    "            encoder_state_dict[key] = value\n",
    "    \n",
    "    # Load the modified state dict into the encoder\n",
    "    msg = encoder.load_state_dict(encoder_state_dict, strict=False)\n",
    "    print(f\"Missing keys: {msg.missing_keys}\")\n",
    "    print(f\"Unexpected keys: {msg.unexpected_keys}\")\n",
    "    \n",
    "    # Freeze encoder weights\n",
    "    for param in encoder.parameters():\n",
    "        param.requires_grad = False\n",
    "    \n",
    "    return encoder"
   ]
  },
  {
   "cell_type": "markdown",
   "metadata": {},
   "source": [
    "## LARS Optimiser"
   ]
  },
  {
   "cell_type": "code",
   "execution_count": null,
   "metadata": {
    "execution": {
     "iopub.execute_input": "2025-03-26T19:45:10.011111Z",
     "iopub.status.busy": "2025-03-26T19:45:10.010640Z",
     "iopub.status.idle": "2025-03-26T19:45:10.023744Z",
     "shell.execute_reply": "2025-03-26T19:45:10.022516Z",
     "shell.execute_reply.started": "2025-03-26T19:45:10.011070Z"
    },
    "trusted": true
   },
   "outputs": [],
   "source": [
    "class LARS(torch.optim.Optimizer):\n",
    "    def __init__(self, params, lr=0.01, momentum=0.9, weight_decay=1e-4, \n",
    "                 trust_coefficient=0.001, eps=1e-8):\n",
    "        defaults = dict(lr=lr, momentum=momentum, weight_decay=weight_decay,\n",
    "                       trust_coefficient=trust_coefficient, eps=eps)\n",
    "        super(LARS, self).__init__(params, defaults)\n",
    "        \n",
    "        # Base optimizer (SGD with momentum)\n",
    "        self.base_optimizer = torch.optim.SGD(self.param_groups, lr=lr, \n",
    "                                             momentum=momentum, weight_decay=0)\n",
    "\n",
    "    @torch.no_grad()\n",
    "    def step(self, closure=None):\n",
    "        loss = None\n",
    "        if closure is not None:\n",
    "            with torch.enable_grad():\n",
    "                loss = closure()\n",
    "\n",
    "        # Apply LARS adaptive learning rate\n",
    "        for group in self.param_groups:\n",
    "            weight_decay = group['weight_decay']\n",
    "            trust_coefficient = group['trust_coefficient']\n",
    "            eps = group['eps']\n",
    "            lr = group['lr']\n",
    "\n",
    "            for p in group['params']:\n",
    "                if p.grad is None:\n",
    "                    continue\n",
    "                \n",
    "                # Skip parameters that don't require grad\n",
    "                if not p.requires_grad:\n",
    "                    continue\n",
    "                \n",
    "                # Calculate parameter and grad norms\n",
    "                param_norm = torch.norm(p.data)\n",
    "                grad_norm = torch.norm(p.grad.data)\n",
    "                \n",
    "                # Apply weight decay  \n",
    "                if weight_decay != 0:\n",
    "                    p.grad.data.add_(p.data, alpha=weight_decay)\n",
    "                \n",
    "                # Apply LARS scaling\n",
    "                if param_norm > 0 and grad_norm > 0:\n",
    "                    # Compute local LR\n",
    "                    local_lr = lr * trust_coefficient * (param_norm) / (grad_norm + weight_decay * param_norm + eps)\n",
    "                    \n",
    "                    # Update learning rate for this parameter\n",
    "                    p.grad.data.mul_(local_lr / lr)\n",
    "\n",
    "        # Base optimizer takes the step with the modified gradients\n",
    "        self.base_optimizer.step()\n",
    "        return loss"
   ]
  },
  {
   "cell_type": "code",
   "execution_count": 7,
   "metadata": {
    "execution": {
     "iopub.execute_input": "2025-03-26T19:46:06.867601Z",
     "iopub.status.busy": "2025-03-26T19:46:06.867233Z",
     "iopub.status.idle": "2025-03-26T19:46:07.508995Z",
     "shell.execute_reply": "2025-03-26T19:46:07.507812Z",
     "shell.execute_reply.started": "2025-03-26T19:46:06.867571Z"
    },
    "trusted": true
   },
   "outputs": [
    {
     "name": "stderr",
     "output_type": "stream",
     "text": [
      "<ipython-input-6-bb43d6658500>:59: FutureWarning: You are using `torch.load` with `weights_only=False` (the current default value), which uses the default pickle module implicitly. It is possible to construct malicious pickle data which will execute arbitrary code during unpickling (See https://github.com/pytorch/pytorch/blob/main/SECURITY.md#untrusted-models for more details). In a future release, the default value for `weights_only` will be flipped to `True`. This limits the functions that could be executed during unpickling. Arbitrary objects will no longer be allowed to be loaded via this mode unless they are explicitly allowlisted by the user via `torch.serialization.add_safe_globals`. We recommend you start setting `weights_only=True` for any use case where you don't have full control of the loaded file. Please open an issue on GitHub for any issues related to this experimental feature.\n",
      "  checkpoint = torch.load(weights_path, map_location = 'cpu')\n"
     ]
    },
    {
     "name": "stdout",
     "output_type": "stream",
     "text": [
      "Missing keys: []\n",
      "Unexpected keys: ['decoder.mask_token', 'decoder.decoder_pos_embed', 'decoder.decoder_embed.weight', 'decoder.decoder_embed.bias', 'decoder.decoder_blocks.0.norm1.weight', 'decoder.decoder_blocks.0.norm1.bias', 'decoder.decoder_blocks.0.attn.qkv.weight', 'decoder.decoder_blocks.0.attn.qkv.bias', 'decoder.decoder_blocks.0.attn.proj.weight', 'decoder.decoder_blocks.0.attn.proj.bias', 'decoder.decoder_blocks.0.norm2.weight', 'decoder.decoder_blocks.0.norm2.bias', 'decoder.decoder_blocks.0.mlp.fc1.weight', 'decoder.decoder_blocks.0.mlp.fc1.bias', 'decoder.decoder_blocks.0.mlp.fc2.weight', 'decoder.decoder_blocks.0.mlp.fc2.bias', 'decoder.decoder_blocks.1.norm1.weight', 'decoder.decoder_blocks.1.norm1.bias', 'decoder.decoder_blocks.1.attn.qkv.weight', 'decoder.decoder_blocks.1.attn.qkv.bias', 'decoder.decoder_blocks.1.attn.proj.weight', 'decoder.decoder_blocks.1.attn.proj.bias', 'decoder.decoder_blocks.1.norm2.weight', 'decoder.decoder_blocks.1.norm2.bias', 'decoder.decoder_blocks.1.mlp.fc1.weight', 'decoder.decoder_blocks.1.mlp.fc1.bias', 'decoder.decoder_blocks.1.mlp.fc2.weight', 'decoder.decoder_blocks.1.mlp.fc2.bias', 'decoder.decoder_blocks.2.norm1.weight', 'decoder.decoder_blocks.2.norm1.bias', 'decoder.decoder_blocks.2.attn.qkv.weight', 'decoder.decoder_blocks.2.attn.qkv.bias', 'decoder.decoder_blocks.2.attn.proj.weight', 'decoder.decoder_blocks.2.attn.proj.bias', 'decoder.decoder_blocks.2.norm2.weight', 'decoder.decoder_blocks.2.norm2.bias', 'decoder.decoder_blocks.2.mlp.fc1.weight', 'decoder.decoder_blocks.2.mlp.fc1.bias', 'decoder.decoder_blocks.2.mlp.fc2.weight', 'decoder.decoder_blocks.2.mlp.fc2.bias', 'decoder.decoder_blocks.3.norm1.weight', 'decoder.decoder_blocks.3.norm1.bias', 'decoder.decoder_blocks.3.attn.qkv.weight', 'decoder.decoder_blocks.3.attn.qkv.bias', 'decoder.decoder_blocks.3.attn.proj.weight', 'decoder.decoder_blocks.3.attn.proj.bias', 'decoder.decoder_blocks.3.norm2.weight', 'decoder.decoder_blocks.3.norm2.bias', 'decoder.decoder_blocks.3.mlp.fc1.weight', 'decoder.decoder_blocks.3.mlp.fc1.bias', 'decoder.decoder_blocks.3.mlp.fc2.weight', 'decoder.decoder_blocks.3.mlp.fc2.bias', 'decoder.decoder_norm.weight', 'decoder.decoder_norm.bias', 'decoder.decoder_pred.weight', 'decoder.decoder_pred.bias']\n"
     ]
    }
   ],
   "source": [
    "weights_path = \"/kaggle/input/weights-ml4sci-all/best_mae_vit_model_256emb_final.pth\"\n",
    "\n",
    "img_size = 64\n",
    "encoder = load_pretrained_encoder(weights_path, img_size)\n",
    "num_classes = 3\n",
    "model = ClassificationModel(encoder, num_classes)\n"
   ]
  },
  {
   "cell_type": "code",
   "execution_count": 8,
   "metadata": {
    "execution": {
     "iopub.execute_input": "2025-03-26T19:46:11.630124Z",
     "iopub.status.busy": "2025-03-26T19:46:11.629746Z",
     "iopub.status.idle": "2025-03-26T19:46:11.636676Z",
     "shell.execute_reply": "2025-03-26T19:46:11.635444Z",
     "shell.execute_reply.started": "2025-03-26T19:46:11.630091Z"
    },
    "trusted": true
   },
   "outputs": [
    {
     "name": "stdout",
     "output_type": "stream",
     "text": [
      "Total number of train parameters: 265219\n"
     ]
    }
   ],
   "source": [
    "total_params = sum(p.numel() for p in model.parameters() if p.requires_grad)\n",
    "print(f\"Total number of train parameters: {total_params}\")"
   ]
  },
  {
   "cell_type": "code",
   "execution_count": null,
   "metadata": {
    "execution": {
     "iopub.execute_input": "2025-03-26T19:51:35.727904Z",
     "iopub.status.busy": "2025-03-26T19:51:35.727388Z",
     "iopub.status.idle": "2025-03-26T19:51:35.739633Z",
     "shell.execute_reply": "2025-03-26T19:51:35.738571Z",
     "shell.execute_reply.started": "2025-03-26T19:51:35.727783Z"
    },
    "trusted": true
   },
   "outputs": [],
   "source": [
    "import os\n",
    "import numpy as np\n",
    "import torch\n",
    "from torch.utils.data import Dataset, DataLoader\n",
    "from torchvision import transforms\n",
    "\n",
    "class CustomMultiCLassDataset(Dataset):\n",
    "    def __init__(self, root_dir, transform=None):\n",
    "        \"\"\"\n",
    "        Custom Dataset for loading .npy grayscale images organized in class folders.\n",
    "        \n",
    "        Args:\n",
    "            root_dir (string): Directory with all the class subfolders.\n",
    "            transform (callable, optional): Optional transform to be applied on a sample.\n",
    "        \"\"\"\n",
    "        self.root_dir = root_dir\n",
    "        self.transform = transform\n",
    "        \n",
    "        # Get all class folders\n",
    "        self.classes = [d for d in os.listdir(root_dir) if os.path.isdir(os.path.join(root_dir, d))]\n",
    "        self.class_to_idx = {cls_name: i for i, cls_name in enumerate(self.classes)}\n",
    "        \n",
    "        # Create a list of (file_path, class_index) tuples\n",
    "        self.samples = []\n",
    "        for class_name in self.classes:\n",
    "            class_dir = os.path.join(self.root_dir, class_name)\n",
    "            class_idx = self.class_to_idx[class_name]\n",
    "            \n",
    "            for file_name in os.listdir(class_dir):\n",
    "                if file_name.endswith('.npy'):\n",
    "                    self.samples.append((os.path.join(class_dir, file_name), class_idx))\n",
    "    \n",
    "    def __len__(self):\n",
    "        return len(self.samples)\n",
    "    \n",
    "    def __getitem__(self, idx):\n",
    "        img_path, class_idx = self.samples[idx]\n",
    "        \n",
    "        try:\n",
    "            # First try direct loading (works for 'no_sub' and 'cdm')\n",
    "            image = np.load(img_path)\n",
    "            \n",
    "            # If this worked, the file is a direct (64,64) array\n",
    "            if image.shape != (64, 64):\n",
    "                raise ValueError(\"Not the expected shape\")\n",
    "                \n",
    "        except (ValueError, TypeError):\n",
    "            # For 'axion' class with object arrays\n",
    "            data = np.load(img_path, allow_pickle=True)\n",
    "            \n",
    "            # Handle the (2,) object array\n",
    "            if data.shape == (2,) and data.dtype == np.dtype('object'):\n",
    "                # Extract the first element which should be the image\n",
    "                image = data[0]\n",
    "            else:\n",
    "                # Unexpected format - try first element or whole array\n",
    "                try:\n",
    "                    image = data[0]\n",
    "                except:\n",
    "                    image = data\n",
    "        \n",
    "        # Ensure we have a proper float32 array\n",
    "        image = np.asarray(image, dtype=np.float32)/255\n",
    "        \n",
    "        # Add channel dimension: (64, 64) -> (1, 64, 64)\n",
    "        image = image[np.newaxis, :, :]\n",
    "        \n",
    "        # Convert to tensor\n",
    "        # data_point = (image - np.mean(image, axis=(1,2)))/(np.std(image, axis=(1,2)))\n",
    "        image = torch.from_numpy(image).float()\n",
    "        \n",
    "        # Apply transforms\n",
    "        if self.transform:\n",
    "            image = self.transform(image)\n",
    "        \n",
    "        return image, class_idx"
   ]
  },
  {
   "cell_type": "code",
   "execution_count": 14,
   "metadata": {
    "execution": {
     "iopub.execute_input": "2025-03-26T19:51:39.215278Z",
     "iopub.status.busy": "2025-03-26T19:51:39.214901Z",
     "iopub.status.idle": "2025-03-26T19:51:39.394593Z",
     "shell.execute_reply": "2025-03-26T19:51:39.393587Z",
     "shell.execute_reply.started": "2025-03-26T19:51:39.215247Z"
    },
    "trusted": true
   },
   "outputs": [],
   "source": [
    "size = 64\n",
    "\n",
    "transform = None\n",
    "\n",
    "train_path = '/kaggle/input/masked-autoencoder/train'\n",
    "val_path = '/kaggle/input/masked-autoencoder/val'\n",
    "train_dataset = CustomMultiCLassDataset(train_path, transform = transform)\n",
    "val_dataset = CustomMultiCLassDataset(val_path, transform = transform)\n",
    "\n",
    "batch_size = 512\n",
    "\n",
    "# train and test dataloaders\n",
    "train_dataloader = DataLoader(train_dataset, batch_size=batch_size, shuffle=True)\n",
    "test_dataloader = DataLoader(val_dataset, batch_size=batch_size, shuffle=False)  #no shuffle\n"
   ]
  },
  {
   "cell_type": "markdown",
   "metadata": {},
   "source": [
    "## Training"
   ]
  },
  {
   "cell_type": "code",
   "execution_count": 14,
   "metadata": {
    "execution": {
     "iopub.execute_input": "2025-03-23T18:24:09.311062Z",
     "iopub.status.busy": "2025-03-23T18:24:09.310752Z",
     "iopub.status.idle": "2025-03-23T18:24:09.325724Z",
     "shell.execute_reply": "2025-03-23T18:24:09.324869Z",
     "shell.execute_reply.started": "2025-03-23T18:24:09.311034Z"
    },
    "trusted": true
   },
   "outputs": [],
   "source": [
    "import torch\n",
    "import torch.nn as nn\n",
    "import os\n",
    "from tqdm import tqdm\n",
    "\n",
    "\n",
    "def train_model(\n",
    "    model, \n",
    "    train_dataloader, \n",
    "    test_dataloader, \n",
    "    criterion=None, \n",
    "    optimizer=None,\n",
    "    scheduler=None,\n",
    "    num_epochs=100,\n",
    "    save_dir='./save_weights',\n",
    "    log_dir='./logs',\n",
    "    experiment_name=None\n",
    "):\n",
    "    \"\"\"\n",
    "    Training function with configurable criterion and optimizer\n",
    "    \n",
    "    Args:\n",
    "        model: The neural network model to train\n",
    "        train_dataloader: DataLoader for training data\n",
    "        test_dataloader: DataLoader for validation/test data\n",
    "        criterion: Loss function (default: CrossEntropyLoss)\n",
    "        optimizer: Optimizer (default: LARS)\n",
    "        scheduler: Learning rate scheduler (default: CosineAnnealingLR)\n",
    "        num_epochs: Number of training epochs\n",
    "        save_dir: Directory to save model weights\n",
    "        log_dir: Directory to save logs\n",
    "        experiment_name: Name of the experiment (default: timestamp)\n",
    "    \n",
    "    Returns:\n",
    "        model: Trained model\n",
    "        history: Dictionary containing training history\n",
    "    \"\"\"\n",
    "    # Set default criterion if not provided\n",
    "    if criterion is None:\n",
    "        criterion = nn.CrossEntropyLoss()\n",
    "    \n",
    "    # Set default optimizer if not provided\n",
    "    if optimizer is None:\n",
    "        # Get only the parameters that require gradients (exclude frozen layers)\n",
    "        trainable_params = [p for p in model.parameters() if p.requires_grad]\n",
    "        # Initialize LARS optimizer\n",
    "        optimizer = LARS(\n",
    "            trainable_params,\n",
    "            lr=0.01,\n",
    "            momentum=0.9,\n",
    "            weight_decay=1e-4,\n",
    "            trust_coefficient=0.001,\n",
    "            eps=1e-8\n",
    "        )\n",
    "    \n",
    "    # Set default scheduler if not provided\n",
    "    if scheduler is None:\n",
    "        scheduler = torch.optim.lr_scheduler.CosineAnnealingLR(optimizer, T_max=num_epochs)\n",
    "    \n",
    "    # Create experiment name if not provided\n",
    "    if experiment_name is None:\n",
    "        experiment_name = datetime.datetime.now().strftime(\"%Y%m%d_%H%M%S\")\n",
    "    \n",
    "    # Create directories for saving weights and logs\n",
    "    Path(save_dir).mkdir(parents=True, exist_ok=True)\n",
    "    Path(log_dir).mkdir(parents=True, exist_ok=True)\n",
    "    \n",
    "    # Create log file\n",
    "    log_file = os.path.join(log_dir, f\"{experiment_name}.txt\")\n",
    "    \n",
    "    # Save initial config to log\n",
    "    with open(log_file, \"w\") as f:\n",
    "        f.write(f\"Experiment: {experiment_name}\\n\")\n",
    "        f.write(f\"Date: {datetime.datetime.now()}\\n\")\n",
    "        f.write(f\"Model: {model.__class__.__name__}\\n\")\n",
    "        f.write(f\"Criterion: {criterion.__class__.__name__}\\n\")\n",
    "        f.write(f\"Optimizer: {optimizer.__class__.__name__}\\n\")\n",
    "        f.write(f\"Scheduler: {scheduler.__class__.__name__ if scheduler else 'None'}\\n\")\n",
    "        f.write(f\"Epochs: {num_epochs}\\n\")\n",
    "        f.write(\"\\n--- Training Log ---\\n\\n\")\n",
    "    \n",
    "    # Move the model to the GPU if available\n",
    "    device = torch.device(\"cuda:0\" if torch.cuda.is_available() else \"cpu\")\n",
    "    num_gpu = torch.cuda.device_count()\n",
    "    model = model.to(device)\n",
    "    if num_gpu > 1:\n",
    "        model = nn.DataParallel(model)\n",
    "    \n",
    "    # Log the device and GPU info\n",
    "    with open(log_file, \"a\") as f:\n",
    "        f.write(f\"Device: {device}\\n\")\n",
    "        f.write(f\"Number of GPUs: {num_gpu}\\n\\n\")\n",
    "    \n",
    "    # Training history\n",
    "    history = {\n",
    "        \"train_loss\": [],\n",
    "        \"train_acc\": [],\n",
    "        \"val_loss\": [],\n",
    "        \"val_acc\": []\n",
    "    }\n",
    "    \n",
    "    # Training loop\n",
    "    best_accuracy = 0.0\n",
    "    model_save_path = os.path.join(save_dir, f\"{experiment_name}.pth\")\n",
    "    best_model_save_path = os.path.join(save_dir, f\"{experiment_name}_best.pth\")\n",
    "    \n",
    "    for epoch in range(num_epochs):\n",
    "        # Training phase\n",
    "        model.train()\n",
    "        total_train_loss = 0.0\n",
    "        total_train_correct = 0\n",
    "        total_train_samples = 0\n",
    "        train_loader = tqdm(train_dataloader, desc=f\"Epoch {epoch+1}/{num_epochs} [LP]\", leave=True)\n",
    "        \n",
    "        for inputs, labels in train_loader:\n",
    "            inputs, labels = inputs.to(device), labels.to(device)\n",
    "            optimizer.zero_grad()\n",
    "            outputs = model(inputs)\n",
    "            loss = criterion(outputs, labels)\n",
    "            loss.backward()\n",
    "            optimizer.step()\n",
    "            total_train_loss += loss.item()\n",
    "            _, predicted = torch.max(outputs, 1)\n",
    "            total_train_samples += labels.size(0)\n",
    "            total_train_correct += (predicted == labels).sum().item()\n",
    "            train_loader.set_postfix(loss=loss.item())\n",
    "        \n",
    "        # Update scheduler\n",
    "        if scheduler:\n",
    "            scheduler.step()\n",
    "        \n",
    "        # Calculate average training metrics\n",
    "        avg_train_loss = total_train_loss / len(train_dataloader)\n",
    "        train_accuracy = total_train_correct / total_train_samples\n",
    "        \n",
    "        # Validation phase\n",
    "        model.eval()\n",
    "        total_val_loss = 0.0\n",
    "        total_val_correct = 0\n",
    "        total_val_samples = 0\n",
    "        val_loader = tqdm(test_dataloader, desc=f\"Epoch {epoch+1}/{num_epochs} [Validating]\", leave=True)\n",
    "        \n",
    "        with torch.no_grad():\n",
    "            for test_inputs, test_labels in val_loader:\n",
    "                test_inputs, test_labels = test_inputs.to(device), test_labels.to(device)\n",
    "                test_outputs = model(test_inputs)\n",
    "                loss = criterion(test_outputs, test_labels)\n",
    "                total_val_loss += loss.item()\n",
    "                _, predicted = torch.max(test_outputs, 1)\n",
    "                total_val_samples += test_labels.size(0)\n",
    "                total_val_correct += (predicted == test_labels).sum().item()\n",
    "        \n",
    "        # Calculate average validation metrics\n",
    "        avg_val_loss = total_val_loss / len(test_dataloader)\n",
    "        val_accuracy = total_val_correct / total_val_samples\n",
    "        \n",
    "        # Update history\n",
    "        history[\"train_loss\"].append(avg_train_loss)\n",
    "        history[\"train_acc\"].append(train_accuracy)\n",
    "        history[\"val_loss\"].append(avg_val_loss)\n",
    "        history[\"val_acc\"].append(val_accuracy)\n",
    "        \n",
    "        # Print training and validation statistics\n",
    "        log_message = (f\"Epoch {epoch+1}/{num_epochs} - \"\n",
    "                       f\"Train Loss: {avg_train_loss:.4f}, Train Accuracy: {train_accuracy:.2%}, \"\n",
    "                       f\"Validation Loss: {avg_val_loss:.4f}, Validation Accuracy: {val_accuracy:.2%}, \"\n",
    "                       f\"LR: {optimizer.param_groups[0]['lr']:.6f}\")\n",
    "        \n",
    "        print(log_message)\n",
    "        \n",
    "        # Save log\n",
    "        with open(log_file, \"a\") as f:\n",
    "            f.write(log_message + \"\\n\")\n",
    "        \n",
    "        # Save current model\n",
    "        torch.save(model.state_dict(), model_save_path)\n",
    "        \n",
    "        # Save best model\n",
    "        if val_accuracy > best_accuracy:\n",
    "            best_accuracy = val_accuracy\n",
    "            best_epoch = epoch + 1\n",
    "            best_message = f\"\\nSaving best model at Epoch {best_epoch} with Validation Accuracy: {best_accuracy:.2%}\"\n",
    "            print(best_message)\n",
    "            \n",
    "            with open(log_file, \"a\") as f:\n",
    "                f.write(best_message + \"\\n\")\n",
    "                \n",
    "            torch.save(model.state_dict(), best_model_save_path)\n",
    "    \n",
    "    # Save final history to JSON file\n",
    "    history_file = os.path.join(log_dir, f\"{experiment_name}_history.json\")\n",
    "    with open(history_file, 'w') as f:\n",
    "        json.dump(history, f)\n",
    "    \n",
    "    # Final message\n",
    "    final_message = f\"\\nTraining completed. Best validation accuracy: {best_accuracy:.2%} at epoch {best_epoch}\"\n",
    "    print(final_message)\n",
    "    \n",
    "    with open(log_file, \"a\") as f:\n",
    "        f.write(final_message + \"\\n\")\n",
    "    \n",
    "    return model, history"
   ]
  },
  {
   "cell_type": "code",
   "execution_count": null,
   "metadata": {
    "collapsed": true,
    "execution": {
     "iopub.execute_input": "2025-03-23T18:24:15.022021Z",
     "iopub.status.busy": "2025-03-23T18:24:15.021727Z",
     "iopub.status.idle": "2025-03-23T20:54:07.264795Z",
     "shell.execute_reply": "2025-03-23T20:54:07.263217Z",
     "shell.execute_reply.started": "2025-03-23T18:24:15.021995Z"
    },
    "jupyter": {
     "outputs_hidden": true
    },
    "trusted": true
   },
   "outputs": [
    {
     "name": "stderr",
     "output_type": "stream",
     "text": [
      "Epoch 1/100 [LP]: 100%|██████████| 157/157 [13:51<00:00,  5.29s/it, loss=1.15]\n",
      "Epoch 1/100 [Validating]: 100%|██████████| 18/18 [01:21<00:00,  4.55s/it]\n"
     ]
    },
    {
     "name": "stdout",
     "output_type": "stream",
     "text": [
      "Epoch 1/100 - Train Loss: 1.1456, Train Accuracy: 33.96%, Validation Loss: 1.1066, Validation Accuracy: 34.18%, LR: 0.009998\n",
      "\n",
      "Saving best model at Epoch 1 with Validation Accuracy: 34.18%\n"
     ]
    },
    {
     "name": "stderr",
     "output_type": "stream",
     "text": [
      "Epoch 2/100 [LP]: 100%|██████████| 157/157 [01:44<00:00,  1.51it/s, loss=1.11]\n",
      "Epoch 2/100 [Validating]: 100%|██████████| 18/18 [00:10<00:00,  1.72it/s]\n"
     ]
    },
    {
     "name": "stdout",
     "output_type": "stream",
     "text": [
      "Epoch 2/100 - Train Loss: 1.1315, Train Accuracy: 34.12%, Validation Loss: 1.0997, Validation Accuracy: 35.64%, LR: 0.009990\n",
      "\n",
      "Saving best model at Epoch 2 with Validation Accuracy: 35.64%\n"
     ]
    },
    {
     "name": "stderr",
     "output_type": "stream",
     "text": [
      "Epoch 3/100 [LP]: 100%|██████████| 157/157 [01:33<00:00,  1.68it/s, loss=1.14]\n",
      "Epoch 3/100 [Validating]: 100%|██████████| 18/18 [00:10<00:00,  1.72it/s]\n"
     ]
    },
    {
     "name": "stdout",
     "output_type": "stream",
     "text": [
      "Epoch 3/100 - Train Loss: 1.1228, Train Accuracy: 34.63%, Validation Loss: 1.1024, Validation Accuracy: 34.56%, LR: 0.009978\n"
     ]
    },
    {
     "name": "stderr",
     "output_type": "stream",
     "text": [
      "Epoch 4/100 [LP]: 100%|██████████| 157/157 [01:35<00:00,  1.64it/s, loss=1.1] \n",
      "Epoch 4/100 [Validating]: 100%|██████████| 18/18 [00:10<00:00,  1.76it/s]\n"
     ]
    },
    {
     "name": "stdout",
     "output_type": "stream",
     "text": [
      "Epoch 4/100 - Train Loss: 1.1193, Train Accuracy: 34.62%, Validation Loss: 1.0985, Validation Accuracy: 35.44%, LR: 0.009961\n"
     ]
    },
    {
     "name": "stderr",
     "output_type": "stream",
     "text": [
      "Epoch 5/100 [LP]: 100%|██████████| 157/157 [01:34<00:00,  1.66it/s, loss=1.12]\n",
      "Epoch 5/100 [Validating]: 100%|██████████| 18/18 [00:10<00:00,  1.73it/s]\n"
     ]
    },
    {
     "name": "stdout",
     "output_type": "stream",
     "text": [
      "Epoch 5/100 - Train Loss: 1.1174, Train Accuracy: 34.78%, Validation Loss: 1.0960, Validation Accuracy: 36.40%, LR: 0.009938\n",
      "\n",
      "Saving best model at Epoch 5 with Validation Accuracy: 36.40%\n"
     ]
    },
    {
     "name": "stderr",
     "output_type": "stream",
     "text": [
      "Epoch 6/100 [LP]: 100%|██████████| 157/157 [01:36<00:00,  1.63it/s, loss=1.13]\n",
      "Epoch 6/100 [Validating]: 100%|██████████| 18/18 [00:11<00:00,  1.54it/s]\n"
     ]
    },
    {
     "name": "stdout",
     "output_type": "stream",
     "text": [
      "Epoch 6/100 - Train Loss: 1.1162, Train Accuracy: 34.88%, Validation Loss: 1.0954, Validation Accuracy: 36.25%, LR: 0.009911\n"
     ]
    },
    {
     "name": "stderr",
     "output_type": "stream",
     "text": [
      "Epoch 7/100 [LP]: 100%|██████████| 157/157 [01:35<00:00,  1.64it/s, loss=1.12]\n",
      "Epoch 7/100 [Validating]: 100%|██████████| 18/18 [00:10<00:00,  1.73it/s]\n"
     ]
    },
    {
     "name": "stdout",
     "output_type": "stream",
     "text": [
      "Epoch 7/100 - Train Loss: 1.1144, Train Accuracy: 34.93%, Validation Loss: 1.0897, Validation Accuracy: 37.75%, LR: 0.009880\n",
      "\n",
      "Saving best model at Epoch 7 with Validation Accuracy: 37.75%\n"
     ]
    },
    {
     "name": "stderr",
     "output_type": "stream",
     "text": [
      "Epoch 8/100 [LP]: 100%|██████████| 157/157 [01:37<00:00,  1.62it/s, loss=1.1] \n",
      "Epoch 8/100 [Validating]: 100%|██████████| 18/18 [00:10<00:00,  1.74it/s]\n"
     ]
    },
    {
     "name": "stdout",
     "output_type": "stream",
     "text": [
      "Epoch 8/100 - Train Loss: 1.1131, Train Accuracy: 35.07%, Validation Loss: 1.0920, Validation Accuracy: 36.65%, LR: 0.009843\n"
     ]
    },
    {
     "name": "stderr",
     "output_type": "stream",
     "text": [
      "Epoch 9/100 [LP]: 100%|██████████| 157/157 [01:42<00:00,  1.53it/s, loss=1.12]\n",
      "Epoch 9/100 [Validating]: 100%|██████████| 18/18 [00:11<00:00,  1.54it/s]\n"
     ]
    },
    {
     "name": "stdout",
     "output_type": "stream",
     "text": [
      "Epoch 9/100 - Train Loss: 1.1111, Train Accuracy: 35.18%, Validation Loss: 1.0929, Validation Accuracy: 37.85%, LR: 0.009801\n",
      "\n",
      "Saving best model at Epoch 9 with Validation Accuracy: 37.85%\n"
     ]
    },
    {
     "name": "stderr",
     "output_type": "stream",
     "text": [
      "Epoch 10/100 [LP]: 100%|██████████| 157/157 [01:41<00:00,  1.55it/s, loss=1.12]\n",
      "Epoch 10/100 [Validating]: 100%|██████████| 18/18 [00:11<00:00,  1.55it/s]\n"
     ]
    },
    {
     "name": "stdout",
     "output_type": "stream",
     "text": [
      "Epoch 10/100 - Train Loss: 1.1085, Train Accuracy: 35.52%, Validation Loss: 1.0923, Validation Accuracy: 37.52%, LR: 0.009755\n"
     ]
    },
    {
     "name": "stderr",
     "output_type": "stream",
     "text": [
      "Epoch 11/100 [LP]: 100%|██████████| 157/157 [01:37<00:00,  1.61it/s, loss=1.12]\n",
      "Epoch 11/100 [Validating]: 100%|██████████| 18/18 [00:10<00:00,  1.72it/s]\n"
     ]
    },
    {
     "name": "stdout",
     "output_type": "stream",
     "text": [
      "Epoch 11/100 - Train Loss: 1.1093, Train Accuracy: 35.73%, Validation Loss: 1.0927, Validation Accuracy: 36.56%, LR: 0.009704\n"
     ]
    },
    {
     "name": "stderr",
     "output_type": "stream",
     "text": [
      "Epoch 12/100 [LP]: 100%|██████████| 157/157 [01:37<00:00,  1.61it/s, loss=1.11]\n",
      "Epoch 12/100 [Validating]: 100%|██████████| 18/18 [00:11<00:00,  1.59it/s]\n"
     ]
    },
    {
     "name": "stdout",
     "output_type": "stream",
     "text": [
      "Epoch 12/100 - Train Loss: 1.1068, Train Accuracy: 35.90%, Validation Loss: 1.0906, Validation Accuracy: 38.60%, LR: 0.009649\n",
      "\n",
      "Saving best model at Epoch 12 with Validation Accuracy: 38.60%\n"
     ]
    },
    {
     "name": "stderr",
     "output_type": "stream",
     "text": [
      "Epoch 13/100 [LP]: 100%|██████████| 157/157 [01:38<00:00,  1.59it/s, loss=1.1] \n",
      "Epoch 13/100 [Validating]: 100%|██████████| 18/18 [00:11<00:00,  1.53it/s]\n"
     ]
    },
    {
     "name": "stdout",
     "output_type": "stream",
     "text": [
      "Epoch 13/100 - Train Loss: 1.1059, Train Accuracy: 35.92%, Validation Loss: 1.0897, Validation Accuracy: 38.35%, LR: 0.009589\n"
     ]
    },
    {
     "name": "stderr",
     "output_type": "stream",
     "text": [
      "Epoch 14/100 [LP]: 100%|██████████| 157/157 [01:45<00:00,  1.49it/s, loss=1.1] \n",
      "Epoch 14/100 [Validating]: 100%|██████████| 18/18 [00:11<00:00,  1.52it/s]\n"
     ]
    },
    {
     "name": "stdout",
     "output_type": "stream",
     "text": [
      "Epoch 14/100 - Train Loss: 1.1051, Train Accuracy: 36.03%, Validation Loss: 1.0910, Validation Accuracy: 37.92%, LR: 0.009524\n"
     ]
    },
    {
     "name": "stderr",
     "output_type": "stream",
     "text": [
      "Epoch 15/100 [LP]: 100%|██████████| 157/157 [01:49<00:00,  1.43it/s, loss=1.1] \n",
      "Epoch 15/100 [Validating]: 100%|██████████| 18/18 [00:11<00:00,  1.53it/s]\n"
     ]
    },
    {
     "name": "stdout",
     "output_type": "stream",
     "text": [
      "Epoch 15/100 - Train Loss: 1.1052, Train Accuracy: 36.11%, Validation Loss: 1.0924, Validation Accuracy: 36.67%, LR: 0.009455\n"
     ]
    },
    {
     "name": "stderr",
     "output_type": "stream",
     "text": [
      "Epoch 16/100 [LP]: 100%|██████████| 157/157 [01:48<00:00,  1.44it/s, loss=1.11]\n",
      "Epoch 16/100 [Validating]: 100%|██████████| 18/18 [00:11<00:00,  1.63it/s]\n"
     ]
    },
    {
     "name": "stdout",
     "output_type": "stream",
     "text": [
      "Epoch 16/100 - Train Loss: 1.1050, Train Accuracy: 35.89%, Validation Loss: 1.0894, Validation Accuracy: 37.81%, LR: 0.009382\n"
     ]
    },
    {
     "name": "stderr",
     "output_type": "stream",
     "text": [
      "Epoch 17/100 [LP]: 100%|██████████| 157/157 [01:38<00:00,  1.59it/s, loss=1.12]\n",
      "Epoch 17/100 [Validating]: 100%|██████████| 18/18 [00:10<00:00,  1.72it/s]\n"
     ]
    },
    {
     "name": "stdout",
     "output_type": "stream",
     "text": [
      "Epoch 17/100 - Train Loss: 1.1055, Train Accuracy: 35.90%, Validation Loss: 1.0916, Validation Accuracy: 37.07%, LR: 0.009304\n"
     ]
    },
    {
     "name": "stderr",
     "output_type": "stream",
     "text": [
      "Epoch 18/100 [LP]: 100%|██████████| 157/157 [01:36<00:00,  1.63it/s, loss=1.12]\n",
      "Epoch 18/100 [Validating]: 100%|██████████| 18/18 [00:10<00:00,  1.72it/s]\n"
     ]
    },
    {
     "name": "stdout",
     "output_type": "stream",
     "text": [
      "Epoch 18/100 - Train Loss: 1.1040, Train Accuracy: 36.12%, Validation Loss: 1.0893, Validation Accuracy: 38.27%, LR: 0.009222\n"
     ]
    },
    {
     "name": "stderr",
     "output_type": "stream",
     "text": [
      "Epoch 19/100 [LP]: 100%|██████████| 157/157 [01:40<00:00,  1.57it/s, loss=1.11]\n",
      "Epoch 19/100 [Validating]: 100%|██████████| 18/18 [00:10<00:00,  1.70it/s]\n"
     ]
    },
    {
     "name": "stdout",
     "output_type": "stream",
     "text": [
      "Epoch 19/100 - Train Loss: 1.1031, Train Accuracy: 36.16%, Validation Loss: 1.0909, Validation Accuracy: 37.47%, LR: 0.009135\n"
     ]
    },
    {
     "name": "stderr",
     "output_type": "stream",
     "text": [
      "Epoch 20/100 [LP]: 100%|██████████| 157/157 [01:42<00:00,  1.53it/s, loss=1.12]\n",
      "Epoch 20/100 [Validating]: 100%|██████████| 18/18 [00:10<00:00,  1.66it/s]\n"
     ]
    },
    {
     "name": "stdout",
     "output_type": "stream",
     "text": [
      "Epoch 20/100 - Train Loss: 1.1015, Train Accuracy: 36.29%, Validation Loss: 1.0888, Validation Accuracy: 37.29%, LR: 0.009045\n"
     ]
    },
    {
     "name": "stderr",
     "output_type": "stream",
     "text": [
      "Epoch 21/100 [LP]: 100%|██████████| 157/157 [01:37<00:00,  1.61it/s, loss=1.1] \n",
      "Epoch 21/100 [Validating]: 100%|██████████| 18/18 [00:12<00:00,  1.48it/s]\n"
     ]
    },
    {
     "name": "stdout",
     "output_type": "stream",
     "text": [
      "Epoch 21/100 - Train Loss: 1.1009, Train Accuracy: 36.61%, Validation Loss: 1.0917, Validation Accuracy: 37.01%, LR: 0.008951\n"
     ]
    },
    {
     "name": "stderr",
     "output_type": "stream",
     "text": [
      "Epoch 22/100 [LP]: 100%|██████████| 157/157 [01:38<00:00,  1.59it/s, loss=1.12]\n",
      "Epoch 22/100 [Validating]: 100%|██████████| 18/18 [00:10<00:00,  1.68it/s]\n"
     ]
    },
    {
     "name": "stdout",
     "output_type": "stream",
     "text": [
      "Epoch 22/100 - Train Loss: 1.1018, Train Accuracy: 36.19%, Validation Loss: 1.0895, Validation Accuracy: 36.74%, LR: 0.008853\n"
     ]
    },
    {
     "name": "stderr",
     "output_type": "stream",
     "text": [
      "Epoch 23/100 [LP]: 100%|██████████| 157/157 [01:38<00:00,  1.60it/s, loss=1.09]\n",
      "Epoch 23/100 [Validating]: 100%|██████████| 18/18 [00:10<00:00,  1.69it/s]\n"
     ]
    },
    {
     "name": "stdout",
     "output_type": "stream",
     "text": [
      "Epoch 23/100 - Train Loss: 1.1013, Train Accuracy: 36.34%, Validation Loss: 1.0876, Validation Accuracy: 38.60%, LR: 0.008751\n"
     ]
    },
    {
     "name": "stderr",
     "output_type": "stream",
     "text": [
      "Epoch 24/100 [LP]: 100%|██████████| 157/157 [01:41<00:00,  1.54it/s, loss=1.08]\n",
      "Epoch 24/100 [Validating]: 100%|██████████| 18/18 [00:12<00:00,  1.39it/s]\n"
     ]
    },
    {
     "name": "stdout",
     "output_type": "stream",
     "text": [
      "Epoch 24/100 - Train Loss: 1.1000, Train Accuracy: 36.37%, Validation Loss: 1.0889, Validation Accuracy: 37.82%, LR: 0.008645\n"
     ]
    },
    {
     "name": "stderr",
     "output_type": "stream",
     "text": [
      "Epoch 25/100 [LP]: 100%|██████████| 157/157 [01:47<00:00,  1.46it/s, loss=1.1] \n",
      "Epoch 25/100 [Validating]: 100%|██████████| 18/18 [00:12<00:00,  1.46it/s]\n"
     ]
    },
    {
     "name": "stdout",
     "output_type": "stream",
     "text": [
      "Epoch 25/100 - Train Loss: 1.0988, Train Accuracy: 36.75%, Validation Loss: 1.0889, Validation Accuracy: 37.77%, LR: 0.008536\n"
     ]
    },
    {
     "name": "stderr",
     "output_type": "stream",
     "text": [
      "Epoch 26/100 [LP]: 100%|██████████| 157/157 [01:51<00:00,  1.41it/s, loss=1.1] \n",
      "Epoch 26/100 [Validating]: 100%|██████████| 18/18 [00:12<00:00,  1.47it/s]\n"
     ]
    },
    {
     "name": "stdout",
     "output_type": "stream",
     "text": [
      "Epoch 26/100 - Train Loss: 1.0985, Train Accuracy: 37.03%, Validation Loss: 1.0886, Validation Accuracy: 38.51%, LR: 0.008423\n"
     ]
    },
    {
     "name": "stderr",
     "output_type": "stream",
     "text": [
      "Epoch 27/100 [LP]: 100%|██████████| 157/157 [01:46<00:00,  1.47it/s, loss=1.08]\n",
      "Epoch 27/100 [Validating]: 100%|██████████| 18/18 [00:11<00:00,  1.61it/s]\n"
     ]
    },
    {
     "name": "stdout",
     "output_type": "stream",
     "text": [
      "Epoch 27/100 - Train Loss: 1.0980, Train Accuracy: 36.93%, Validation Loss: 1.0900, Validation Accuracy: 37.43%, LR: 0.008307\n"
     ]
    },
    {
     "name": "stderr",
     "output_type": "stream",
     "text": [
      "Epoch 28/100 [LP]: 100%|██████████| 157/157 [01:35<00:00,  1.64it/s, loss=1.1] \n",
      "Epoch 28/100 [Validating]: 100%|██████████| 18/18 [00:10<00:00,  1.76it/s]\n"
     ]
    },
    {
     "name": "stdout",
     "output_type": "stream",
     "text": [
      "Epoch 28/100 - Train Loss: 1.0984, Train Accuracy: 36.82%, Validation Loss: 1.0856, Validation Accuracy: 39.13%, LR: 0.008187\n",
      "\n",
      "Saving best model at Epoch 28 with Validation Accuracy: 39.13%\n"
     ]
    },
    {
     "name": "stderr",
     "output_type": "stream",
     "text": [
      "Epoch 29/100 [LP]: 100%|██████████| 157/157 [01:34<00:00,  1.65it/s, loss=1.07]\n",
      "Epoch 29/100 [Validating]: 100%|██████████| 18/18 [00:10<00:00,  1.71it/s]\n"
     ]
    },
    {
     "name": "stdout",
     "output_type": "stream",
     "text": [
      "Epoch 29/100 - Train Loss: 1.0975, Train Accuracy: 36.95%, Validation Loss: 1.0876, Validation Accuracy: 37.29%, LR: 0.008065\n"
     ]
    },
    {
     "name": "stderr",
     "output_type": "stream",
     "text": [
      "Epoch 30/100 [LP]: 100%|██████████| 157/157 [01:36<00:00,  1.63it/s, loss=1.1] \n",
      "Epoch 30/100 [Validating]: 100%|██████████| 18/18 [00:10<00:00,  1.71it/s]\n"
     ]
    },
    {
     "name": "stdout",
     "output_type": "stream",
     "text": [
      "Epoch 30/100 - Train Loss: 1.0977, Train Accuracy: 36.90%, Validation Loss: 1.0851, Validation Accuracy: 38.60%, LR: 0.007939\n"
     ]
    },
    {
     "name": "stderr",
     "output_type": "stream",
     "text": [
      "Epoch 31/100 [LP]: 100%|██████████| 157/157 [01:35<00:00,  1.65it/s, loss=1.09]\n",
      "Epoch 31/100 [Validating]: 100%|██████████| 18/18 [00:10<00:00,  1.78it/s]\n"
     ]
    },
    {
     "name": "stdout",
     "output_type": "stream",
     "text": [
      "Epoch 31/100 - Train Loss: 1.0971, Train Accuracy: 37.02%, Validation Loss: 1.0849, Validation Accuracy: 39.80%, LR: 0.007810\n",
      "\n",
      "Saving best model at Epoch 31 with Validation Accuracy: 39.80%\n"
     ]
    },
    {
     "name": "stderr",
     "output_type": "stream",
     "text": [
      "Epoch 32/100 [LP]: 100%|██████████| 157/157 [01:35<00:00,  1.65it/s, loss=1.08]\n",
      "Epoch 32/100 [Validating]: 100%|██████████| 18/18 [00:10<00:00,  1.76it/s]\n"
     ]
    },
    {
     "name": "stdout",
     "output_type": "stream",
     "text": [
      "Epoch 32/100 - Train Loss: 1.0976, Train Accuracy: 36.84%, Validation Loss: 1.0843, Validation Accuracy: 39.34%, LR: 0.007679\n"
     ]
    },
    {
     "name": "stderr",
     "output_type": "stream",
     "text": [
      "Epoch 33/100 [LP]: 100%|██████████| 157/157 [01:39<00:00,  1.57it/s, loss=1.11]\n",
      "Epoch 33/100 [Validating]: 100%|██████████| 18/18 [00:10<00:00,  1.72it/s]\n"
     ]
    },
    {
     "name": "stdout",
     "output_type": "stream",
     "text": [
      "Epoch 33/100 - Train Loss: 1.0965, Train Accuracy: 37.09%, Validation Loss: 1.0910, Validation Accuracy: 37.84%, LR: 0.007545\n"
     ]
    },
    {
     "name": "stderr",
     "output_type": "stream",
     "text": [
      "Epoch 34/100 [LP]: 100%|██████████| 157/157 [01:38<00:00,  1.59it/s, loss=1.11]\n",
      "Epoch 34/100 [Validating]: 100%|██████████| 18/18 [00:10<00:00,  1.75it/s]\n"
     ]
    },
    {
     "name": "stdout",
     "output_type": "stream",
     "text": [
      "Epoch 34/100 - Train Loss: 1.0967, Train Accuracy: 37.13%, Validation Loss: 1.0838, Validation Accuracy: 39.85%, LR: 0.007409\n",
      "\n",
      "Saving best model at Epoch 34 with Validation Accuracy: 39.85%\n"
     ]
    },
    {
     "name": "stderr",
     "output_type": "stream",
     "text": [
      "Epoch 35/100 [LP]: 100%|██████████| 157/157 [01:35<00:00,  1.64it/s, loss=1.09]\n",
      "Epoch 35/100 [Validating]: 100%|██████████| 18/18 [00:10<00:00,  1.68it/s]\n"
     ]
    },
    {
     "name": "stdout",
     "output_type": "stream",
     "text": [
      "Epoch 35/100 - Train Loss: 1.0962, Train Accuracy: 37.30%, Validation Loss: 1.0872, Validation Accuracy: 38.75%, LR: 0.007270\n"
     ]
    },
    {
     "name": "stderr",
     "output_type": "stream",
     "text": [
      "Epoch 36/100 [LP]: 100%|██████████| 157/157 [01:35<00:00,  1.64it/s, loss=1.11]\n",
      "Epoch 36/100 [Validating]: 100%|██████████| 18/18 [00:10<00:00,  1.80it/s]\n"
     ]
    },
    {
     "name": "stdout",
     "output_type": "stream",
     "text": [
      "Epoch 36/100 - Train Loss: 1.0973, Train Accuracy: 37.09%, Validation Loss: 1.0840, Validation Accuracy: 39.27%, LR: 0.007129\n"
     ]
    },
    {
     "name": "stderr",
     "output_type": "stream",
     "text": [
      "Epoch 37/100 [LP]: 100%|██████████| 157/157 [01:35<00:00,  1.64it/s, loss=1.1] \n",
      "Epoch 37/100 [Validating]: 100%|██████████| 18/18 [00:10<00:00,  1.75it/s]\n"
     ]
    },
    {
     "name": "stdout",
     "output_type": "stream",
     "text": [
      "Epoch 37/100 - Train Loss: 1.0955, Train Accuracy: 37.03%, Validation Loss: 1.0843, Validation Accuracy: 39.10%, LR: 0.006986\n"
     ]
    },
    {
     "name": "stderr",
     "output_type": "stream",
     "text": [
      "Epoch 38/100 [LP]: 100%|██████████| 157/157 [01:37<00:00,  1.60it/s, loss=1.09]\n",
      "Epoch 38/100 [Validating]: 100%|██████████| 18/18 [00:10<00:00,  1.77it/s]\n"
     ]
    },
    {
     "name": "stdout",
     "output_type": "stream",
     "text": [
      "Epoch 38/100 - Train Loss: 1.0955, Train Accuracy: 37.09%, Validation Loss: 1.0834, Validation Accuracy: 38.92%, LR: 0.006841\n"
     ]
    },
    {
     "name": "stderr",
     "output_type": "stream",
     "text": [
      "Epoch 39/100 [LP]: 100%|██████████| 157/157 [01:35<00:00,  1.65it/s, loss=1.11]\n",
      "Epoch 39/100 [Validating]: 100%|██████████| 18/18 [00:10<00:00,  1.70it/s]\n"
     ]
    },
    {
     "name": "stdout",
     "output_type": "stream",
     "text": [
      "Epoch 39/100 - Train Loss: 1.0960, Train Accuracy: 36.89%, Validation Loss: 1.0854, Validation Accuracy: 38.86%, LR: 0.006694\n"
     ]
    },
    {
     "name": "stderr",
     "output_type": "stream",
     "text": [
      "Epoch 40/100 [LP]: 100%|██████████| 157/157 [01:37<00:00,  1.61it/s, loss=1.1] \n",
      "Epoch 40/100 [Validating]: 100%|██████████| 18/18 [00:10<00:00,  1.73it/s]\n"
     ]
    },
    {
     "name": "stdout",
     "output_type": "stream",
     "text": [
      "Epoch 40/100 - Train Loss: 1.0945, Train Accuracy: 37.19%, Validation Loss: 1.0869, Validation Accuracy: 38.35%, LR: 0.006545\n"
     ]
    },
    {
     "name": "stderr",
     "output_type": "stream",
     "text": [
      "Epoch 41/100 [LP]: 100%|██████████| 157/157 [01:36<00:00,  1.63it/s, loss=1.1] \n",
      "Epoch 41/100 [Validating]: 100%|██████████| 18/18 [00:10<00:00,  1.70it/s]\n"
     ]
    },
    {
     "name": "stdout",
     "output_type": "stream",
     "text": [
      "Epoch 41/100 - Train Loss: 1.0953, Train Accuracy: 37.24%, Validation Loss: 1.0848, Validation Accuracy: 38.78%, LR: 0.006395\n"
     ]
    },
    {
     "name": "stderr",
     "output_type": "stream",
     "text": [
      "Epoch 42/100 [LP]: 100%|██████████| 157/157 [01:39<00:00,  1.58it/s, loss=1.09]\n",
      "Epoch 42/100 [Validating]: 100%|██████████| 18/18 [00:10<00:00,  1.74it/s]\n"
     ]
    },
    {
     "name": "stdout",
     "output_type": "stream",
     "text": [
      "Epoch 42/100 - Train Loss: 1.0943, Train Accuracy: 37.43%, Validation Loss: 1.0884, Validation Accuracy: 38.55%, LR: 0.006243\n"
     ]
    },
    {
     "name": "stderr",
     "output_type": "stream",
     "text": [
      "Epoch 43/100 [LP]: 100%|██████████| 157/157 [01:35<00:00,  1.64it/s, loss=1.09]\n",
      "Epoch 43/100 [Validating]: 100%|██████████| 18/18 [00:10<00:00,  1.64it/s]\n"
     ]
    },
    {
     "name": "stdout",
     "output_type": "stream",
     "text": [
      "Epoch 43/100 - Train Loss: 1.0943, Train Accuracy: 37.40%, Validation Loss: 1.0836, Validation Accuracy: 39.55%, LR: 0.006091\n"
     ]
    },
    {
     "name": "stderr",
     "output_type": "stream",
     "text": [
      "Epoch 44/100 [LP]: 100%|██████████| 157/157 [01:39<00:00,  1.57it/s, loss=1.1] \n",
      "Epoch 44/100 [Validating]: 100%|██████████| 18/18 [00:10<00:00,  1.66it/s]\n"
     ]
    },
    {
     "name": "stdout",
     "output_type": "stream",
     "text": [
      "Epoch 44/100 - Train Loss: 1.0944, Train Accuracy: 37.28%, Validation Loss: 1.0850, Validation Accuracy: 38.53%, LR: 0.005937\n"
     ]
    },
    {
     "name": "stderr",
     "output_type": "stream",
     "text": [
      "Epoch 45/100 [LP]: 100%|██████████| 157/157 [01:39<00:00,  1.57it/s, loss=1.09]\n",
      "Epoch 45/100 [Validating]: 100%|██████████| 18/18 [00:10<00:00,  1.66it/s]\n"
     ]
    },
    {
     "name": "stdout",
     "output_type": "stream",
     "text": [
      "Epoch 45/100 - Train Loss: 1.0941, Train Accuracy: 37.34%, Validation Loss: 1.0842, Validation Accuracy: 38.78%, LR: 0.005782\n"
     ]
    },
    {
     "name": "stderr",
     "output_type": "stream",
     "text": [
      "Epoch 46/100 [LP]: 100%|██████████| 157/157 [01:41<00:00,  1.54it/s, loss=1.11]\n",
      "Epoch 46/100 [Validating]: 100%|██████████| 18/18 [00:10<00:00,  1.71it/s]\n"
     ]
    },
    {
     "name": "stdout",
     "output_type": "stream",
     "text": [
      "Epoch 46/100 - Train Loss: 1.0951, Train Accuracy: 37.07%, Validation Loss: 1.0876, Validation Accuracy: 38.77%, LR: 0.005627\n"
     ]
    },
    {
     "name": "stderr",
     "output_type": "stream",
     "text": [
      "Epoch 47/100 [LP]: 100%|██████████| 157/157 [01:43<00:00,  1.52it/s, loss=1.09]\n",
      "Epoch 47/100 [Validating]: 100%|██████████| 18/18 [00:11<00:00,  1.54it/s]\n"
     ]
    },
    {
     "name": "stdout",
     "output_type": "stream",
     "text": [
      "Epoch 47/100 - Train Loss: 1.0933, Train Accuracy: 37.78%, Validation Loss: 1.0839, Validation Accuracy: 39.64%, LR: 0.005471\n"
     ]
    },
    {
     "name": "stderr",
     "output_type": "stream",
     "text": [
      "Epoch 48/100 [LP]: 100%|██████████| 157/157 [01:41<00:00,  1.54it/s, loss=1.11]\n",
      "Epoch 48/100 [Validating]: 100%|██████████| 18/18 [00:10<00:00,  1.71it/s]\n"
     ]
    },
    {
     "name": "stdout",
     "output_type": "stream",
     "text": [
      "Epoch 48/100 - Train Loss: 1.0933, Train Accuracy: 37.41%, Validation Loss: 1.0843, Validation Accuracy: 38.82%, LR: 0.005314\n"
     ]
    },
    {
     "name": "stderr",
     "output_type": "stream",
     "text": [
      "Epoch 49/100 [LP]: 100%|██████████| 157/157 [01:37<00:00,  1.60it/s, loss=1.08]\n",
      "Epoch 49/100 [Validating]: 100%|██████████| 18/18 [00:10<00:00,  1.79it/s]\n"
     ]
    },
    {
     "name": "stdout",
     "output_type": "stream",
     "text": [
      "Epoch 49/100 - Train Loss: 1.0933, Train Accuracy: 37.28%, Validation Loss: 1.0835, Validation Accuracy: 39.49%, LR: 0.005157\n"
     ]
    },
    {
     "name": "stderr",
     "output_type": "stream",
     "text": [
      "Epoch 50/100 [LP]: 100%|██████████| 157/157 [01:33<00:00,  1.68it/s, loss=1.09]\n",
      "Epoch 50/100 [Validating]: 100%|██████████| 18/18 [00:10<00:00,  1.76it/s]\n"
     ]
    },
    {
     "name": "stdout",
     "output_type": "stream",
     "text": [
      "Epoch 50/100 - Train Loss: 1.0935, Train Accuracy: 37.59%, Validation Loss: 1.0843, Validation Accuracy: 39.13%, LR: 0.005000\n"
     ]
    },
    {
     "name": "stderr",
     "output_type": "stream",
     "text": [
      "Epoch 51/100 [LP]: 100%|██████████| 157/157 [01:33<00:00,  1.68it/s, loss=1.1] \n",
      "Epoch 51/100 [Validating]: 100%|██████████| 18/18 [00:10<00:00,  1.73it/s]\n"
     ]
    },
    {
     "name": "stdout",
     "output_type": "stream",
     "text": [
      "Epoch 51/100 - Train Loss: 1.0936, Train Accuracy: 37.41%, Validation Loss: 1.0858, Validation Accuracy: 38.91%, LR: 0.004843\n"
     ]
    },
    {
     "name": "stderr",
     "output_type": "stream",
     "text": [
      "Epoch 52/100 [LP]: 100%|██████████| 157/157 [01:38<00:00,  1.60it/s, loss=1.1] \n",
      "Epoch 52/100 [Validating]: 100%|██████████| 18/18 [00:10<00:00,  1.69it/s]\n"
     ]
    },
    {
     "name": "stdout",
     "output_type": "stream",
     "text": [
      "Epoch 52/100 - Train Loss: 1.0931, Train Accuracy: 37.62%, Validation Loss: 1.0837, Validation Accuracy: 38.84%, LR: 0.004686\n"
     ]
    },
    {
     "name": "stderr",
     "output_type": "stream",
     "text": [
      "Epoch 53/100 [LP]: 100%|██████████| 157/157 [01:40<00:00,  1.56it/s, loss=1.08]\n",
      "Epoch 53/100 [Validating]: 100%|██████████| 18/18 [00:10<00:00,  1.64it/s]\n"
     ]
    },
    {
     "name": "stdout",
     "output_type": "stream",
     "text": [
      "Epoch 53/100 - Train Loss: 1.0929, Train Accuracy: 37.65%, Validation Loss: 1.0839, Validation Accuracy: 39.50%, LR: 0.004529\n"
     ]
    },
    {
     "name": "stderr",
     "output_type": "stream",
     "text": [
      "Epoch 54/100 [LP]: 100%|██████████| 157/157 [01:41<00:00,  1.54it/s, loss=1.07]\n",
      "Epoch 54/100 [Validating]: 100%|██████████| 18/18 [00:10<00:00,  1.65it/s]\n"
     ]
    },
    {
     "name": "stdout",
     "output_type": "stream",
     "text": [
      "Epoch 54/100 - Train Loss: 1.0930, Train Accuracy: 37.52%, Validation Loss: 1.0835, Validation Accuracy: 39.64%, LR: 0.004373\n"
     ]
    },
    {
     "name": "stderr",
     "output_type": "stream",
     "text": [
      "Epoch 55/100 [LP]: 100%|██████████| 157/157 [01:42<00:00,  1.54it/s, loss=1.1] \n",
      "Epoch 55/100 [Validating]: 100%|██████████| 18/18 [00:11<00:00,  1.53it/s]\n"
     ]
    },
    {
     "name": "stdout",
     "output_type": "stream",
     "text": [
      "Epoch 55/100 - Train Loss: 1.0923, Train Accuracy: 37.62%, Validation Loss: 1.0843, Validation Accuracy: 39.37%, LR: 0.004218\n"
     ]
    },
    {
     "name": "stderr",
     "output_type": "stream",
     "text": [
      "Epoch 56/100 [LP]: 100%|██████████| 157/157 [01:38<00:00,  1.60it/s, loss=1.09]\n",
      "Epoch 56/100 [Validating]: 100%|██████████| 18/18 [00:10<00:00,  1.75it/s]\n"
     ]
    },
    {
     "name": "stdout",
     "output_type": "stream",
     "text": [
      "Epoch 56/100 - Train Loss: 1.0912, Train Accuracy: 37.87%, Validation Loss: 1.0854, Validation Accuracy: 39.46%, LR: 0.004063\n"
     ]
    },
    {
     "name": "stderr",
     "output_type": "stream",
     "text": [
      "Epoch 57/100 [LP]: 100%|██████████| 157/157 [01:35<00:00,  1.65it/s, loss=1.1] \n",
      "Epoch 57/100 [Validating]: 100%|██████████| 18/18 [00:10<00:00,  1.71it/s]\n"
     ]
    },
    {
     "name": "stdout",
     "output_type": "stream",
     "text": [
      "Epoch 57/100 - Train Loss: 1.0908, Train Accuracy: 37.68%, Validation Loss: 1.0847, Validation Accuracy: 38.82%, LR: 0.003909\n"
     ]
    },
    {
     "name": "stderr",
     "output_type": "stream",
     "text": [
      "Epoch 58/100 [LP]: 100%|██████████| 157/157 [01:36<00:00,  1.62it/s, loss=1.09]\n",
      "Epoch 58/100 [Validating]: 100%|██████████| 18/18 [00:10<00:00,  1.77it/s]\n"
     ]
    },
    {
     "name": "stdout",
     "output_type": "stream",
     "text": [
      "Epoch 58/100 - Train Loss: 1.0904, Train Accuracy: 38.03%, Validation Loss: 1.0835, Validation Accuracy: 39.05%, LR: 0.003757\n"
     ]
    },
    {
     "name": "stderr",
     "output_type": "stream",
     "text": [
      "Epoch 59/100 [LP]: 100%|██████████| 157/157 [01:36<00:00,  1.62it/s, loss=1.1] \n",
      "Epoch 59/100 [Validating]: 100%|██████████| 18/18 [00:10<00:00,  1.70it/s]\n"
     ]
    },
    {
     "name": "stdout",
     "output_type": "stream",
     "text": [
      "Epoch 59/100 - Train Loss: 1.0920, Train Accuracy: 37.66%, Validation Loss: 1.0816, Validation Accuracy: 40.23%, LR: 0.003605\n",
      "\n",
      "Saving best model at Epoch 59 with Validation Accuracy: 40.23%\n"
     ]
    },
    {
     "name": "stderr",
     "output_type": "stream",
     "text": [
      "Epoch 60/100 [LP]: 100%|██████████| 157/157 [01:39<00:00,  1.57it/s, loss=1.09]\n",
      "Epoch 60/100 [Validating]: 100%|██████████| 18/18 [00:10<00:00,  1.73it/s]\n"
     ]
    },
    {
     "name": "stdout",
     "output_type": "stream",
     "text": [
      "Epoch 60/100 - Train Loss: 1.0920, Train Accuracy: 37.66%, Validation Loss: 1.0838, Validation Accuracy: 38.65%, LR: 0.003455\n"
     ]
    },
    {
     "name": "stderr",
     "output_type": "stream",
     "text": [
      "Epoch 61/100 [LP]: 100%|██████████| 157/157 [01:37<00:00,  1.61it/s, loss=1.08]\n",
      "Epoch 61/100 [Validating]: 100%|██████████| 18/18 [00:10<00:00,  1.65it/s]\n"
     ]
    },
    {
     "name": "stdout",
     "output_type": "stream",
     "text": [
      "Epoch 61/100 - Train Loss: 1.0925, Train Accuracy: 37.69%, Validation Loss: 1.0858, Validation Accuracy: 38.47%, LR: 0.003306\n"
     ]
    },
    {
     "name": "stderr",
     "output_type": "stream",
     "text": [
      "Epoch 62/100 [LP]: 100%|██████████| 157/157 [01:37<00:00,  1.61it/s, loss=1.11]\n",
      "Epoch 62/100 [Validating]: 100%|██████████| 18/18 [00:11<00:00,  1.63it/s]\n"
     ]
    },
    {
     "name": "stdout",
     "output_type": "stream",
     "text": [
      "Epoch 62/100 - Train Loss: 1.0918, Train Accuracy: 37.75%, Validation Loss: 1.0872, Validation Accuracy: 39.24%, LR: 0.003159\n"
     ]
    },
    {
     "name": "stderr",
     "output_type": "stream",
     "text": [
      "Epoch 63/100 [LP]: 100%|██████████| 157/157 [01:37<00:00,  1.62it/s, loss=1.08]\n",
      "Epoch 63/100 [Validating]: 100%|██████████| 18/18 [00:10<00:00,  1.75it/s]\n"
     ]
    },
    {
     "name": "stdout",
     "output_type": "stream",
     "text": [
      "Epoch 63/100 - Train Loss: 1.0917, Train Accuracy: 37.85%, Validation Loss: 1.0837, Validation Accuracy: 38.88%, LR: 0.003014\n"
     ]
    },
    {
     "name": "stderr",
     "output_type": "stream",
     "text": [
      "Epoch 64/100 [LP]: 100%|██████████| 157/157 [01:34<00:00,  1.67it/s, loss=1.1] \n",
      "Epoch 64/100 [Validating]: 100%|██████████| 18/18 [00:10<00:00,  1.75it/s]\n"
     ]
    },
    {
     "name": "stdout",
     "output_type": "stream",
     "text": [
      "Epoch 64/100 - Train Loss: 1.0921, Train Accuracy: 37.54%, Validation Loss: 1.0830, Validation Accuracy: 38.66%, LR: 0.002871\n"
     ]
    },
    {
     "name": "stderr",
     "output_type": "stream",
     "text": [
      "Epoch 65/100 [LP]: 100%|██████████| 157/157 [01:34<00:00,  1.67it/s, loss=1.09]\n",
      "Epoch 65/100 [Validating]: 100%|██████████| 18/18 [00:10<00:00,  1.70it/s]\n"
     ]
    },
    {
     "name": "stdout",
     "output_type": "stream",
     "text": [
      "Epoch 65/100 - Train Loss: 1.0908, Train Accuracy: 37.76%, Validation Loss: 1.0836, Validation Accuracy: 39.55%, LR: 0.002730\n"
     ]
    },
    {
     "name": "stderr",
     "output_type": "stream",
     "text": [
      "Epoch 66/100 [LP]: 100%|██████████| 157/157 [01:33<00:00,  1.68it/s, loss=1.1] \n",
      "Epoch 66/100 [Validating]: 100%|██████████| 18/18 [00:10<00:00,  1.79it/s]\n"
     ]
    },
    {
     "name": "stdout",
     "output_type": "stream",
     "text": [
      "Epoch 66/100 - Train Loss: 1.0925, Train Accuracy: 37.32%, Validation Loss: 1.0822, Validation Accuracy: 40.41%, LR: 0.002591\n",
      "\n",
      "Saving best model at Epoch 66 with Validation Accuracy: 40.41%\n"
     ]
    },
    {
     "name": "stderr",
     "output_type": "stream",
     "text": [
      "Epoch 67/100 [LP]: 100%|██████████| 157/157 [01:32<00:00,  1.69it/s, loss=1.1] \n",
      "Epoch 67/100 [Validating]: 100%|██████████| 18/18 [00:10<00:00,  1.79it/s]\n"
     ]
    },
    {
     "name": "stdout",
     "output_type": "stream",
     "text": [
      "Epoch 67/100 - Train Loss: 1.0911, Train Accuracy: 38.08%, Validation Loss: 1.0844, Validation Accuracy: 40.01%, LR: 0.002455\n"
     ]
    },
    {
     "name": "stderr",
     "output_type": "stream",
     "text": [
      "Epoch 68/100 [LP]: 100%|██████████| 157/157 [01:33<00:00,  1.67it/s, loss=1.08]\n",
      "Epoch 68/100 [Validating]: 100%|██████████| 18/18 [00:09<00:00,  1.81it/s]\n"
     ]
    },
    {
     "name": "stdout",
     "output_type": "stream",
     "text": [
      "Epoch 68/100 - Train Loss: 1.0907, Train Accuracy: 37.84%, Validation Loss: 1.0810, Validation Accuracy: 40.04%, LR: 0.002321\n"
     ]
    },
    {
     "name": "stderr",
     "output_type": "stream",
     "text": [
      "Epoch 69/100 [LP]: 100%|██████████| 157/157 [01:34<00:00,  1.66it/s, loss=1.08]\n",
      "Epoch 69/100 [Validating]: 100%|██████████| 18/18 [00:11<00:00,  1.63it/s]\n"
     ]
    },
    {
     "name": "stdout",
     "output_type": "stream",
     "text": [
      "Epoch 69/100 - Train Loss: 1.0904, Train Accuracy: 37.84%, Validation Loss: 1.0837, Validation Accuracy: 38.84%, LR: 0.002190\n"
     ]
    },
    {
     "name": "stderr",
     "output_type": "stream",
     "text": [
      "Epoch 70/100 [LP]: 100%|██████████| 157/157 [01:33<00:00,  1.67it/s, loss=1.08]\n",
      "Epoch 70/100 [Validating]: 100%|██████████| 18/18 [00:10<00:00,  1.73it/s]\n"
     ]
    },
    {
     "name": "stdout",
     "output_type": "stream",
     "text": [
      "Epoch 70/100 - Train Loss: 1.0904, Train Accuracy: 37.93%, Validation Loss: 1.0830, Validation Accuracy: 39.42%, LR: 0.002061\n"
     ]
    },
    {
     "name": "stderr",
     "output_type": "stream",
     "text": [
      "Epoch 71/100 [LP]: 100%|██████████| 157/157 [01:34<00:00,  1.67it/s, loss=1.1] \n",
      "Epoch 71/100 [Validating]: 100%|██████████| 18/18 [00:09<00:00,  1.80it/s]\n"
     ]
    },
    {
     "name": "stdout",
     "output_type": "stream",
     "text": [
      "Epoch 71/100 - Train Loss: 1.0910, Train Accuracy: 37.57%, Validation Loss: 1.0816, Validation Accuracy: 39.95%, LR: 0.001935\n"
     ]
    },
    {
     "name": "stderr",
     "output_type": "stream",
     "text": [
      "Epoch 72/100 [LP]: 100%|██████████| 157/157 [01:35<00:00,  1.65it/s, loss=1.1] \n",
      "Epoch 72/100 [Validating]: 100%|██████████| 18/18 [00:10<00:00,  1.73it/s]\n"
     ]
    },
    {
     "name": "stdout",
     "output_type": "stream",
     "text": [
      "Epoch 72/100 - Train Loss: 1.0911, Train Accuracy: 37.94%, Validation Loss: 1.0851, Validation Accuracy: 38.78%, LR: 0.001813\n"
     ]
    },
    {
     "name": "stderr",
     "output_type": "stream",
     "text": [
      "Epoch 73/100 [LP]: 100%|██████████| 157/157 [01:35<00:00,  1.64it/s, loss=1.12]\n",
      "Epoch 73/100 [Validating]: 100%|██████████| 18/18 [00:10<00:00,  1.68it/s]\n"
     ]
    },
    {
     "name": "stdout",
     "output_type": "stream",
     "text": [
      "Epoch 73/100 - Train Loss: 1.0895, Train Accuracy: 38.11%, Validation Loss: 1.0841, Validation Accuracy: 38.97%, LR: 0.001693\n"
     ]
    },
    {
     "name": "stderr",
     "output_type": "stream",
     "text": [
      "Epoch 74/100 [LP]: 100%|██████████| 157/157 [01:35<00:00,  1.64it/s, loss=1.09]\n",
      "Epoch 74/100 [Validating]: 100%|██████████| 18/18 [00:10<00:00,  1.72it/s]\n"
     ]
    },
    {
     "name": "stdout",
     "output_type": "stream",
     "text": [
      "Epoch 74/100 - Train Loss: 1.0902, Train Accuracy: 38.11%, Validation Loss: 1.0852, Validation Accuracy: 38.87%, LR: 0.001577\n"
     ]
    },
    {
     "name": "stderr",
     "output_type": "stream",
     "text": [
      "Epoch 75/100 [LP]: 100%|██████████| 157/157 [01:36<00:00,  1.62it/s, loss=1.1] \n",
      "Epoch 75/100 [Validating]: 100%|██████████| 18/18 [00:10<00:00,  1.77it/s]\n"
     ]
    },
    {
     "name": "stdout",
     "output_type": "stream",
     "text": [
      "Epoch 75/100 - Train Loss: 1.0911, Train Accuracy: 38.09%, Validation Loss: 1.0841, Validation Accuracy: 39.37%, LR: 0.001464\n"
     ]
    },
    {
     "name": "stderr",
     "output_type": "stream",
     "text": [
      "Epoch 76/100 [LP]:   7%|▋         | 11/157 [00:07<01:37,  1.50it/s, loss=1.09]\n"
     ]
    },
    {
     "ename": "KeyboardInterrupt",
     "evalue": "",
     "output_type": "error",
     "traceback": [
      "\u001b[0;31m---------------------------------------------------------------------------\u001b[0m",
      "\u001b[0;31mKeyboardInterrupt\u001b[0m                         Traceback (most recent call last)",
      "\u001b[0;32m<ipython-input-15-7f634b347d2a>\u001b[0m in \u001b[0;36m<cell line: 2>\u001b[0;34m()\u001b[0m\n\u001b[1;32m      1\u001b[0m \u001b[0;31m# Minimal usage with defaults\u001b[0m\u001b[0;34m\u001b[0m\u001b[0;34m\u001b[0m\u001b[0m\n\u001b[0;32m----> 2\u001b[0;31m \u001b[0mmodel\u001b[0m\u001b[0;34m,\u001b[0m \u001b[0mhistory\u001b[0m \u001b[0;34m=\u001b[0m \u001b[0mtrain_model\u001b[0m\u001b[0;34m(\u001b[0m\u001b[0mmodel\u001b[0m\u001b[0;34m,\u001b[0m \u001b[0mtrain_dataloader\u001b[0m\u001b[0;34m,\u001b[0m \u001b[0mtest_dataloader\u001b[0m\u001b[0;34m)\u001b[0m\u001b[0;34m\u001b[0m\u001b[0;34m\u001b[0m\u001b[0m\n\u001b[0m\u001b[1;32m      3\u001b[0m \u001b[0;34m\u001b[0m\u001b[0m\n\u001b[1;32m      4\u001b[0m \u001b[0;31m# Custom configuration\u001b[0m\u001b[0;34m\u001b[0m\u001b[0;34m\u001b[0m\u001b[0m\n\u001b[1;32m      5\u001b[0m \u001b[0mcriterion\u001b[0m \u001b[0;34m=\u001b[0m \u001b[0mnn\u001b[0m\u001b[0;34m.\u001b[0m\u001b[0mCrossEntropyLoss\u001b[0m\u001b[0;34m(\u001b[0m\u001b[0;34m)\u001b[0m\u001b[0;34m\u001b[0m\u001b[0;34m\u001b[0m\u001b[0m\n",
      "\u001b[0;32m<ipython-input-14-24bb30aaa962>\u001b[0m in \u001b[0;36mtrain_model\u001b[0;34m(model, train_dataloader, test_dataloader, criterion, optimizer, scheduler, num_epochs, save_dir, log_dir, experiment_name)\u001b[0m\n\u001b[1;32m    113\u001b[0m         \u001b[0mtrain_loader\u001b[0m \u001b[0;34m=\u001b[0m \u001b[0mtqdm\u001b[0m\u001b[0;34m(\u001b[0m\u001b[0mtrain_dataloader\u001b[0m\u001b[0;34m,\u001b[0m \u001b[0mdesc\u001b[0m\u001b[0;34m=\u001b[0m\u001b[0;34mf\"Epoch {epoch+1}/{num_epochs} [LP]\"\u001b[0m\u001b[0;34m,\u001b[0m \u001b[0mleave\u001b[0m\u001b[0;34m=\u001b[0m\u001b[0;32mTrue\u001b[0m\u001b[0;34m)\u001b[0m\u001b[0;34m\u001b[0m\u001b[0;34m\u001b[0m\u001b[0m\n\u001b[1;32m    114\u001b[0m \u001b[0;34m\u001b[0m\u001b[0m\n\u001b[0;32m--> 115\u001b[0;31m         \u001b[0;32mfor\u001b[0m \u001b[0minputs\u001b[0m\u001b[0;34m,\u001b[0m \u001b[0mlabels\u001b[0m \u001b[0;32min\u001b[0m \u001b[0mtrain_loader\u001b[0m\u001b[0;34m:\u001b[0m\u001b[0;34m\u001b[0m\u001b[0;34m\u001b[0m\u001b[0m\n\u001b[0m\u001b[1;32m    116\u001b[0m             \u001b[0minputs\u001b[0m\u001b[0;34m,\u001b[0m \u001b[0mlabels\u001b[0m \u001b[0;34m=\u001b[0m \u001b[0minputs\u001b[0m\u001b[0;34m.\u001b[0m\u001b[0mto\u001b[0m\u001b[0;34m(\u001b[0m\u001b[0mdevice\u001b[0m\u001b[0;34m)\u001b[0m\u001b[0;34m,\u001b[0m \u001b[0mlabels\u001b[0m\u001b[0;34m.\u001b[0m\u001b[0mto\u001b[0m\u001b[0;34m(\u001b[0m\u001b[0mdevice\u001b[0m\u001b[0;34m)\u001b[0m\u001b[0;34m\u001b[0m\u001b[0;34m\u001b[0m\u001b[0m\n\u001b[1;32m    117\u001b[0m             \u001b[0moptimizer\u001b[0m\u001b[0;34m.\u001b[0m\u001b[0mzero_grad\u001b[0m\u001b[0;34m(\u001b[0m\u001b[0;34m)\u001b[0m\u001b[0;34m\u001b[0m\u001b[0;34m\u001b[0m\u001b[0m\n",
      "\u001b[0;32m/usr/local/lib/python3.10/dist-packages/tqdm/std.py\u001b[0m in \u001b[0;36m__iter__\u001b[0;34m(self)\u001b[0m\n\u001b[1;32m   1179\u001b[0m \u001b[0;34m\u001b[0m\u001b[0m\n\u001b[1;32m   1180\u001b[0m         \u001b[0;32mtry\u001b[0m\u001b[0;34m:\u001b[0m\u001b[0;34m\u001b[0m\u001b[0;34m\u001b[0m\u001b[0m\n\u001b[0;32m-> 1181\u001b[0;31m             \u001b[0;32mfor\u001b[0m \u001b[0mobj\u001b[0m \u001b[0;32min\u001b[0m \u001b[0miterable\u001b[0m\u001b[0;34m:\u001b[0m\u001b[0;34m\u001b[0m\u001b[0;34m\u001b[0m\u001b[0m\n\u001b[0m\u001b[1;32m   1182\u001b[0m                 \u001b[0;32myield\u001b[0m \u001b[0mobj\u001b[0m\u001b[0;34m\u001b[0m\u001b[0;34m\u001b[0m\u001b[0m\n\u001b[1;32m   1183\u001b[0m                 \u001b[0;31m# Update and possibly print the progressbar.\u001b[0m\u001b[0;34m\u001b[0m\u001b[0;34m\u001b[0m\u001b[0m\n",
      "\u001b[0;32m/usr/local/lib/python3.10/dist-packages/torch/utils/data/dataloader.py\u001b[0m in \u001b[0;36m__next__\u001b[0;34m(self)\u001b[0m\n\u001b[1;32m    699\u001b[0m                 \u001b[0;31m# TODO(https://github.com/pytorch/pytorch/issues/76750)\u001b[0m\u001b[0;34m\u001b[0m\u001b[0;34m\u001b[0m\u001b[0m\n\u001b[1;32m    700\u001b[0m                 \u001b[0mself\u001b[0m\u001b[0;34m.\u001b[0m\u001b[0m_reset\u001b[0m\u001b[0;34m(\u001b[0m\u001b[0;34m)\u001b[0m  \u001b[0;31m# type: ignore[call-arg]\u001b[0m\u001b[0;34m\u001b[0m\u001b[0;34m\u001b[0m\u001b[0m\n\u001b[0;32m--> 701\u001b[0;31m             \u001b[0mdata\u001b[0m \u001b[0;34m=\u001b[0m \u001b[0mself\u001b[0m\u001b[0;34m.\u001b[0m\u001b[0m_next_data\u001b[0m\u001b[0;34m(\u001b[0m\u001b[0;34m)\u001b[0m\u001b[0;34m\u001b[0m\u001b[0;34m\u001b[0m\u001b[0m\n\u001b[0m\u001b[1;32m    702\u001b[0m             \u001b[0mself\u001b[0m\u001b[0;34m.\u001b[0m\u001b[0m_num_yielded\u001b[0m \u001b[0;34m+=\u001b[0m \u001b[0;36m1\u001b[0m\u001b[0;34m\u001b[0m\u001b[0;34m\u001b[0m\u001b[0m\n\u001b[1;32m    703\u001b[0m             if (\n",
      "\u001b[0;32m/usr/local/lib/python3.10/dist-packages/torch/utils/data/dataloader.py\u001b[0m in \u001b[0;36m_next_data\u001b[0;34m(self)\u001b[0m\n\u001b[1;32m    755\u001b[0m     \u001b[0;32mdef\u001b[0m \u001b[0m_next_data\u001b[0m\u001b[0;34m(\u001b[0m\u001b[0mself\u001b[0m\u001b[0;34m)\u001b[0m\u001b[0;34m:\u001b[0m\u001b[0;34m\u001b[0m\u001b[0;34m\u001b[0m\u001b[0m\n\u001b[1;32m    756\u001b[0m         \u001b[0mindex\u001b[0m \u001b[0;34m=\u001b[0m \u001b[0mself\u001b[0m\u001b[0;34m.\u001b[0m\u001b[0m_next_index\u001b[0m\u001b[0;34m(\u001b[0m\u001b[0;34m)\u001b[0m  \u001b[0;31m# may raise StopIteration\u001b[0m\u001b[0;34m\u001b[0m\u001b[0;34m\u001b[0m\u001b[0m\n\u001b[0;32m--> 757\u001b[0;31m         \u001b[0mdata\u001b[0m \u001b[0;34m=\u001b[0m \u001b[0mself\u001b[0m\u001b[0;34m.\u001b[0m\u001b[0m_dataset_fetcher\u001b[0m\u001b[0;34m.\u001b[0m\u001b[0mfetch\u001b[0m\u001b[0;34m(\u001b[0m\u001b[0mindex\u001b[0m\u001b[0;34m)\u001b[0m  \u001b[0;31m# may raise StopIteration\u001b[0m\u001b[0;34m\u001b[0m\u001b[0;34m\u001b[0m\u001b[0m\n\u001b[0m\u001b[1;32m    758\u001b[0m         \u001b[0;32mif\u001b[0m \u001b[0mself\u001b[0m\u001b[0;34m.\u001b[0m\u001b[0m_pin_memory\u001b[0m\u001b[0;34m:\u001b[0m\u001b[0;34m\u001b[0m\u001b[0;34m\u001b[0m\u001b[0m\n\u001b[1;32m    759\u001b[0m             \u001b[0mdata\u001b[0m \u001b[0;34m=\u001b[0m \u001b[0m_utils\u001b[0m\u001b[0;34m.\u001b[0m\u001b[0mpin_memory\u001b[0m\u001b[0;34m.\u001b[0m\u001b[0mpin_memory\u001b[0m\u001b[0;34m(\u001b[0m\u001b[0mdata\u001b[0m\u001b[0;34m,\u001b[0m \u001b[0mself\u001b[0m\u001b[0;34m.\u001b[0m\u001b[0m_pin_memory_device\u001b[0m\u001b[0;34m)\u001b[0m\u001b[0;34m\u001b[0m\u001b[0;34m\u001b[0m\u001b[0m\n",
      "\u001b[0;32m/usr/local/lib/python3.10/dist-packages/torch/utils/data/_utils/fetch.py\u001b[0m in \u001b[0;36mfetch\u001b[0;34m(self, possibly_batched_index)\u001b[0m\n\u001b[1;32m     50\u001b[0m                 \u001b[0mdata\u001b[0m \u001b[0;34m=\u001b[0m \u001b[0mself\u001b[0m\u001b[0;34m.\u001b[0m\u001b[0mdataset\u001b[0m\u001b[0;34m.\u001b[0m\u001b[0m__getitems__\u001b[0m\u001b[0;34m(\u001b[0m\u001b[0mpossibly_batched_index\u001b[0m\u001b[0;34m)\u001b[0m\u001b[0;34m\u001b[0m\u001b[0;34m\u001b[0m\u001b[0m\n\u001b[1;32m     51\u001b[0m             \u001b[0;32melse\u001b[0m\u001b[0;34m:\u001b[0m\u001b[0;34m\u001b[0m\u001b[0;34m\u001b[0m\u001b[0m\n\u001b[0;32m---> 52\u001b[0;31m                 \u001b[0mdata\u001b[0m \u001b[0;34m=\u001b[0m \u001b[0;34m[\u001b[0m\u001b[0mself\u001b[0m\u001b[0;34m.\u001b[0m\u001b[0mdataset\u001b[0m\u001b[0;34m[\u001b[0m\u001b[0midx\u001b[0m\u001b[0;34m]\u001b[0m \u001b[0;32mfor\u001b[0m \u001b[0midx\u001b[0m \u001b[0;32min\u001b[0m \u001b[0mpossibly_batched_index\u001b[0m\u001b[0;34m]\u001b[0m\u001b[0;34m\u001b[0m\u001b[0;34m\u001b[0m\u001b[0m\n\u001b[0m\u001b[1;32m     53\u001b[0m         \u001b[0;32melse\u001b[0m\u001b[0;34m:\u001b[0m\u001b[0;34m\u001b[0m\u001b[0;34m\u001b[0m\u001b[0m\n\u001b[1;32m     54\u001b[0m             \u001b[0mdata\u001b[0m \u001b[0;34m=\u001b[0m \u001b[0mself\u001b[0m\u001b[0;34m.\u001b[0m\u001b[0mdataset\u001b[0m\u001b[0;34m[\u001b[0m\u001b[0mpossibly_batched_index\u001b[0m\u001b[0;34m]\u001b[0m\u001b[0;34m\u001b[0m\u001b[0;34m\u001b[0m\u001b[0m\n",
      "\u001b[0;32m/usr/local/lib/python3.10/dist-packages/torch/utils/data/_utils/fetch.py\u001b[0m in \u001b[0;36m<listcomp>\u001b[0;34m(.0)\u001b[0m\n\u001b[1;32m     50\u001b[0m                 \u001b[0mdata\u001b[0m \u001b[0;34m=\u001b[0m \u001b[0mself\u001b[0m\u001b[0;34m.\u001b[0m\u001b[0mdataset\u001b[0m\u001b[0;34m.\u001b[0m\u001b[0m__getitems__\u001b[0m\u001b[0;34m(\u001b[0m\u001b[0mpossibly_batched_index\u001b[0m\u001b[0;34m)\u001b[0m\u001b[0;34m\u001b[0m\u001b[0;34m\u001b[0m\u001b[0m\n\u001b[1;32m     51\u001b[0m             \u001b[0;32melse\u001b[0m\u001b[0;34m:\u001b[0m\u001b[0;34m\u001b[0m\u001b[0;34m\u001b[0m\u001b[0m\n\u001b[0;32m---> 52\u001b[0;31m                 \u001b[0mdata\u001b[0m \u001b[0;34m=\u001b[0m \u001b[0;34m[\u001b[0m\u001b[0mself\u001b[0m\u001b[0;34m.\u001b[0m\u001b[0mdataset\u001b[0m\u001b[0;34m[\u001b[0m\u001b[0midx\u001b[0m\u001b[0;34m]\u001b[0m \u001b[0;32mfor\u001b[0m \u001b[0midx\u001b[0m \u001b[0;32min\u001b[0m \u001b[0mpossibly_batched_index\u001b[0m\u001b[0;34m]\u001b[0m\u001b[0;34m\u001b[0m\u001b[0;34m\u001b[0m\u001b[0m\n\u001b[0m\u001b[1;32m     53\u001b[0m         \u001b[0;32melse\u001b[0m\u001b[0;34m:\u001b[0m\u001b[0;34m\u001b[0m\u001b[0;34m\u001b[0m\u001b[0m\n\u001b[1;32m     54\u001b[0m             \u001b[0mdata\u001b[0m \u001b[0;34m=\u001b[0m \u001b[0mself\u001b[0m\u001b[0;34m.\u001b[0m\u001b[0mdataset\u001b[0m\u001b[0;34m[\u001b[0m\u001b[0mpossibly_batched_index\u001b[0m\u001b[0;34m]\u001b[0m\u001b[0;34m\u001b[0m\u001b[0;34m\u001b[0m\u001b[0m\n",
      "\u001b[0;32m<ipython-input-12-62d25856eb88>\u001b[0m in \u001b[0;36m__getitem__\u001b[0;34m(self, idx)\u001b[0m\n\u001b[1;32m     39\u001b[0m         \u001b[0;32mtry\u001b[0m\u001b[0;34m:\u001b[0m\u001b[0;34m\u001b[0m\u001b[0;34m\u001b[0m\u001b[0m\n\u001b[1;32m     40\u001b[0m             \u001b[0;31m# First try direct loading (works for 'no_sub' and 'cdm')\u001b[0m\u001b[0;34m\u001b[0m\u001b[0;34m\u001b[0m\u001b[0m\n\u001b[0;32m---> 41\u001b[0;31m             \u001b[0mimage\u001b[0m \u001b[0;34m=\u001b[0m \u001b[0mnp\u001b[0m\u001b[0;34m.\u001b[0m\u001b[0mload\u001b[0m\u001b[0;34m(\u001b[0m\u001b[0mimg_path\u001b[0m\u001b[0;34m)\u001b[0m\u001b[0;34m\u001b[0m\u001b[0;34m\u001b[0m\u001b[0m\n\u001b[0m\u001b[1;32m     42\u001b[0m \u001b[0;34m\u001b[0m\u001b[0m\n\u001b[1;32m     43\u001b[0m             \u001b[0;31m# If this worked, the file is a direct (64,64) array\u001b[0m\u001b[0;34m\u001b[0m\u001b[0;34m\u001b[0m\u001b[0m\n",
      "\u001b[0;32m/usr/local/lib/python3.10/dist-packages/numpy/lib/npyio.py\u001b[0m in \u001b[0;36mload\u001b[0;34m(file, mmap_mode, allow_pickle, fix_imports, encoding, max_header_size)\u001b[0m\n\u001b[1;32m    425\u001b[0m             \u001b[0mown_fid\u001b[0m \u001b[0;34m=\u001b[0m \u001b[0;32mFalse\u001b[0m\u001b[0;34m\u001b[0m\u001b[0;34m\u001b[0m\u001b[0m\n\u001b[1;32m    426\u001b[0m         \u001b[0;32melse\u001b[0m\u001b[0;34m:\u001b[0m\u001b[0;34m\u001b[0m\u001b[0;34m\u001b[0m\u001b[0m\n\u001b[0;32m--> 427\u001b[0;31m             \u001b[0mfid\u001b[0m \u001b[0;34m=\u001b[0m \u001b[0mstack\u001b[0m\u001b[0;34m.\u001b[0m\u001b[0menter_context\u001b[0m\u001b[0;34m(\u001b[0m\u001b[0mopen\u001b[0m\u001b[0;34m(\u001b[0m\u001b[0mos_fspath\u001b[0m\u001b[0;34m(\u001b[0m\u001b[0mfile\u001b[0m\u001b[0;34m)\u001b[0m\u001b[0;34m,\u001b[0m \u001b[0;34m\"rb\"\u001b[0m\u001b[0;34m)\u001b[0m\u001b[0;34m)\u001b[0m\u001b[0;34m\u001b[0m\u001b[0;34m\u001b[0m\u001b[0m\n\u001b[0m\u001b[1;32m    428\u001b[0m             \u001b[0mown_fid\u001b[0m \u001b[0;34m=\u001b[0m \u001b[0;32mTrue\u001b[0m\u001b[0;34m\u001b[0m\u001b[0;34m\u001b[0m\u001b[0m\n\u001b[1;32m    429\u001b[0m \u001b[0;34m\u001b[0m\u001b[0m\n",
      "\u001b[0;31mKeyboardInterrupt\u001b[0m: "
     ]
    }
   ],
   "source": [
    "# Minimal usage with defaults\n",
    "# model, history = train_model(model, train_dataloader, test_dataloader)\n",
    "\n",
    "# Custom configuration\n",
    "criterion = nn.CrossEntropyLoss()\n",
    "trainable_params = [p for p in model.parameters() if p.requires_grad]\n",
    "optimizer = LARS(\n",
    "    trainable_params,\n",
    "    lr=0.01,\n",
    "    momentum=0.9,\n",
    "    weight_decay=1e-4,\n",
    "    trust_coefficient=0.001,\n",
    "    eps=1e-8\n",
    ")\n",
    "scheduler = torch.optim.lr_scheduler.CosineAnnealingLR(optimizer, T_max=100)\n",
    "\n",
    "model, history = train_model(\n",
    "    model, \n",
    "    train_dataloader, \n",
    "    test_dataloader,\n",
    "    criterion=criterion,\n",
    "    optimizer=optimizer,\n",
    "    scheduler=scheduler,\n",
    "    num_epochs=100,\n",
    "    save_dir='/kaggle/working/save_weights',\n",
    "    experiment_name='LP_classification'\n",
    ")"
   ]
  },
  {
   "cell_type": "markdown",
   "metadata": {},
   "source": [
    "LP stopped prematurely as val acc was stuck around 40%"
   ]
  },
  {
   "cell_type": "markdown",
   "metadata": {},
   "source": [
    "## ROC AUC Curve"
   ]
  },
  {
   "cell_type": "code",
   "execution_count": null,
   "metadata": {
    "execution": {
     "iopub.execute_input": "2025-03-23T21:00:12.820929Z",
     "iopub.status.busy": "2025-03-23T21:00:12.820618Z",
     "iopub.status.idle": "2025-03-23T21:00:25.887002Z",
     "shell.execute_reply": "2025-03-23T21:00:25.886290Z",
     "shell.execute_reply.started": "2025-03-23T21:00:12.820902Z"
    },
    "trusted": true
   },
   "outputs": [
    {
     "name": "stderr",
     "output_type": "stream",
     "text": [
      "<ipython-input-23-2a170aa41da1>:1: FutureWarning: You are using `torch.load` with `weights_only=False` (the current default value), which uses the default pickle module implicitly. It is possible to construct malicious pickle data which will execute arbitrary code during unpickling (See https://github.com/pytorch/pytorch/blob/main/SECURITY.md#untrusted-models for more details). In a future release, the default value for `weights_only` will be flipped to `True`. This limits the functions that could be executed during unpickling. Arbitrary objects will no longer be allowed to be loaded via this mode unless they are explicitly allowlisted by the user via `torch.serialization.add_safe_globals`. We recommend you start setting `weights_only=True` for any use case where you don't have full control of the loaded file. Please open an issue on GitHub for any issues related to this experimental feature.\n",
      "  checkpoint = torch.load('/kaggle/working/save_weights/20250323_182415_best.pth')\n"
     ]
    },
    {
     "name": "stdout",
     "output_type": "stream",
     "text": [
      "Total number of train parameters: 265219\n"
     ]
    },
    {
     "name": "stderr",
     "output_type": "stream",
     "text": [
      "[Validating]: 100%|██████████| 18/18 [00:13<00:00,  1.38it/s]"
     ]
    },
    {
     "name": "stdout",
     "output_type": "stream",
     "text": [
      "0.39479295253058017\n"
     ]
    },
    {
     "name": "stderr",
     "output_type": "stream",
     "text": [
      "\n"
     ]
    }
   ],
   "source": [
    "##Validating LP results\n",
    "\n",
    "checkpoint = torch.load('/kaggle/working/save_weights/20250323_182415_best.pth')\n",
    "new_state_dict = {key.replace(\"module.\", \"\"): value for key, value in checkpoint.items()}\n",
    "model.load_state_dict(new_state_dict)\n",
    "total_params = sum(p.numel() for p in model.parameters() if p.requires_grad)\n",
    "print(f\"Total number of train parameters: {total_params}\")\n",
    "criterion = nn.CrossEntropyLoss()\n",
    "model.eval()\n",
    "total_val_loss = 0.0\n",
    "total_val_correct = 0\n",
    "total_val_samples = 0\n",
    "val_loader = tqdm(test_dataloader, desc=f\"[Validating]\", leave=True)\n",
    "    \n",
    "with torch.no_grad():\n",
    "    for test_inputs, test_labels in val_loader:\n",
    "        test_inputs, test_labels = test_inputs.to(device), test_labels.to(device)\n",
    "        test_outputs = model(test_inputs)\n",
    "        loss = criterion(test_outputs, test_labels)\n",
    "\n",
    "        total_val_loss += loss.item()\n",
    "        _, predicted = torch.max(test_outputs, 1)\n",
    "        total_val_samples += test_labels.size(0)\n",
    "        total_val_correct += (predicted == test_labels).sum().item()\n",
    "\n",
    "avg_val_loss = total_val_loss / len(test_dataloader)\n",
    "val_accuracy = total_val_correct / total_val_samples\n",
    "\n",
    "print(val_accuracy)"
   ]
  },
  {
   "cell_type": "code",
   "execution_count": null,
   "metadata": {
    "execution": {
     "iopub.execute_input": "2025-03-23T20:56:33.015624Z",
     "iopub.status.busy": "2025-03-23T20:56:33.015268Z",
     "iopub.status.idle": "2025-03-23T20:56:45.582215Z",
     "shell.execute_reply": "2025-03-23T20:56:45.581433Z",
     "shell.execute_reply.started": "2025-03-23T20:56:33.015589Z"
    },
    "trusted": true
   },
   "outputs": [
    {
     "name": "stderr",
     "output_type": "stream",
     "text": [
      "<ipython-input-18-90c4be79af25>:5: FutureWarning: You are using `torch.load` with `weights_only=False` (the current default value), which uses the default pickle module implicitly. It is possible to construct malicious pickle data which will execute arbitrary code during unpickling (See https://github.com/pytorch/pytorch/blob/main/SECURITY.md#untrusted-models for more details). In a future release, the default value for `weights_only` will be flipped to `True`. This limits the functions that could be executed during unpickling. Arbitrary objects will no longer be allowed to be loaded via this mode unless they are explicitly allowlisted by the user via `torch.serialization.add_safe_globals`. We recommend you start setting `weights_only=True` for any use case where you don't have full control of the loaded file. Please open an issue on GitHub for any issues related to this experimental feature.\n",
      "  checkpoint = torch.load(\"/kaggle/working/save_weights/20250323_182415_best.pth\")\n",
      "<ipython-input-7-699768f9e10a>:59: FutureWarning: You are using `torch.load` with `weights_only=False` (the current default value), which uses the default pickle module implicitly. It is possible to construct malicious pickle data which will execute arbitrary code during unpickling (See https://github.com/pytorch/pytorch/blob/main/SECURITY.md#untrusted-models for more details). In a future release, the default value for `weights_only` will be flipped to `True`. This limits the functions that could be executed during unpickling. Arbitrary objects will no longer be allowed to be loaded via this mode unless they are explicitly allowlisted by the user via `torch.serialization.add_safe_globals`. We recommend you start setting `weights_only=True` for any use case where you don't have full control of the loaded file. Please open an issue on GitHub for any issues related to this experimental feature.\n",
      "  checkpoint = torch.load(weights_path)\n"
     ]
    },
    {
     "name": "stdout",
     "output_type": "stream",
     "text": [
      "Missing keys: []\n",
      "Unexpected keys: ['decoder.mask_token', 'decoder.decoder_pos_embed', 'decoder.decoder_embed.weight', 'decoder.decoder_embed.bias', 'decoder.decoder_blocks.0.norm1.weight', 'decoder.decoder_blocks.0.norm1.bias', 'decoder.decoder_blocks.0.attn.qkv.weight', 'decoder.decoder_blocks.0.attn.qkv.bias', 'decoder.decoder_blocks.0.attn.proj.weight', 'decoder.decoder_blocks.0.attn.proj.bias', 'decoder.decoder_blocks.0.norm2.weight', 'decoder.decoder_blocks.0.norm2.bias', 'decoder.decoder_blocks.0.mlp.fc1.weight', 'decoder.decoder_blocks.0.mlp.fc1.bias', 'decoder.decoder_blocks.0.mlp.fc2.weight', 'decoder.decoder_blocks.0.mlp.fc2.bias', 'decoder.decoder_blocks.1.norm1.weight', 'decoder.decoder_blocks.1.norm1.bias', 'decoder.decoder_blocks.1.attn.qkv.weight', 'decoder.decoder_blocks.1.attn.qkv.bias', 'decoder.decoder_blocks.1.attn.proj.weight', 'decoder.decoder_blocks.1.attn.proj.bias', 'decoder.decoder_blocks.1.norm2.weight', 'decoder.decoder_blocks.1.norm2.bias', 'decoder.decoder_blocks.1.mlp.fc1.weight', 'decoder.decoder_blocks.1.mlp.fc1.bias', 'decoder.decoder_blocks.1.mlp.fc2.weight', 'decoder.decoder_blocks.1.mlp.fc2.bias', 'decoder.decoder_blocks.2.norm1.weight', 'decoder.decoder_blocks.2.norm1.bias', 'decoder.decoder_blocks.2.attn.qkv.weight', 'decoder.decoder_blocks.2.attn.qkv.bias', 'decoder.decoder_blocks.2.attn.proj.weight', 'decoder.decoder_blocks.2.attn.proj.bias', 'decoder.decoder_blocks.2.norm2.weight', 'decoder.decoder_blocks.2.norm2.bias', 'decoder.decoder_blocks.2.mlp.fc1.weight', 'decoder.decoder_blocks.2.mlp.fc1.bias', 'decoder.decoder_blocks.2.mlp.fc2.weight', 'decoder.decoder_blocks.2.mlp.fc2.bias', 'decoder.decoder_blocks.3.norm1.weight', 'decoder.decoder_blocks.3.norm1.bias', 'decoder.decoder_blocks.3.attn.qkv.weight', 'decoder.decoder_blocks.3.attn.qkv.bias', 'decoder.decoder_blocks.3.attn.proj.weight', 'decoder.decoder_blocks.3.attn.proj.bias', 'decoder.decoder_blocks.3.norm2.weight', 'decoder.decoder_blocks.3.norm2.bias', 'decoder.decoder_blocks.3.mlp.fc1.weight', 'decoder.decoder_blocks.3.mlp.fc1.bias', 'decoder.decoder_blocks.3.mlp.fc2.weight', 'decoder.decoder_blocks.3.mlp.fc2.bias', 'decoder.decoder_norm.weight', 'decoder.decoder_norm.bias', 'decoder.decoder_pred.weight', 'decoder.decoder_pred.bias']\n"
     ]
    },
    {
     "data": {
      "image/png": "[encoded data removed]",
      "text/plain": [
       "<Figure size 2000x1200 with 1 Axes>"
      ]
     },
     "metadata": {},
     "output_type": "display_data"
    }
   ],
   "source": [
    "##ROC AUC\n",
    "\n",
    "enc_weights_path = \"/kaggle/input/weights-ml4sci-all/best_mae_vit_model_256emb_final.pth\"\n",
    "checkpoint = torch.load(\"/kaggle/working/save_weights/20250323_182415_best.pth\")\n",
    "img_size = 64\n",
    "encoder = load_pretrained_encoder(enc_weights_path, img_size)\n",
    "num_classes = 3\n",
    "device = 'cuda'\n",
    "new_state_dict = {key.replace(\"module.\", \"\"): value for key, value in checkpoint.items()}\n",
    "model = ClassificationModel(encoder, num_classes=3).to(device)\n",
    "model.load_state_dict(new_state_dict)\n",
    "\n",
    "model.eval()\n",
    "num_classes = 3\n",
    "all_labels = []\n",
    "all_scores = []\n",
    "\n",
    "with torch.no_grad():\n",
    "    for val_inputs, val_labels in test_dataloader:\n",
    "        val_inputs, val_labels = val_inputs.to(device), val_labels.to(device)\n",
    "        val_outputs = model(val_inputs)\n",
    "        \n",
    "        # Assuming the model outputs raw logits, apply softmax to get probabilities\n",
    "        probabilities = torch.nn.functional.softmax(val_outputs, dim=1)\n",
    "        \n",
    "        all_labels.extend(val_labels.cpu().numpy())\n",
    "        all_scores.extend(probabilities.cpu().numpy())\n",
    "\n",
    "# Binarize the labels\n",
    "y_true = label_binarize(all_labels, classes=list(range(num_classes)))\n",
    "\n",
    "# Ensure y_true and all_scores are numpy arrays\n",
    "y_true = np.array(y_true)\n",
    "all_scores = np.array(all_scores)\n",
    "\n",
    "# Compute ROC curve and ROC area for each class\n",
    "fpr = dict()\n",
    "tpr = dict()\n",
    "roc_auc = dict()\n",
    "for i in range(num_classes):\n",
    "    fpr[i], tpr[i], _ = roc_curve(y_true[:, i], all_scores[:, i])\n",
    "    roc_auc[i] = auc(fpr[i], tpr[i])\n",
    "\n",
    "# Compute micro-average ROC curve and ROC area\n",
    "fpr[\"micro\"], tpr[\"micro\"], _ = roc_curve(y_true.ravel(), all_scores.ravel())\n",
    "roc_auc[\"micro\"] = auc(fpr[\"micro\"], tpr[\"micro\"])\n",
    "\n",
    "# Plot the ROC curves\n",
    "plt.figure(figsize=(20, 12))\n",
    "for i in range(num_classes):\n",
    "    plt.plot(fpr[i], tpr[i], lw=2, label=f'Class {i} (AUC = {roc_auc[i]:.2f})')\n",
    "\n",
    "plt.plot(fpr[\"micro\"], tpr[\"micro\"], color='darkorange', linestyle='--', lw=2, label=f'Micro-average (AUC = {roc_auc[\"micro\"]:.2f})')\n",
    "\n",
    "plt.plot([0, 1], [0, 1], color='navy', lw=2, linestyle='--')\n",
    "plt.xlabel('False Positive Rate (FPR)')\n",
    "plt.ylabel('True Positive Rate (TPR)')\n",
    "plt.title('ROC Curve LP 256emb')\n",
    "plt.legend(loc=\"lower right\")\n",
    "plt.show()\n"
   ]
  },
  {
   "cell_type": "code",
   "execution_count": null,
   "metadata": {
    "trusted": true
   },
   "outputs": [],
   "source": [
    "# # Minimal usage with defaults\n",
    "# model, history = train_model(model, train_dataloader, test_dataloader)\n",
    "\n",
    "# # Custom configuration\n",
    "# criterion = nn.CrossEntropyLoss()\n",
    "# trainable_params = [p for p in model.parameters() if p.requires_grad]\n",
    "# optimizer = LARS(\n",
    "#     trainable_params,\n",
    "#     lr=0.01,\n",
    "#     momentum=0.9,\n",
    "#     weight_decay=1e-4,\n",
    "#     trust_coefficient=0.001,\n",
    "#     eps=1e-8\n",
    "# )\n",
    "# scheduler = torch.optim.lr_scheduler.CosineAnnealingLR(optimizer, T_max=100)\n",
    "\n",
    "# model, history = train_model(\n",
    "#     model, \n",
    "#     train_dataloader, \n",
    "#     test_dataloader,\n",
    "#     criterion=criterion,\n",
    "#     optimizer=optimizer,\n",
    "#     scheduler=scheduler,\n",
    "#     num_epochs=100,\n",
    "#     save_dir='/kaggle/working/save_weights',\n",
    "#     experiment_name='LP_classification'\n",
    "# )"
   ]
  },
  {
   "cell_type": "markdown",
   "metadata": {},
   "source": [
    "## Full finetuning"
   ]
  },
  {
   "cell_type": "code",
   "execution_count": 12,
   "metadata": {
    "execution": {
     "iopub.execute_input": "2025-03-24T04:04:06.602480Z",
     "iopub.status.busy": "2025-03-24T04:04:06.602104Z",
     "iopub.status.idle": "2025-03-24T04:04:06.761781Z",
     "shell.execute_reply": "2025-03-24T04:04:06.760606Z",
     "shell.execute_reply.started": "2025-03-24T04:04:06.602450Z"
    },
    "trusted": true
   },
   "outputs": [],
   "source": [
    "!mkdir save_weights"
   ]
  },
  {
   "cell_type": "code",
   "execution_count": null,
   "metadata": {
    "execution": {
     "iopub.execute_input": "2025-03-24T07:38:19.942892Z",
     "iopub.status.busy": "2025-03-24T07:38:19.942565Z",
     "iopub.status.idle": "2025-03-24T08:57:38.993425Z",
     "shell.execute_reply": "2025-03-24T08:57:38.991882Z",
     "shell.execute_reply.started": "2025-03-24T07:38:19.942868Z"
    },
    "trusted": true
   },
   "outputs": [
    {
     "name": "stderr",
     "output_type": "stream",
     "text": [
      "<ipython-input-11-22ef461d8bc0>:27: FutureWarning: You are using `torch.load` with `weights_only=False` (the current default value), which uses the default pickle module implicitly. It is possible to construct malicious pickle data which will execute arbitrary code during unpickling (See https://github.com/pytorch/pytorch/blob/main/SECURITY.md#untrusted-models for more details). In a future release, the default value for `weights_only` will be flipped to `True`. This limits the functions that could be executed during unpickling. Arbitrary objects will no longer be allowed to be loaded via this mode unless they are explicitly allowlisted by the user via `torch.serialization.add_safe_globals`. We recommend you start setting `weights_only=True` for any use case where you don't have full control of the loaded file. Please open an issue on GitHub for any issues related to this experimental feature.\n",
      "  ckpt = torch.load('/kaggle/working/save_weights/FT_classification.pth')\n"
     ]
    },
    {
     "name": "stdout",
     "output_type": "stream",
     "text": [
      "\n",
      " ####Total number of train params, training full: 6654211####\n"
     ]
    },
    {
     "name": "stderr",
     "output_type": "stream",
     "text": [
      "Epoch 1/50 [FT]: 100%|██████████| 157/157 [13:30<00:00,  5.17s/it, loss=0.361]\n",
      "Epoch 1/50 [Validating]: 100%|██████████| 18/18 [00:19<00:00,  1.10s/it]\n"
     ]
    },
    {
     "name": "stdout",
     "output_type": "stream",
     "text": [
      "\n",
      "Saving model at Epoch 1 with Validation Accuracy: 46.74%\n",
      "Epoch 1/50 - Train Loss: 0.3537, Train Accuracy: 85.15%, Validation Loss: 2.1744, Validation Accuracy: 46.74%\n"
     ]
    },
    {
     "name": "stderr",
     "output_type": "stream",
     "text": [
      "Epoch 2/50 [FT]: 100%|██████████| 157/157 [02:37<00:00,  1.01s/it, loss=0.398]\n",
      "Epoch 2/50 [Validating]: 100%|██████████| 18/18 [00:11<00:00,  1.61it/s]\n"
     ]
    },
    {
     "name": "stdout",
     "output_type": "stream",
     "text": [
      "\n",
      "Saving model at Epoch 2 with Validation Accuracy: 69.31%\n",
      "Epoch 2/50 - Train Loss: 0.3352, Train Accuracy: 85.83%, Validation Loss: 0.9173, Validation Accuracy: 69.31%\n"
     ]
    },
    {
     "name": "stderr",
     "output_type": "stream",
     "text": [
      "Epoch 3/50 [FT]: 100%|██████████| 157/157 [02:15<00:00,  1.16it/s, loss=0.346]\n",
      "Epoch 3/50 [Validating]: 100%|██████████| 18/18 [00:11<00:00,  1.51it/s]\n"
     ]
    },
    {
     "name": "stdout",
     "output_type": "stream",
     "text": [
      "\n",
      "Saving model at Epoch 3 with Validation Accuracy: 70.93%\n",
      "Epoch 3/50 - Train Loss: 0.3358, Train Accuracy: 85.63%, Validation Loss: 0.9722, Validation Accuracy: 70.93%\n"
     ]
    },
    {
     "name": "stderr",
     "output_type": "stream",
     "text": [
      "Epoch 4/50 [FT]: 100%|██████████| 157/157 [02:16<00:00,  1.15it/s, loss=0.299]\n",
      "Epoch 4/50 [Validating]: 100%|██████████| 18/18 [00:10<00:00,  1.66it/s]\n"
     ]
    },
    {
     "name": "stdout",
     "output_type": "stream",
     "text": [
      "\n",
      "Saving model at Epoch 4 with Validation Accuracy: 82.26%\n",
      "Epoch 4/50 - Train Loss: 0.3358, Train Accuracy: 85.65%, Validation Loss: 0.4639, Validation Accuracy: 82.26%\n"
     ]
    },
    {
     "name": "stderr",
     "output_type": "stream",
     "text": [
      "Epoch 5/50 [Validating]: 100%|██████████| 18/18 [00:11<00:00,  1.63it/s]0.326]\n"
     ]
    },
    {
     "name": "stdout",
     "output_type": "stream",
     "text": [
      "Epoch 5/50 - Train Loss: 0.3331, Train Accuracy: 85.88%, Validation Loss: 0.4589, Validation Accuracy: 80.28%\n"
     ]
    },
    {
     "name": "stderr",
     "output_type": "stream",
     "text": [
      "Epoch 6/50 [FT]: 100%|██████████| 157/157 [02:16<00:00,  1.15it/s, loss=0.344]\n",
      "Epoch 6/50 [Validating]: 100%|██████████| 18/18 [00:10<00:00,  1.66it/s]\n"
     ]
    },
    {
     "name": "stdout",
     "output_type": "stream",
     "text": [
      "Epoch 6/50 - Train Loss: 0.3329, Train Accuracy: 85.92%, Validation Loss: 0.4205, Validation Accuracy: 81.72%\n"
     ]
    },
    {
     "name": "stderr",
     "output_type": "stream",
     "text": [
      "Epoch 7/50 [FT]: 100%|██████████| 157/157 [02:19<00:00,  1.13it/s, loss=0.338]\n",
      "Epoch 7/50 [Validating]: 100%|██████████| 18/18 [00:11<00:00,  1.62it/s]\n"
     ]
    },
    {
     "name": "stdout",
     "output_type": "stream",
     "text": [
      "Epoch 7/50 - Train Loss: 0.3295, Train Accuracy: 86.14%, Validation Loss: 0.8103, Validation Accuracy: 75.37%\n"
     ]
    },
    {
     "name": "stderr",
     "output_type": "stream",
     "text": [
      "Epoch 8/50 [FT]: 100%|██████████| 157/157 [02:14<00:00,  1.17it/s, loss=0.318]\n",
      "Epoch 8/50 [Validating]: 100%|██████████| 18/18 [00:11<00:00,  1.63it/s]\n"
     ]
    },
    {
     "name": "stdout",
     "output_type": "stream",
     "text": [
      "Epoch 8/50 - Train Loss: 0.3263, Train Accuracy: 86.33%, Validation Loss: 0.5047, Validation Accuracy: 78.71%\n"
     ]
    },
    {
     "name": "stderr",
     "output_type": "stream",
     "text": [
      "Epoch 9/50 [FT]: 100%|██████████| 157/157 [02:20<00:00,  1.11it/s, loss=0.371]\n",
      "Epoch 9/50 [Validating]: 100%|██████████| 18/18 [00:11<00:00,  1.62it/s]\n"
     ]
    },
    {
     "name": "stdout",
     "output_type": "stream",
     "text": [
      "Epoch 9/50 - Train Loss: 0.3378, Train Accuracy: 85.74%, Validation Loss: 0.9132, Validation Accuracy: 72.85%\n"
     ]
    },
    {
     "name": "stderr",
     "output_type": "stream",
     "text": [
      "Epoch 10/50 [FT]: 100%|██████████| 157/157 [02:16<00:00,  1.15it/s, loss=0.428]\n",
      "Epoch 10/50 [Validating]: 100%|██████████| 18/18 [00:10<00:00,  1.74it/s]\n"
     ]
    },
    {
     "name": "stdout",
     "output_type": "stream",
     "text": [
      "Epoch 10/50 - Train Loss: 0.3228, Train Accuracy: 86.28%, Validation Loss: 0.6003, Validation Accuracy: 75.54%\n"
     ]
    },
    {
     "name": "stderr",
     "output_type": "stream",
     "text": [
      "Epoch 11/50 [FT]: 100%|██████████| 157/157 [02:13<00:00,  1.17it/s, loss=0.353]\n",
      "Epoch 11/50 [Validating]: 100%|██████████| 18/18 [00:10<00:00,  1.67it/s]\n"
     ]
    },
    {
     "name": "stdout",
     "output_type": "stream",
     "text": [
      "\n",
      "Saving model at Epoch 11 with Validation Accuracy: 83.21%\n",
      "Epoch 11/50 - Train Loss: 0.3256, Train Accuracy: 86.15%, Validation Loss: 0.3962, Validation Accuracy: 83.21%\n"
     ]
    },
    {
     "name": "stderr",
     "output_type": "stream",
     "text": [
      "Epoch 12/50 [FT]: 100%|██████████| 157/157 [02:11<00:00,  1.19it/s, loss=0.374]\n",
      "Epoch 12/50 [Validating]: 100%|██████████| 18/18 [00:10<00:00,  1.77it/s]\n"
     ]
    },
    {
     "name": "stdout",
     "output_type": "stream",
     "text": [
      "Epoch 12/50 - Train Loss: 0.3223, Train Accuracy: 86.40%, Validation Loss: 1.3906, Validation Accuracy: 58.18%\n"
     ]
    },
    {
     "name": "stderr",
     "output_type": "stream",
     "text": [
      "Epoch 13/50 [FT]: 100%|██████████| 157/157 [02:10<00:00,  1.21it/s, loss=0.28] \n",
      "Epoch 13/50 [Validating]: 100%|██████████| 18/18 [00:10<00:00,  1.72it/s]\n"
     ]
    },
    {
     "name": "stdout",
     "output_type": "stream",
     "text": [
      "Epoch 13/50 - Train Loss: 0.3272, Train Accuracy: 86.17%, Validation Loss: 1.4950, Validation Accuracy: 51.96%\n"
     ]
    },
    {
     "name": "stderr",
     "output_type": "stream",
     "text": [
      "Epoch 14/50 [FT]: 100%|██████████| 157/157 [02:09<00:00,  1.21it/s, loss=0.318]\n",
      "Epoch 14/50 [Validating]: 100%|██████████| 18/18 [00:10<00:00,  1.72it/s]\n"
     ]
    },
    {
     "name": "stdout",
     "output_type": "stream",
     "text": [
      "Epoch 14/50 - Train Loss: 0.3217, Train Accuracy: 86.40%, Validation Loss: 1.8226, Validation Accuracy: 60.41%\n"
     ]
    },
    {
     "name": "stderr",
     "output_type": "stream",
     "text": [
      "Epoch 15/50 [FT]: 100%|██████████| 157/157 [02:10<00:00,  1.20it/s, loss=0.36] \n",
      "Epoch 15/50 [Validating]: 100%|██████████| 18/18 [00:10<00:00,  1.78it/s]\n"
     ]
    },
    {
     "name": "stdout",
     "output_type": "stream",
     "text": [
      "Epoch 15/50 - Train Loss: 0.3167, Train Accuracy: 86.63%, Validation Loss: 1.6199, Validation Accuracy: 62.66%\n"
     ]
    },
    {
     "name": "stderr",
     "output_type": "stream",
     "text": [
      "Epoch 16/50 [FT]: 100%|██████████| 157/157 [02:12<00:00,  1.19it/s, loss=0.305]\n",
      "Epoch 16/50 [Validating]: 100%|██████████| 18/18 [00:11<00:00,  1.61it/s]\n"
     ]
    },
    {
     "name": "stdout",
     "output_type": "stream",
     "text": [
      "Epoch 16/50 - Train Loss: 0.3108, Train Accuracy: 86.80%, Validation Loss: 0.4238, Validation Accuracy: 82.30%\n"
     ]
    },
    {
     "name": "stderr",
     "output_type": "stream",
     "text": [
      "Epoch 17/50 [FT]: 100%|██████████| 157/157 [02:11<00:00,  1.19it/s, loss=0.281]\n",
      "Epoch 17/50 [Validating]: 100%|██████████| 18/18 [00:11<00:00,  1.62it/s]\n"
     ]
    },
    {
     "name": "stdout",
     "output_type": "stream",
     "text": [
      "\n",
      "Saving model at Epoch 17 with Validation Accuracy: 83.77%\n",
      "Epoch 17/50 - Train Loss: 0.3142, Train Accuracy: 86.72%, Validation Loss: 0.3949, Validation Accuracy: 83.77%\n"
     ]
    },
    {
     "name": "stderr",
     "output_type": "stream",
     "text": [
      "Epoch 18/50 [FT]: 100%|██████████| 157/157 [02:16<00:00,  1.15it/s, loss=0.289]\n",
      "Epoch 18/50 [Validating]: 100%|██████████| 18/18 [00:11<00:00,  1.61it/s]\n"
     ]
    },
    {
     "name": "stdout",
     "output_type": "stream",
     "text": [
      "Epoch 18/50 - Train Loss: 0.3105, Train Accuracy: 86.87%, Validation Loss: 0.9737, Validation Accuracy: 71.53%\n"
     ]
    },
    {
     "name": "stderr",
     "output_type": "stream",
     "text": [
      "Epoch 19/50 [FT]: 100%|██████████| 157/157 [02:14<00:00,  1.16it/s, loss=0.343]\n",
      "Epoch 19/50 [Validating]: 100%|██████████| 18/18 [00:11<00:00,  1.59it/s]\n"
     ]
    },
    {
     "name": "stdout",
     "output_type": "stream",
     "text": [
      "Epoch 19/50 - Train Loss: 0.3067, Train Accuracy: 86.92%, Validation Loss: 0.5630, Validation Accuracy: 75.00%\n"
     ]
    },
    {
     "name": "stderr",
     "output_type": "stream",
     "text": [
      "Epoch 20/50 [FT]: 100%|██████████| 157/157 [02:12<00:00,  1.19it/s, loss=0.33] \n",
      "Epoch 20/50 [Validating]: 100%|██████████| 18/18 [00:10<00:00,  1.69it/s]\n"
     ]
    },
    {
     "name": "stdout",
     "output_type": "stream",
     "text": [
      "\n",
      "Saving model at Epoch 20 with Validation Accuracy: 85.07%\n",
      "Epoch 20/50 - Train Loss: 0.3064, Train Accuracy: 87.09%, Validation Loss: 0.3800, Validation Accuracy: 85.07%\n"
     ]
    },
    {
     "name": "stderr",
     "output_type": "stream",
     "text": [
      "Epoch 21/50 [FT]: 100%|██████████| 157/157 [02:09<00:00,  1.22it/s, loss=0.303]\n",
      "Epoch 21/50 [Validating]: 100%|██████████| 18/18 [00:11<00:00,  1.56it/s]\n"
     ]
    },
    {
     "name": "stdout",
     "output_type": "stream",
     "text": [
      "\n",
      "Saving model at Epoch 21 with Validation Accuracy: 85.92%\n",
      "Epoch 21/50 - Train Loss: 0.3074, Train Accuracy: 87.09%, Validation Loss: 0.3553, Validation Accuracy: 85.92%\n"
     ]
    },
    {
     "name": "stderr",
     "output_type": "stream",
     "text": [
      "Epoch 22/50 [FT]: 100%|██████████| 157/157 [02:18<00:00,  1.13it/s, loss=0.33] \n",
      "Epoch 22/50 [Validating]: 100%|██████████| 18/18 [00:11<00:00,  1.61it/s]\n"
     ]
    },
    {
     "name": "stdout",
     "output_type": "stream",
     "text": [
      "Epoch 22/50 - Train Loss: 0.2990, Train Accuracy: 87.24%, Validation Loss: 0.3412, Validation Accuracy: 85.57%\n"
     ]
    },
    {
     "name": "stderr",
     "output_type": "stream",
     "text": [
      "Epoch 23/50 [FT]: 100%|██████████| 157/157 [02:10<00:00,  1.21it/s, loss=0.27] \n",
      "Epoch 23/50 [Validating]: 100%|██████████| 18/18 [00:09<00:00,  1.81it/s]\n"
     ]
    },
    {
     "name": "stdout",
     "output_type": "stream",
     "text": [
      "Epoch 23/50 - Train Loss: 0.3079, Train Accuracy: 86.98%, Validation Loss: 2.1356, Validation Accuracy: 58.78%\n"
     ]
    },
    {
     "name": "stderr",
     "output_type": "stream",
     "text": [
      "Epoch 24/50 [FT]: 100%|██████████| 157/157 [02:12<00:00,  1.19it/s, loss=0.357]\n",
      "Epoch 24/50 [Validating]: 100%|██████████| 18/18 [00:10<00:00,  1.71it/s]\n"
     ]
    },
    {
     "name": "stdout",
     "output_type": "stream",
     "text": [
      "Epoch 24/50 - Train Loss: 0.3035, Train Accuracy: 87.19%, Validation Loss: 0.8524, Validation Accuracy: 69.25%\n"
     ]
    },
    {
     "name": "stderr",
     "output_type": "stream",
     "text": [
      "Epoch 25/50 [FT]: 100%|██████████| 157/157 [02:10<00:00,  1.20it/s, loss=0.326]\n",
      "Epoch 25/50 [Validating]: 100%|██████████| 18/18 [00:11<00:00,  1.62it/s]\n"
     ]
    },
    {
     "name": "stdout",
     "output_type": "stream",
     "text": [
      "Epoch 25/50 - Train Loss: 0.3064, Train Accuracy: 87.13%, Validation Loss: 1.1710, Validation Accuracy: 69.33%\n"
     ]
    },
    {
     "name": "stderr",
     "output_type": "stream",
     "text": [
      "Epoch 26/50 [FT]: 100%|██████████| 157/157 [02:13<00:00,  1.17it/s, loss=0.384]\n",
      "Epoch 26/50 [Validating]: 100%|██████████| 18/18 [00:10<00:00,  1.71it/s]\n"
     ]
    },
    {
     "name": "stdout",
     "output_type": "stream",
     "text": [
      "Epoch 26/50 - Train Loss: 0.2992, Train Accuracy: 87.26%, Validation Loss: 0.4552, Validation Accuracy: 82.22%\n"
     ]
    },
    {
     "name": "stderr",
     "output_type": "stream",
     "text": [
      "Epoch 27/50 [FT]: 100%|██████████| 157/157 [02:09<00:00,  1.21it/s, loss=0.263]\n",
      "Epoch 27/50 [Validating]: 100%|██████████| 18/18 [00:10<00:00,  1.74it/s]\n"
     ]
    },
    {
     "name": "stdout",
     "output_type": "stream",
     "text": [
      "\n",
      "Saving model at Epoch 27 with Validation Accuracy: 86.40%\n",
      "Epoch 27/50 - Train Loss: 0.3038, Train Accuracy: 87.07%, Validation Loss: 0.3153, Validation Accuracy: 86.40%\n"
     ]
    },
    {
     "name": "stderr",
     "output_type": "stream",
     "text": [
      "Epoch 28/50 [FT]: 100%|██████████| 157/157 [02:09<00:00,  1.22it/s, loss=0.365]\n",
      "Epoch 28/50 [Validating]: 100%|██████████| 18/18 [00:10<00:00,  1.72it/s]\n"
     ]
    },
    {
     "name": "stdout",
     "output_type": "stream",
     "text": [
      "Epoch 28/50 - Train Loss: 0.3076, Train Accuracy: 87.08%, Validation Loss: 0.3828, Validation Accuracy: 84.38%\n"
     ]
    },
    {
     "name": "stderr",
     "output_type": "stream",
     "text": [
      "Epoch 29/50 [FT]:   4%|▍         | 7/157 [00:06<02:11,  1.14it/s, loss=0.322]\n"
     ]
    },
    {
     "ename": "KeyboardInterrupt",
     "evalue": "",
     "output_type": "error",
     "traceback": [
      "\u001b[0;31m---------------------------------------------------------------------------\u001b[0m",
      "\u001b[0;31mKeyboardInterrupt\u001b[0m                         Traceback (most recent call last)",
      "\u001b[0;32m<ipython-input-11-22ef461d8bc0>\u001b[0m in \u001b[0;36m<cell line: 47>\u001b[0;34m()\u001b[0m\n\u001b[1;32m     54\u001b[0m     \u001b[0mtrain_loader\u001b[0m \u001b[0;34m=\u001b[0m \u001b[0mtqdm\u001b[0m\u001b[0;34m(\u001b[0m\u001b[0mtrain_dataloader\u001b[0m\u001b[0;34m,\u001b[0m \u001b[0mdesc\u001b[0m\u001b[0;34m=\u001b[0m\u001b[0;34mf\"Epoch {epoch+1}/{num_epochs} [FT]\"\u001b[0m\u001b[0;34m,\u001b[0m \u001b[0mleave\u001b[0m\u001b[0;34m=\u001b[0m\u001b[0;32mTrue\u001b[0m\u001b[0;34m)\u001b[0m\u001b[0;34m\u001b[0m\u001b[0;34m\u001b[0m\u001b[0m\n\u001b[1;32m     55\u001b[0m \u001b[0;34m\u001b[0m\u001b[0m\n\u001b[0;32m---> 56\u001b[0;31m     \u001b[0;32mfor\u001b[0m \u001b[0minputs\u001b[0m\u001b[0;34m,\u001b[0m \u001b[0mlabels\u001b[0m \u001b[0;32min\u001b[0m \u001b[0mtrain_loader\u001b[0m\u001b[0;34m:\u001b[0m\u001b[0;34m\u001b[0m\u001b[0;34m\u001b[0m\u001b[0m\n\u001b[0m\u001b[1;32m     57\u001b[0m         \u001b[0minputs\u001b[0m\u001b[0;34m,\u001b[0m \u001b[0mlabels\u001b[0m \u001b[0;34m=\u001b[0m \u001b[0minputs\u001b[0m\u001b[0;34m.\u001b[0m\u001b[0mto\u001b[0m\u001b[0;34m(\u001b[0m\u001b[0mdevice\u001b[0m\u001b[0;34m)\u001b[0m\u001b[0;34m,\u001b[0m \u001b[0mlabels\u001b[0m\u001b[0;34m.\u001b[0m\u001b[0mto\u001b[0m\u001b[0;34m(\u001b[0m\u001b[0mdevice\u001b[0m\u001b[0;34m)\u001b[0m\u001b[0;34m\u001b[0m\u001b[0;34m\u001b[0m\u001b[0m\n\u001b[1;32m     58\u001b[0m \u001b[0;34m\u001b[0m\u001b[0m\n",
      "\u001b[0;32m/usr/local/lib/python3.10/dist-packages/tqdm/std.py\u001b[0m in \u001b[0;36m__iter__\u001b[0;34m(self)\u001b[0m\n\u001b[1;32m   1179\u001b[0m \u001b[0;34m\u001b[0m\u001b[0m\n\u001b[1;32m   1180\u001b[0m         \u001b[0;32mtry\u001b[0m\u001b[0;34m:\u001b[0m\u001b[0;34m\u001b[0m\u001b[0;34m\u001b[0m\u001b[0m\n\u001b[0;32m-> 1181\u001b[0;31m             \u001b[0;32mfor\u001b[0m \u001b[0mobj\u001b[0m \u001b[0;32min\u001b[0m \u001b[0miterable\u001b[0m\u001b[0;34m:\u001b[0m\u001b[0;34m\u001b[0m\u001b[0;34m\u001b[0m\u001b[0m\n\u001b[0m\u001b[1;32m   1182\u001b[0m                 \u001b[0;32myield\u001b[0m \u001b[0mobj\u001b[0m\u001b[0;34m\u001b[0m\u001b[0;34m\u001b[0m\u001b[0m\n\u001b[1;32m   1183\u001b[0m                 \u001b[0;31m# Update and possibly print the progressbar.\u001b[0m\u001b[0;34m\u001b[0m\u001b[0;34m\u001b[0m\u001b[0m\n",
      "\u001b[0;32m/usr/local/lib/python3.10/dist-packages/torch/utils/data/dataloader.py\u001b[0m in \u001b[0;36m__next__\u001b[0;34m(self)\u001b[0m\n\u001b[1;32m    699\u001b[0m                 \u001b[0;31m# TODO(https://github.com/pytorch/pytorch/issues/76750)\u001b[0m\u001b[0;34m\u001b[0m\u001b[0;34m\u001b[0m\u001b[0m\n\u001b[1;32m    700\u001b[0m                 \u001b[0mself\u001b[0m\u001b[0;34m.\u001b[0m\u001b[0m_reset\u001b[0m\u001b[0;34m(\u001b[0m\u001b[0;34m)\u001b[0m  \u001b[0;31m# type: ignore[call-arg]\u001b[0m\u001b[0;34m\u001b[0m\u001b[0;34m\u001b[0m\u001b[0m\n\u001b[0;32m--> 701\u001b[0;31m             \u001b[0mdata\u001b[0m \u001b[0;34m=\u001b[0m \u001b[0mself\u001b[0m\u001b[0;34m.\u001b[0m\u001b[0m_next_data\u001b[0m\u001b[0;34m(\u001b[0m\u001b[0;34m)\u001b[0m\u001b[0;34m\u001b[0m\u001b[0;34m\u001b[0m\u001b[0m\n\u001b[0m\u001b[1;32m    702\u001b[0m             \u001b[0mself\u001b[0m\u001b[0;34m.\u001b[0m\u001b[0m_num_yielded\u001b[0m \u001b[0;34m+=\u001b[0m \u001b[0;36m1\u001b[0m\u001b[0;34m\u001b[0m\u001b[0;34m\u001b[0m\u001b[0m\n\u001b[1;32m    703\u001b[0m             if (\n",
      "\u001b[0;32m/usr/local/lib/python3.10/dist-packages/torch/utils/data/dataloader.py\u001b[0m in \u001b[0;36m_next_data\u001b[0;34m(self)\u001b[0m\n\u001b[1;32m    755\u001b[0m     \u001b[0;32mdef\u001b[0m \u001b[0m_next_data\u001b[0m\u001b[0;34m(\u001b[0m\u001b[0mself\u001b[0m\u001b[0;34m)\u001b[0m\u001b[0;34m:\u001b[0m\u001b[0;34m\u001b[0m\u001b[0;34m\u001b[0m\u001b[0m\n\u001b[1;32m    756\u001b[0m         \u001b[0mindex\u001b[0m \u001b[0;34m=\u001b[0m \u001b[0mself\u001b[0m\u001b[0;34m.\u001b[0m\u001b[0m_next_index\u001b[0m\u001b[0;34m(\u001b[0m\u001b[0;34m)\u001b[0m  \u001b[0;31m# may raise StopIteration\u001b[0m\u001b[0;34m\u001b[0m\u001b[0;34m\u001b[0m\u001b[0m\n\u001b[0;32m--> 757\u001b[0;31m         \u001b[0mdata\u001b[0m \u001b[0;34m=\u001b[0m \u001b[0mself\u001b[0m\u001b[0;34m.\u001b[0m\u001b[0m_dataset_fetcher\u001b[0m\u001b[0;34m.\u001b[0m\u001b[0mfetch\u001b[0m\u001b[0;34m(\u001b[0m\u001b[0mindex\u001b[0m\u001b[0;34m)\u001b[0m  \u001b[0;31m# may raise StopIteration\u001b[0m\u001b[0;34m\u001b[0m\u001b[0;34m\u001b[0m\u001b[0m\n\u001b[0m\u001b[1;32m    758\u001b[0m         \u001b[0;32mif\u001b[0m \u001b[0mself\u001b[0m\u001b[0;34m.\u001b[0m\u001b[0m_pin_memory\u001b[0m\u001b[0;34m:\u001b[0m\u001b[0;34m\u001b[0m\u001b[0;34m\u001b[0m\u001b[0m\n\u001b[1;32m    759\u001b[0m             \u001b[0mdata\u001b[0m \u001b[0;34m=\u001b[0m \u001b[0m_utils\u001b[0m\u001b[0;34m.\u001b[0m\u001b[0mpin_memory\u001b[0m\u001b[0;34m.\u001b[0m\u001b[0mpin_memory\u001b[0m\u001b[0;34m(\u001b[0m\u001b[0mdata\u001b[0m\u001b[0;34m,\u001b[0m \u001b[0mself\u001b[0m\u001b[0;34m.\u001b[0m\u001b[0m_pin_memory_device\u001b[0m\u001b[0;34m)\u001b[0m\u001b[0;34m\u001b[0m\u001b[0;34m\u001b[0m\u001b[0m\n",
      "\u001b[0;32m/usr/local/lib/python3.10/dist-packages/torch/utils/data/_utils/fetch.py\u001b[0m in \u001b[0;36mfetch\u001b[0;34m(self, possibly_batched_index)\u001b[0m\n\u001b[1;32m     50\u001b[0m                 \u001b[0mdata\u001b[0m \u001b[0;34m=\u001b[0m \u001b[0mself\u001b[0m\u001b[0;34m.\u001b[0m\u001b[0mdataset\u001b[0m\u001b[0;34m.\u001b[0m\u001b[0m__getitems__\u001b[0m\u001b[0;34m(\u001b[0m\u001b[0mpossibly_batched_index\u001b[0m\u001b[0;34m)\u001b[0m\u001b[0;34m\u001b[0m\u001b[0;34m\u001b[0m\u001b[0m\n\u001b[1;32m     51\u001b[0m             \u001b[0;32melse\u001b[0m\u001b[0;34m:\u001b[0m\u001b[0;34m\u001b[0m\u001b[0;34m\u001b[0m\u001b[0m\n\u001b[0;32m---> 52\u001b[0;31m                 \u001b[0mdata\u001b[0m \u001b[0;34m=\u001b[0m \u001b[0;34m[\u001b[0m\u001b[0mself\u001b[0m\u001b[0;34m.\u001b[0m\u001b[0mdataset\u001b[0m\u001b[0;34m[\u001b[0m\u001b[0midx\u001b[0m\u001b[0;34m]\u001b[0m \u001b[0;32mfor\u001b[0m \u001b[0midx\u001b[0m \u001b[0;32min\u001b[0m \u001b[0mpossibly_batched_index\u001b[0m\u001b[0;34m]\u001b[0m\u001b[0;34m\u001b[0m\u001b[0;34m\u001b[0m\u001b[0m\n\u001b[0m\u001b[1;32m     53\u001b[0m         \u001b[0;32melse\u001b[0m\u001b[0;34m:\u001b[0m\u001b[0;34m\u001b[0m\u001b[0;34m\u001b[0m\u001b[0m\n\u001b[1;32m     54\u001b[0m             \u001b[0mdata\u001b[0m \u001b[0;34m=\u001b[0m \u001b[0mself\u001b[0m\u001b[0;34m.\u001b[0m\u001b[0mdataset\u001b[0m\u001b[0;34m[\u001b[0m\u001b[0mpossibly_batched_index\u001b[0m\u001b[0;34m]\u001b[0m\u001b[0;34m\u001b[0m\u001b[0;34m\u001b[0m\u001b[0m\n",
      "\u001b[0;32m/usr/local/lib/python3.10/dist-packages/torch/utils/data/_utils/fetch.py\u001b[0m in \u001b[0;36m<listcomp>\u001b[0;34m(.0)\u001b[0m\n\u001b[1;32m     50\u001b[0m                 \u001b[0mdata\u001b[0m \u001b[0;34m=\u001b[0m \u001b[0mself\u001b[0m\u001b[0;34m.\u001b[0m\u001b[0mdataset\u001b[0m\u001b[0;34m.\u001b[0m\u001b[0m__getitems__\u001b[0m\u001b[0;34m(\u001b[0m\u001b[0mpossibly_batched_index\u001b[0m\u001b[0;34m)\u001b[0m\u001b[0;34m\u001b[0m\u001b[0;34m\u001b[0m\u001b[0m\n\u001b[1;32m     51\u001b[0m             \u001b[0;32melse\u001b[0m\u001b[0;34m:\u001b[0m\u001b[0;34m\u001b[0m\u001b[0;34m\u001b[0m\u001b[0m\n\u001b[0;32m---> 52\u001b[0;31m                 \u001b[0mdata\u001b[0m \u001b[0;34m=\u001b[0m \u001b[0;34m[\u001b[0m\u001b[0mself\u001b[0m\u001b[0;34m.\u001b[0m\u001b[0mdataset\u001b[0m\u001b[0;34m[\u001b[0m\u001b[0midx\u001b[0m\u001b[0;34m]\u001b[0m \u001b[0;32mfor\u001b[0m \u001b[0midx\u001b[0m \u001b[0;32min\u001b[0m \u001b[0mpossibly_batched_index\u001b[0m\u001b[0;34m]\u001b[0m\u001b[0;34m\u001b[0m\u001b[0;34m\u001b[0m\u001b[0m\n\u001b[0m\u001b[1;32m     53\u001b[0m         \u001b[0;32melse\u001b[0m\u001b[0;34m:\u001b[0m\u001b[0;34m\u001b[0m\u001b[0;34m\u001b[0m\u001b[0m\n\u001b[1;32m     54\u001b[0m             \u001b[0mdata\u001b[0m \u001b[0;34m=\u001b[0m \u001b[0mself\u001b[0m\u001b[0;34m.\u001b[0m\u001b[0mdataset\u001b[0m\u001b[0;34m[\u001b[0m\u001b[0mpossibly_batched_index\u001b[0m\u001b[0;34m]\u001b[0m\u001b[0;34m\u001b[0m\u001b[0;34m\u001b[0m\u001b[0m\n",
      "\u001b[0;32m<ipython-input-8-62d25856eb88>\u001b[0m in \u001b[0;36m__getitem__\u001b[0;34m(self, idx)\u001b[0m\n\u001b[1;32m     67\u001b[0m \u001b[0;34m\u001b[0m\u001b[0m\n\u001b[1;32m     68\u001b[0m         \u001b[0;31m# Convert to tensor\u001b[0m\u001b[0;34m\u001b[0m\u001b[0;34m\u001b[0m\u001b[0m\n\u001b[0;32m---> 69\u001b[0;31m         \u001b[0mdata_point\u001b[0m \u001b[0;34m=\u001b[0m \u001b[0;34m(\u001b[0m\u001b[0mimage\u001b[0m \u001b[0;34m-\u001b[0m \u001b[0mnp\u001b[0m\u001b[0;34m.\u001b[0m\u001b[0mmean\u001b[0m\u001b[0;34m(\u001b[0m\u001b[0mimage\u001b[0m\u001b[0;34m,\u001b[0m \u001b[0maxis\u001b[0m\u001b[0;34m=\u001b[0m\u001b[0;34m(\u001b[0m\u001b[0;36m1\u001b[0m\u001b[0;34m,\u001b[0m\u001b[0;36m2\u001b[0m\u001b[0;34m)\u001b[0m\u001b[0;34m)\u001b[0m\u001b[0;34m)\u001b[0m\u001b[0;34m/\u001b[0m\u001b[0;34m(\u001b[0m\u001b[0mnp\u001b[0m\u001b[0;34m.\u001b[0m\u001b[0mstd\u001b[0m\u001b[0;34m(\u001b[0m\u001b[0mimage\u001b[0m\u001b[0;34m,\u001b[0m \u001b[0maxis\u001b[0m\u001b[0;34m=\u001b[0m\u001b[0;34m(\u001b[0m\u001b[0;36m1\u001b[0m\u001b[0;34m,\u001b[0m\u001b[0;36m2\u001b[0m\u001b[0;34m)\u001b[0m\u001b[0;34m)\u001b[0m\u001b[0;34m)\u001b[0m\u001b[0;34m\u001b[0m\u001b[0;34m\u001b[0m\u001b[0m\n\u001b[0m\u001b[1;32m     70\u001b[0m         \u001b[0mimage\u001b[0m \u001b[0;34m=\u001b[0m \u001b[0mtorch\u001b[0m\u001b[0;34m.\u001b[0m\u001b[0mfrom_numpy\u001b[0m\u001b[0;34m(\u001b[0m\u001b[0mimage\u001b[0m\u001b[0;34m)\u001b[0m\u001b[0;34m.\u001b[0m\u001b[0mfloat\u001b[0m\u001b[0;34m(\u001b[0m\u001b[0;34m)\u001b[0m\u001b[0;34m\u001b[0m\u001b[0;34m\u001b[0m\u001b[0m\n\u001b[1;32m     71\u001b[0m \u001b[0;34m\u001b[0m\u001b[0m\n",
      "\u001b[0;32m/usr/local/lib/python3.10/dist-packages/numpy/core/fromnumeric.py\u001b[0m in \u001b[0;36mmean\u001b[0;34m(a, axis, dtype, out, keepdims, where)\u001b[0m\n\u001b[1;32m   3502\u001b[0m             \u001b[0;32mreturn\u001b[0m \u001b[0mmean\u001b[0m\u001b[0;34m(\u001b[0m\u001b[0maxis\u001b[0m\u001b[0;34m=\u001b[0m\u001b[0maxis\u001b[0m\u001b[0;34m,\u001b[0m \u001b[0mdtype\u001b[0m\u001b[0;34m=\u001b[0m\u001b[0mdtype\u001b[0m\u001b[0;34m,\u001b[0m \u001b[0mout\u001b[0m\u001b[0;34m=\u001b[0m\u001b[0mout\u001b[0m\u001b[0;34m,\u001b[0m \u001b[0;34m**\u001b[0m\u001b[0mkwargs\u001b[0m\u001b[0;34m)\u001b[0m\u001b[0;34m\u001b[0m\u001b[0;34m\u001b[0m\u001b[0m\n\u001b[1;32m   3503\u001b[0m \u001b[0;34m\u001b[0m\u001b[0m\n\u001b[0;32m-> 3504\u001b[0;31m     return _methods._mean(a, axis=axis, dtype=dtype,\n\u001b[0m\u001b[1;32m   3505\u001b[0m                           out=out, **kwargs)\n\u001b[1;32m   3506\u001b[0m \u001b[0;34m\u001b[0m\u001b[0m\n",
      "\u001b[0;32m/usr/local/lib/python3.10/dist-packages/numpy/core/_methods.py\u001b[0m in \u001b[0;36m_mean\u001b[0;34m(a, axis, dtype, out, keepdims, where)\u001b[0m\n\u001b[1;32m    118\u001b[0m     \u001b[0mret\u001b[0m \u001b[0;34m=\u001b[0m \u001b[0mumr_sum\u001b[0m\u001b[0;34m(\u001b[0m\u001b[0marr\u001b[0m\u001b[0;34m,\u001b[0m \u001b[0maxis\u001b[0m\u001b[0;34m,\u001b[0m \u001b[0mdtype\u001b[0m\u001b[0;34m,\u001b[0m \u001b[0mout\u001b[0m\u001b[0;34m,\u001b[0m \u001b[0mkeepdims\u001b[0m\u001b[0;34m,\u001b[0m \u001b[0mwhere\u001b[0m\u001b[0;34m=\u001b[0m\u001b[0mwhere\u001b[0m\u001b[0;34m)\u001b[0m\u001b[0;34m\u001b[0m\u001b[0;34m\u001b[0m\u001b[0m\n\u001b[1;32m    119\u001b[0m     \u001b[0;32mif\u001b[0m \u001b[0misinstance\u001b[0m\u001b[0;34m(\u001b[0m\u001b[0mret\u001b[0m\u001b[0;34m,\u001b[0m \u001b[0mmu\u001b[0m\u001b[0;34m.\u001b[0m\u001b[0mndarray\u001b[0m\u001b[0;34m)\u001b[0m\u001b[0;34m:\u001b[0m\u001b[0;34m\u001b[0m\u001b[0;34m\u001b[0m\u001b[0m\n\u001b[0;32m--> 120\u001b[0;31m         \u001b[0;32mwith\u001b[0m \u001b[0m_no_nep50_warning\u001b[0m\u001b[0;34m(\u001b[0m\u001b[0;34m)\u001b[0m\u001b[0;34m:\u001b[0m\u001b[0;34m\u001b[0m\u001b[0;34m\u001b[0m\u001b[0m\n\u001b[0m\u001b[1;32m    121\u001b[0m             ret = um.true_divide(\n\u001b[1;32m    122\u001b[0m                     ret, rcount, out=ret, casting='unsafe', subok=False)\n",
      "\u001b[0;32m/usr/lib/python3.10/contextlib.py\u001b[0m in \u001b[0;36mhelper\u001b[0;34m(*args, **kwds)\u001b[0m\n\u001b[1;32m    279\u001b[0m     \u001b[0;34m@\u001b[0m\u001b[0mwraps\u001b[0m\u001b[0;34m(\u001b[0m\u001b[0mfunc\u001b[0m\u001b[0;34m)\u001b[0m\u001b[0;34m\u001b[0m\u001b[0;34m\u001b[0m\u001b[0m\n\u001b[1;32m    280\u001b[0m     \u001b[0;32mdef\u001b[0m \u001b[0mhelper\u001b[0m\u001b[0;34m(\u001b[0m\u001b[0;34m*\u001b[0m\u001b[0margs\u001b[0m\u001b[0;34m,\u001b[0m \u001b[0;34m**\u001b[0m\u001b[0mkwds\u001b[0m\u001b[0;34m)\u001b[0m\u001b[0;34m:\u001b[0m\u001b[0;34m\u001b[0m\u001b[0;34m\u001b[0m\u001b[0m\n\u001b[0;32m--> 281\u001b[0;31m         \u001b[0;32mreturn\u001b[0m \u001b[0m_GeneratorContextManager\u001b[0m\u001b[0;34m(\u001b[0m\u001b[0mfunc\u001b[0m\u001b[0;34m,\u001b[0m \u001b[0margs\u001b[0m\u001b[0;34m,\u001b[0m \u001b[0mkwds\u001b[0m\u001b[0;34m)\u001b[0m\u001b[0;34m\u001b[0m\u001b[0;34m\u001b[0m\u001b[0m\n\u001b[0m\u001b[1;32m    282\u001b[0m     \u001b[0;32mreturn\u001b[0m \u001b[0mhelper\u001b[0m\u001b[0;34m\u001b[0m\u001b[0;34m\u001b[0m\u001b[0m\n\u001b[1;32m    283\u001b[0m \u001b[0;34m\u001b[0m\u001b[0m\n",
      "\u001b[0;32m/usr/lib/python3.10/contextlib.py\u001b[0m in \u001b[0;36m__init__\u001b[0;34m(self, func, args, kwds)\u001b[0m\n\u001b[1;32m    100\u001b[0m     \u001b[0;34m\"\"\"Shared functionality for @contextmanager and @asynccontextmanager.\"\"\"\u001b[0m\u001b[0;34m\u001b[0m\u001b[0;34m\u001b[0m\u001b[0m\n\u001b[1;32m    101\u001b[0m \u001b[0;34m\u001b[0m\u001b[0m\n\u001b[0;32m--> 102\u001b[0;31m     \u001b[0;32mdef\u001b[0m \u001b[0m__init__\u001b[0m\u001b[0;34m(\u001b[0m\u001b[0mself\u001b[0m\u001b[0;34m,\u001b[0m \u001b[0mfunc\u001b[0m\u001b[0;34m,\u001b[0m \u001b[0margs\u001b[0m\u001b[0;34m,\u001b[0m \u001b[0mkwds\u001b[0m\u001b[0;34m)\u001b[0m\u001b[0;34m:\u001b[0m\u001b[0;34m\u001b[0m\u001b[0;34m\u001b[0m\u001b[0m\n\u001b[0m\u001b[1;32m    103\u001b[0m         \u001b[0mself\u001b[0m\u001b[0;34m.\u001b[0m\u001b[0mgen\u001b[0m \u001b[0;34m=\u001b[0m \u001b[0mfunc\u001b[0m\u001b[0;34m(\u001b[0m\u001b[0;34m*\u001b[0m\u001b[0margs\u001b[0m\u001b[0;34m,\u001b[0m \u001b[0;34m**\u001b[0m\u001b[0mkwds\u001b[0m\u001b[0;34m)\u001b[0m\u001b[0;34m\u001b[0m\u001b[0;34m\u001b[0m\u001b[0m\n\u001b[1;32m    104\u001b[0m         \u001b[0mself\u001b[0m\u001b[0;34m.\u001b[0m\u001b[0mfunc\u001b[0m\u001b[0;34m,\u001b[0m \u001b[0mself\u001b[0m\u001b[0;34m.\u001b[0m\u001b[0margs\u001b[0m\u001b[0;34m,\u001b[0m \u001b[0mself\u001b[0m\u001b[0;34m.\u001b[0m\u001b[0mkwds\u001b[0m \u001b[0;34m=\u001b[0m \u001b[0mfunc\u001b[0m\u001b[0;34m,\u001b[0m \u001b[0margs\u001b[0m\u001b[0;34m,\u001b[0m \u001b[0mkwds\u001b[0m\u001b[0;34m\u001b[0m\u001b[0;34m\u001b[0m\u001b[0m\n",
      "\u001b[0;31mKeyboardInterrupt\u001b[0m: "
     ]
    }
   ],
   "source": [
    "##Full finetuning was run for 100 epochs. Due to server crash on kaggle\n",
    "##logs were not saved\n",
    "##This is the final run just to see train and test acc of the saved model.\n",
    "\n",
    "criterion = nn.CrossEntropyLoss()\n",
    "    \n",
    "# Unfreeze encoder for fine tuning\n",
    "for param in encoder.parameters():\n",
    "        param.requires_grad = True\n",
    "\n",
    "\n",
    "trainable_params = [p for p in model.parameters() if p.requires_grad]\n",
    "\n",
    "\n",
    "# Define parameter groups\n",
    "optimizer = torch.optim.AdamW([\n",
    "    {'params': model.encoder.parameters(), 'lr': 9.5e-5},\n",
    "    {'params': model.mlp.parameters(), 'lr': 8e-4},\n",
    "    {'params': model.classifier.parameters(), 'lr': 8e-4}  # Higher LR for classifier\n",
    "], weight_decay=1e-4)\n",
    "# Use a cosine learning rate scheduler (common with LARS)\n",
    "scheduler = torch.optim.lr_scheduler.CosineAnnealingLR(optimizer, T_max=100, eta_min = 1e-5)  # T_max = number of epochs\n",
    "\n",
    "# Move the model to the GPU if available\n",
    "device = torch.device(\"cuda:0\" if torch.cuda.is_available() else \"cpu\")\n",
    "NUM_GPU = torch.cuda.device_count()\n",
    "\n",
    "model = model.to(device)\n",
    "ckpt = torch.load('/kaggle/working/save_weights/FT_classification.pth')\n",
    "new_state_dict = {key.replace(\"module.\", \"\"): value for key, value in ckpt.items()}\n",
    "\n",
    "model.load_state_dict(new_state_dict)\n",
    "if NUM_GPU > 1:\n",
    "    model = nn.DataParallel(model)\n",
    "\n",
    "\n",
    "total_params = sum(p.numel() for p in model.parameters() if p.requires_grad)\n",
    "\n",
    "print(f\"\\n ####Total number of train params, training full: {total_params}####\")\n",
    "# Training loop\n",
    "num_epochs = 50\n",
    "best_accuracy = 0.0\n",
    "\n",
    "train_loss_list = []\n",
    "train_acc_list = []\n",
    "val_loss_list = []\n",
    "val_acc_list = []\n",
    "\n",
    "for epoch in range(num_epochs):\n",
    "    # Training phase\n",
    "    model.train()\n",
    "    total_train_loss = 0.0\n",
    "    total_train_correct = 0\n",
    "    total_train_samples = 0\n",
    "\n",
    "    train_loader = tqdm(train_dataloader, desc=f\"Epoch {epoch+1}/{num_epochs} [FT]\", leave=True)\n",
    "    \n",
    "    for inputs, labels in train_loader:\n",
    "        inputs, labels = inputs.to(device), labels.to(device)\n",
    "\n",
    "        optimizer.zero_grad()\n",
    "        outputs = model(inputs)\n",
    "        loss = criterion(outputs, labels)\n",
    "        loss.backward()\n",
    "        optimizer.step()\n",
    "\n",
    "        total_train_loss += loss.item()\n",
    "        _, predicted = torch.max(outputs, 1)\n",
    "        total_train_samples += labels.size(0)\n",
    "        total_train_correct += (predicted == labels).sum().item()\n",
    "\n",
    "        train_loader.set_postfix(loss=loss.item())\n",
    "\n",
    "    avg_train_loss = total_train_loss / len(train_dataloader)\n",
    "    train_accuracy = total_train_correct / total_train_samples\n",
    "\n",
    "    # Validation phase\n",
    "    model.eval()\n",
    "    total_val_loss = 0.0\n",
    "    total_val_correct = 0\n",
    "    total_val_samples = 0\n",
    "\n",
    "    val_loader = tqdm(test_dataloader, desc=f\"Epoch {epoch+1}/{num_epochs} [Validating]\", leave=True)\n",
    "    \n",
    "    with torch.no_grad():\n",
    "        for test_inputs, test_labels in val_loader:\n",
    "            test_inputs, test_labels = test_inputs.to(device), test_labels.to(device)\n",
    "            test_outputs = model(test_inputs)\n",
    "            loss = criterion(test_outputs, test_labels)\n",
    "\n",
    "            total_val_loss += loss.item()\n",
    "            _, predicted = torch.max(test_outputs, 1)\n",
    "            total_val_samples += test_labels.size(0)\n",
    "            total_val_correct += (predicted == test_labels).sum().item()\n",
    "\n",
    "    avg_val_loss = total_val_loss / len(test_dataloader)\n",
    "    val_accuracy = total_val_correct / total_val_samples\n",
    "\n",
    "    # Save best model\n",
    "    if val_accuracy > best_accuracy:\n",
    "        best_accuracy = val_accuracy\n",
    "        print(f\"\\nSaving model at Epoch {epoch+1} with Validation Accuracy: {best_accuracy:.2%}\") \n",
    "        torch.save(model.state_dict(), '/kaggle/working/save_weights/FT_classification.pth')\n",
    "    \n",
    "    # Print training and validation statistics\n",
    "    print(f\"Epoch {epoch+1}/{num_epochs} - Train Loss: {avg_train_loss:.4f}, Train Accuracy: {train_accuracy:.2%}, \"\n",
    "          f\"Validation Loss: {avg_val_loss:.4f}, Validation Accuracy: {val_accuracy:.2%}\")\n",
    "    \n",
    "    # Store logs\n",
    "    train_loss_list.append((epoch, avg_train_loss))\n",
    "    train_acc_list.append((epoch, train_accuracy))\n",
    "    val_loss_list.append((epoch, avg_val_loss))\n",
    "    val_acc_list.append((epoch, val_accuracy))\n"
   ]
  },
  {
   "cell_type": "code",
   "execution_count": 15,
   "metadata": {
    "execution": {
     "iopub.execute_input": "2025-03-26T19:51:47.962022Z",
     "iopub.status.busy": "2025-03-26T19:51:47.961563Z",
     "iopub.status.idle": "2025-03-26T19:53:48.696678Z",
     "shell.execute_reply": "2025-03-26T19:53:48.695659Z",
     "shell.execute_reply.started": "2025-03-26T19:51:47.961986Z"
    },
    "trusted": true
   },
   "outputs": [
    {
     "name": "stderr",
     "output_type": "stream",
     "text": [
      "<ipython-input-15-c3e7db48446f>:3: FutureWarning: You are using `torch.load` with `weights_only=False` (the current default value), which uses the default pickle module implicitly. It is possible to construct malicious pickle data which will execute arbitrary code during unpickling (See https://github.com/pytorch/pytorch/blob/main/SECURITY.md#untrusted-models for more details). In a future release, the default value for `weights_only` will be flipped to `True`. This limits the functions that could be executed during unpickling. Arbitrary objects will no longer be allowed to be loaded via this mode unless they are explicitly allowlisted by the user via `torch.serialization.add_safe_globals`. We recommend you start setting `weights_only=True` for any use case where you don't have full control of the loaded file. Please open an issue on GitHub for any issues related to this experimental feature.\n",
      "  checkpoint = torch.load(\"/kaggle/input/weights-ml4sci-all/FT_classification_final_256emb.pth\", map_location = 'cpu')\n",
      "<ipython-input-6-bb43d6658500>:59: FutureWarning: You are using `torch.load` with `weights_only=False` (the current default value), which uses the default pickle module implicitly. It is possible to construct malicious pickle data which will execute arbitrary code during unpickling (See https://github.com/pytorch/pytorch/blob/main/SECURITY.md#untrusted-models for more details). In a future release, the default value for `weights_only` will be flipped to `True`. This limits the functions that could be executed during unpickling. Arbitrary objects will no longer be allowed to be loaded via this mode unless they are explicitly allowlisted by the user via `torch.serialization.add_safe_globals`. We recommend you start setting `weights_only=True` for any use case where you don't have full control of the loaded file. Please open an issue on GitHub for any issues related to this experimental feature.\n",
      "  checkpoint = torch.load(weights_path, map_location = 'cpu')\n"
     ]
    },
    {
     "name": "stdout",
     "output_type": "stream",
     "text": [
      "Missing keys: []\n",
      "Unexpected keys: ['decoder.mask_token', 'decoder.decoder_pos_embed', 'decoder.decoder_embed.weight', 'decoder.decoder_embed.bias', 'decoder.decoder_blocks.0.norm1.weight', 'decoder.decoder_blocks.0.norm1.bias', 'decoder.decoder_blocks.0.attn.qkv.weight', 'decoder.decoder_blocks.0.attn.qkv.bias', 'decoder.decoder_blocks.0.attn.proj.weight', 'decoder.decoder_blocks.0.attn.proj.bias', 'decoder.decoder_blocks.0.norm2.weight', 'decoder.decoder_blocks.0.norm2.bias', 'decoder.decoder_blocks.0.mlp.fc1.weight', 'decoder.decoder_blocks.0.mlp.fc1.bias', 'decoder.decoder_blocks.0.mlp.fc2.weight', 'decoder.decoder_blocks.0.mlp.fc2.bias', 'decoder.decoder_blocks.1.norm1.weight', 'decoder.decoder_blocks.1.norm1.bias', 'decoder.decoder_blocks.1.attn.qkv.weight', 'decoder.decoder_blocks.1.attn.qkv.bias', 'decoder.decoder_blocks.1.attn.proj.weight', 'decoder.decoder_blocks.1.attn.proj.bias', 'decoder.decoder_blocks.1.norm2.weight', 'decoder.decoder_blocks.1.norm2.bias', 'decoder.decoder_blocks.1.mlp.fc1.weight', 'decoder.decoder_blocks.1.mlp.fc1.bias', 'decoder.decoder_blocks.1.mlp.fc2.weight', 'decoder.decoder_blocks.1.mlp.fc2.bias', 'decoder.decoder_blocks.2.norm1.weight', 'decoder.decoder_blocks.2.norm1.bias', 'decoder.decoder_blocks.2.attn.qkv.weight', 'decoder.decoder_blocks.2.attn.qkv.bias', 'decoder.decoder_blocks.2.attn.proj.weight', 'decoder.decoder_blocks.2.attn.proj.bias', 'decoder.decoder_blocks.2.norm2.weight', 'decoder.decoder_blocks.2.norm2.bias', 'decoder.decoder_blocks.2.mlp.fc1.weight', 'decoder.decoder_blocks.2.mlp.fc1.bias', 'decoder.decoder_blocks.2.mlp.fc2.weight', 'decoder.decoder_blocks.2.mlp.fc2.bias', 'decoder.decoder_blocks.3.norm1.weight', 'decoder.decoder_blocks.3.norm1.bias', 'decoder.decoder_blocks.3.attn.qkv.weight', 'decoder.decoder_blocks.3.attn.qkv.bias', 'decoder.decoder_blocks.3.attn.proj.weight', 'decoder.decoder_blocks.3.attn.proj.bias', 'decoder.decoder_blocks.3.norm2.weight', 'decoder.decoder_blocks.3.norm2.bias', 'decoder.decoder_blocks.3.mlp.fc1.weight', 'decoder.decoder_blocks.3.mlp.fc1.bias', 'decoder.decoder_blocks.3.mlp.fc2.weight', 'decoder.decoder_blocks.3.mlp.fc2.bias', 'decoder.decoder_norm.weight', 'decoder.decoder_norm.bias', 'decoder.decoder_pred.weight', 'decoder.decoder_pred.bias']\n"
     ]
    },
    {
     "data": {
      "image/png": "[encoded data removed]",
      "text/plain": [
       "<Figure size 2000x1200 with 1 Axes>"
      ]
     },
     "metadata": {},
     "output_type": "display_data"
    }
   ],
   "source": [
    "##ROC AUC\n",
    "enc_weights_path = \"/kaggle/input/weights-ml4sci-all/best_mae_vit_model_256emb_final.pth\"\n",
    "checkpoint = torch.load(\"/kaggle/input/weights-ml4sci-all/FT_classification_final_256emb.pth\", map_location = 'cpu')\n",
    "img_size = 64\n",
    "encoder = load_pretrained_encoder(enc_weights_path, img_size)\n",
    "num_classes = 3\n",
    "device = 'cpu'\n",
    "new_state_dict = {key.replace(\"module.\", \"\"): value for key, value in checkpoint.items()}\n",
    "model = ClassificationModel(encoder, num_classes=3).to(device)\n",
    "model.load_state_dict(new_state_dict)\n",
    "\n",
    "model.eval()\n",
    "num_classes = 3\n",
    "all_labels = []\n",
    "all_scores = []\n",
    "\n",
    "with torch.no_grad():\n",
    "    for val_inputs, val_labels in test_dataloader:\n",
    "        val_inputs, val_labels = val_inputs.to(device), val_labels.to(device)\n",
    "        val_outputs = model(val_inputs)\n",
    "        \n",
    "        # Assuming the model outputs raw logits, apply softmax to get probabilities\n",
    "        probabilities = torch.nn.functional.softmax(val_outputs, dim=1)\n",
    "        \n",
    "        all_labels.extend(val_labels.cpu().numpy())\n",
    "        all_scores.extend(probabilities.cpu().numpy())\n",
    "\n",
    "# Binarize the labels\n",
    "y_true = label_binarize(all_labels, classes=list(range(num_classes)))\n",
    "\n",
    "# Ensure y_true and all_scores are numpy arrays\n",
    "y_true = np.array(y_true)\n",
    "all_scores = np.array(all_scores)\n",
    "\n",
    "# Compute ROC curve and ROC area for each class\n",
    "fpr = dict()\n",
    "tpr = dict()\n",
    "roc_auc = dict()\n",
    "for i in range(num_classes):\n",
    "    fpr[i], tpr[i], _ = roc_curve(y_true[:, i], all_scores[:, i])\n",
    "    roc_auc[i] = auc(fpr[i], tpr[i])\n",
    "\n",
    "# Compute micro-average ROC curve and ROC area\n",
    "fpr[\"micro\"], tpr[\"micro\"], _ = roc_curve(y_true.ravel(), all_scores.ravel())\n",
    "roc_auc[\"micro\"] = auc(fpr[\"micro\"], tpr[\"micro\"])\n",
    "\n",
    "# Plot the ROC curves\n",
    "plt.figure(figsize=(20, 12))\n",
    "for i in range(num_classes):\n",
    "    plt.plot(fpr[i], tpr[i], lw=2, label=f'Class {i} (AUC = {roc_auc[i]:.2f})')\n",
    "\n",
    "plt.plot(fpr[\"micro\"], tpr[\"micro\"], color='darkorange', linestyle='--', lw=2, label=f'Micro-average (AUC = {roc_auc[\"micro\"]:.2f})')\n",
    "\n",
    "plt.plot([0, 1], [0, 1], color='navy', lw=2, linestyle='--')\n",
    "plt.xlabel('False Positive Rate (FPR)')\n",
    "plt.ylabel('True Positive Rate (TPR)')\n",
    "plt.title('ROC Curve FT 256emb')\n",
    "plt.legend(loc=\"lower right\")\n",
    "plt.show()\n"
   ]
  },
  {
   "cell_type": "code",
   "execution_count": null,
   "metadata": {
    "trusted": true
   },
   "outputs": [],
   "source": []
  }
 ],
 "metadata": {
  "kaggle": {
   "accelerator": "none",
   "dataSources": [
    {
     "databundleVersionId": 11494000,
     "datasetId": 6921500,
     "sourceId": 11102907,
     "sourceType": "datasetVersion"
    },
    {
     "databundleVersionId": 11571764,
     "datasetId": 6904484,
     "sourceId": 11171119,
     "sourceType": "datasetVersion"
    }
   ],
   "dockerImageVersionId": 30918,
   "isGpuEnabled": false,
   "isInternetEnabled": true,
   "language": "python",
   "sourceType": "notebook"
  },
  "kernelspec": {
   "display_name": "Python 3",
   "language": "python",
   "name": "python3"
  },
  "language_info": {
   "codemirror_mode": {
    "name": "ipython",
    "version": 3
   },
   "file_extension": ".py",
   "mimetype": "text/x-python",
   "name": "python",
   "nbconvert_exporter": "python",
   "pygments_lexer": "ipython3",
   "version": "3.10.12"
  }
 },
 "nbformat": 4,
 "nbformat_minor": 4
}
