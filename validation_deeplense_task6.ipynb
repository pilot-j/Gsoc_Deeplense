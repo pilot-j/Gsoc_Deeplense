{
 "cells": [
  {
   "cell_type": "markdown",
   "metadata": {},
   "source": [
    "## IMPORTS"
   ]
  },
  {
   "cell_type": "code",
   "execution_count": 2,
   "metadata": {
    "_cell_guid": "b1076dfc-b9ad-4769-8c92-a6c4dae69d19",
    "_uuid": "8f2839f25d086af736a60e9eeb907d3b93b6e0e5",
    "execution": {
     "iopub.execute_input": "2025-04-03T18:02:31.951203Z",
     "iopub.status.busy": "2025-04-03T18:02:31.950481Z",
     "iopub.status.idle": "2025-04-03T18:02:31.963735Z",
     "shell.execute_reply": "2025-04-03T18:02:31.962418Z",
     "shell.execute_reply.started": "2025-04-03T18:02:31.951150Z"
    },
    "trusted": true
   },
   "outputs": [],
   "source": [
    "import os\n",
    "import pandas as pd\n",
    "import numpy as np\n",
    "import csv\n",
    "import torch\n",
    "import torch.nn as nn\n",
    "import matplotlib.pyplot as plt\n",
    "import tqdm\n",
    "import ctypes\n",
    "import gc\n",
    "import random\n",
    "import json\n",
    "import datetime\n",
    "import warnings\n",
    "from pathlib import Path\n",
    "from PIL import Image, ImageOps, ImageEnhance\n",
    "from functools import partial\n",
    "from timm.models.vision_transformer import PatchEmbed, Block\n",
    "from skimage import io, transform\n",
    "from torchmetrics.functional.image import peak_signal_noise_ratio\n",
    "from torch.utils.data import Dataset, DataLoader, random_split\n",
    "from torchvision import transforms, utils\n",
    "from torch.optim import AdamW\n",
    "from torch.optim.lr_scheduler import CosineAnnealingWarmRestarts\n",
    "from tqdm import tqdm\n",
    "from torchmetrics import Accuracy\n",
    "from torchvision import datasets, transforms\n",
    "import torch.optim as optim\n",
    "import torch.nn.functional as F\n",
    "\n",
    "\n",
    "from sklearn.preprocessing import LabelEncoder\n",
    "from sklearn.metrics import roc_curve, auc, confusion_matrix, ConfusionMatrixDisplay\n",
    "from skimage.metrics import peak_signal_noise_ratio as psnr\n",
    "from skimage.metrics import structural_similarity as ssim\n",
    "from sklearn.preprocessing import label_binarize\n",
    "\n",
    "libc = ctypes.CDLL(\"libc.so.6\")"
   ]
  },
  {
   "cell_type": "code",
   "execution_count": 3,
   "metadata": {
    "execution": {
     "iopub.execute_input": "2025-04-03T18:02:33.894640Z",
     "iopub.status.busy": "2025-04-03T18:02:33.894138Z",
     "iopub.status.idle": "2025-04-03T18:02:33.900106Z",
     "shell.execute_reply": "2025-04-03T18:02:33.898998Z",
     "shell.execute_reply.started": "2025-04-03T18:02:33.894467Z"
    },
    "trusted": true
   },
   "outputs": [],
   "source": [
    "def set_seed(seed=42):\n",
    "    random.seed(seed)\n",
    "    np.random.seed(seed)\n",
    "    torch.manual_seed(seed)\n",
    "    torch.cuda.manual_seed(seed)\n",
    "    torch.cuda.manual_seed_all(seed)  # if using multi-GPU\n",
    "    torch.backends.cudnn.deterministic = True\n",
    "    torch.backends.cudnn.benchmark = False"
   ]
  },
  {
   "cell_type": "code",
   "execution_count": 4,
   "metadata": {
    "execution": {
     "iopub.execute_input": "2025-04-03T18:02:36.888424Z",
     "iopub.status.busy": "2025-04-03T18:02:36.888063Z",
     "iopub.status.idle": "2025-04-03T18:02:36.900923Z",
     "shell.execute_reply": "2025-04-03T18:02:36.899685Z",
     "shell.execute_reply.started": "2025-04-03T18:02:36.888394Z"
    },
    "trusted": true
   },
   "outputs": [],
   "source": [
    "set_seed()"
   ]
  },
  {
   "cell_type": "markdown",
   "metadata": {},
   "source": [
    "## MAKSED AUTOENCODER"
   ]
  },
  {
   "cell_type": "code",
   "execution_count": null,
   "metadata": {
    "execution": {
     "iopub.execute_input": "2025-04-03T19:02:03.851388Z",
     "iopub.status.busy": "2025-04-03T19:02:03.851011Z",
     "iopub.status.idle": "2025-04-03T19:02:03.891141Z",
     "shell.execute_reply": "2025-04-03T19:02:03.889897Z",
     "shell.execute_reply.started": "2025-04-03T19:02:03.851360Z"
    },
    "trusted": true
   },
   "outputs": [],
   "source": [
    "def get_2d_sincos_pos_embed(embed_dim, grid_size, cls_token=False):\n",
    "    \"\"\"\n",
    "    grid_size: int of the grid height and width\n",
    "    return:\n",
    "    pos_embed: [grid_size*grid_size, embed_dim] or [1+grid_size*grid_size, embed_dim] (w/ or w/o cls_token)\n",
    "    \"\"\"\n",
    "    grid_h = np.arange(grid_size, dtype=np.float32)\n",
    "    grid_w = np.arange(grid_size, dtype=np.float32)\n",
    "    grid = np.meshgrid(grid_w, grid_h)  # here w goes first\n",
    "    grid = np.stack(grid, axis=0)\n",
    "\n",
    "    grid = grid.reshape([2, 1, grid_size, grid_size])\n",
    "    pos_embed = get_2d_sincos_pos_embed_from_grid(embed_dim, grid)\n",
    "    if cls_token:\n",
    "        pos_embed = np.concatenate([np.zeros([1, embed_dim]), pos_embed], axis=0)\n",
    "    return pos_embed\n",
    "\n",
    "\n",
    "def get_2d_sincos_pos_embed_from_grid(embed_dim, grid):\n",
    "    assert embed_dim % 2 == 0\n",
    "\n",
    "    # use half of dimensions to encode grid_h\n",
    "    emb_h = get_1d_sincos_pos_embed_from_grid(embed_dim // 2, grid[0])  # (H*W, D/2)\n",
    "    emb_w = get_1d_sincos_pos_embed_from_grid(embed_dim // 2, grid[1])  # (H*W, D/2)\n",
    "\n",
    "    emb = np.concatenate([emb_h, emb_w], axis=1) # (H*W, D)\n",
    "    return emb\n",
    "\n",
    "\n",
    "def get_1d_sincos_pos_embed_from_grid(embed_dim, pos):\n",
    "    \"\"\"\n",
    "    embed_dim: output dimension for each position\n",
    "    pos: a list of positions to be encoded: size (M,)\n",
    "    out: (M, D)\n",
    "    \"\"\"\n",
    "    assert embed_dim % 2 == 0\n",
    "    omega = np.arange(embed_dim // 2, dtype='float32')\n",
    "    omega /= embed_dim / 2.\n",
    "    omega = 1. / 10000**omega  # (D/2,)\n",
    "\n",
    "    pos = pos.reshape(-1)  # (M,)\n",
    "    out = np.einsum('m,d->md', pos, omega)  # (M, D/2), outer product\n",
    "\n",
    "    emb_sin = np.sin(out) # (M, D/2)\n",
    "    emb_cos = np.cos(out) # (M, D/2)\n",
    "\n",
    "    emb = np.concatenate([emb_sin, emb_cos], axis=1)  # (M, D)\n",
    "    return emb\n",
    "\n",
    "\n",
    "def patchify(imgs, img_size, patch_size, in_chans, embed_dim):\n",
    "    \"\"\"\n",
    "    imgs: (N, in_chans, H, W)\n",
    "    x: (N, L, patch_size**2 *in_chans)\n",
    "    \"\"\"\n",
    "    patch_embed = PatchEmbed(img_size, patch_size, in_chans, embed_dim)\n",
    "    p = patch_embed.patch_size[0]\n",
    "    assert imgs.shape[2] == imgs.shape[3] and imgs.shape[2] % p == 0\n",
    "\n",
    "    h = w = imgs.shape[2] // p\n",
    "    \n",
    "    # in_ch is 1\n",
    "    x = imgs.reshape(shape=(imgs.shape[0], in_chans, h, p, w, p))\n",
    "    x = torch.einsum('nchpwq->nhwpqc', x)\n",
    "    x = x.reshape(shape=(imgs.shape[0], h * w, p**2 * in_chans))\n",
    "    return x\n",
    "\n",
    "def unpatchify(x, img_size, patch_size, in_chans, embed_dim):\n",
    "    \"\"\"\n",
    "    x: (N, L, patch_size**2 *in_chans)\n",
    "    imgs: (N, in_chans, H, W)\n",
    "    \"\"\"\n",
    "    patch_embed = PatchEmbed(img_size, patch_size, in_chans, embed_dim)\n",
    "    p = patch_embed.patch_size[0]\n",
    "    h = w = int(x.shape[1]**.5)\n",
    "    assert h * w == x.shape[1]\n",
    "    \n",
    "    x = x.reshape(shape=(x.shape[0], h, w, p, p, in_chans))\n",
    "    x = torch.einsum('nhwpqc->nchpwq', x)\n",
    "    imgs = x.reshape(shape=(x.shape[0], in_chans, h * p, h * p))\n",
    "    return imgs\n",
    "#Original Code for ViT had \n",
    "class Encoder(nn.Module):\n",
    "    def __init__(self, img_size=64, patch_size=4, in_chans=1, mask_ratio = 0.75,\n",
    "                 embed_dim=256, depth=12, num_heads=8,\n",
    "                 mlp_ratio=4., norm_layer=nn.LayerNorm, norm_pix_loss=False):\n",
    "        super().__init__()\n",
    "\n",
    "        # --------------------------------------------------------------------------\n",
    "        # MAE encoder specifics\n",
    "        self.mask_ratio = mask_ratio\n",
    "        self.patch_embed = PatchEmbed(img_size, patch_size, in_chans, embed_dim)\n",
    "        num_patches = self.patch_embed.num_patches\n",
    "\n",
    "        self.cls_token = nn.Parameter(torch.zeros(1, 1, embed_dim))\n",
    "        self.pos_embed = nn.Parameter(torch.zeros(1, num_patches + 1, embed_dim), requires_grad=False)  # fixed sin-cos embedding\n",
    "\n",
    "        self.blocks = nn.ModuleList([\n",
    "            Block(embed_dim, num_heads, mlp_ratio, qkv_bias=True, norm_layer=norm_layer)\n",
    "            for i in range(depth)])\n",
    "        \n",
    "        self.norm = norm_layer(embed_dim)\n",
    "\n",
    "        self.initialize_weights()\n",
    "\n",
    "    def initialize_weights(self):\n",
    "        # initialization\n",
    "        # initialize (and freeze) pos_embed by sin-cos embedding\n",
    "        pos_embed = get_2d_sincos_pos_embed(self.pos_embed.shape[-1], int(self.patch_embed.num_patches**.5), cls_token=True)\n",
    "        self.pos_embed.data.copy_(torch.from_numpy(pos_embed).float().unsqueeze(0))\n",
    "\n",
    "        # initialize patch_embed like nn.Linear (instead of nn.Conv2d)\n",
    "        w = self.patch_embed.proj.weight.data\n",
    "        torch.nn.init.xavier_uniform_(w.view([w.shape[0], -1]))\n",
    "\n",
    "        # timm's trunc_normal_(std=.02) is effectively normal_(std=0.02) as cutoff is too big (2.)\n",
    "        torch.nn.init.normal_(self.cls_token, std=.02)\n",
    "\n",
    "        # initialize nn.Linear and nn.LayerNorm\n",
    "        self.apply(self._init_weights)\n",
    "    \n",
    "    def _init_weights(self, m):\n",
    "        if isinstance(m, nn.Linear):\n",
    "            # we use xavier_uniform following official JAX ViT:\n",
    "            torch.nn.init.xavier_uniform_(m.weight)\n",
    "            if isinstance(m, nn.Linear) and m.bias is not None:\n",
    "                nn.init.constant_(m.bias, 0)\n",
    "        elif isinstance(m, nn.LayerNorm):\n",
    "            nn.init.constant_(m.bias, 0)\n",
    "            nn.init.constant_(m.weight, 1.0)\n",
    "\n",
    "    def random_masking(self, x, mask_ratio):\n",
    "        \"\"\"\n",
    "        Perform per-sample random masking by per-sample shuffling.\n",
    "        Per-sample shuffling is done by argsort random noise.\n",
    "        x: [N, L, D], sequence\n",
    "        \"\"\"\n",
    "        N, L, D = x.shape  # batch, length, dim\n",
    "        len_keep = int(L * (1 - mask_ratio))\n",
    "        \n",
    "        noise = torch.rand(N, L, device=x.device)  # noise in [0, 1]\n",
    "        \n",
    "        # sort noise for each sample\n",
    "        ids_shuffle = torch.argsort(noise, dim=1)  # ascend: small is keep, large is remove\n",
    "        ids_restore = torch.argsort(ids_shuffle, dim=1)\n",
    "\n",
    "        # keep the first subset\n",
    "        ids_keep = ids_shuffle[:, :len_keep]\n",
    "        x_masked = torch.gather(x, dim=1, index=ids_keep.unsqueeze(-1).repeat(1, 1, D))\n",
    "\n",
    "        # generate the binary mask: 0 is keep, 1 is remove\n",
    "        mask = torch.ones([N, L], device=x.device)\n",
    "        mask[:, :len_keep] = 0\n",
    "        # unshuffle to get the binary mask\n",
    "        mask = torch.gather(mask, dim=1, index=ids_restore)\n",
    "\n",
    "        return x_masked, mask, ids_restore\n",
    "    \n",
    "    def forward(self, x):\n",
    "        \n",
    "        # embed patches\n",
    "        x = self.patch_embed(x)\n",
    "        x = x + self.pos_embed[:, 1:, :] # add pos embed w/o cls token\n",
    "\n",
    "        # masking: length -> length * mask_ratio\n",
    "        x, mask, ids_restore = self.random_masking(x, self.mask_ratio)\n",
    "\n",
    "        # append cls token\n",
    "        cls_token = self.cls_token + self.pos_embed[:, :1, :]\n",
    "        cls_tokens = cls_token.expand(x.shape[0], -1, -1)\n",
    "        x = torch.cat((cls_tokens, x), dim=1)\n",
    "\n",
    "        # apply Transformer blocks\n",
    "        for blk in self.blocks:\n",
    "            x = blk(x)\n",
    "        x = self.norm(x)\n",
    "\n",
    "        return x, mask, ids_restore\n",
    "    \n",
    "class Decoder(nn.Module):\n",
    "    def __init__(self, img_size=64, patch_size=4, in_chans=1, embed_dim = 256,\n",
    "                 decoder_embed_dim=128, decoder_depth=4, decoder_num_heads=4,\n",
    "                 mlp_ratio=4., norm_layer=nn.LayerNorm, norm_pix_loss=False):\n",
    "        super().__init__()\n",
    "\n",
    "        self.num_patches = (img_size//patch_size)**2\n",
    "        self.decoder_embed = nn.Linear(embed_dim, decoder_embed_dim, bias=True)\n",
    "\n",
    "        self.mask_token = nn.Parameter(torch.zeros(1, 1, decoder_embed_dim))\n",
    "\n",
    "        self.decoder_pos_embed = nn.Parameter(torch.zeros(1, self.num_patches + 1, decoder_embed_dim), requires_grad=False)  # fixed sin-cos embedding\n",
    "\n",
    "        self.decoder_blocks = nn.ModuleList([\n",
    "            Block(decoder_embed_dim, decoder_num_heads, mlp_ratio, qkv_bias=True, norm_layer=norm_layer)\n",
    "            for i in range(decoder_depth)])\n",
    "\n",
    "        self.decoder_norm = norm_layer(decoder_embed_dim)\n",
    "        self.decoder_pred = nn.Linear(decoder_embed_dim, patch_size**2 * in_chans, bias=True) # decoder to patch\n",
    "        # --------------------------------------------------------------------------\n",
    "\n",
    "        self.norm_pix_loss = norm_pix_loss\n",
    "\n",
    "        self.initialize_weights()\n",
    "\n",
    "    def initialize_weights(self):\n",
    "        # initialization\n",
    "        # initialize (and freeze) pos_embed by sin-cos embedding\n",
    "\n",
    "        decoder_pos_embed = get_2d_sincos_pos_embed(self.decoder_pos_embed.shape[-1], int(self.num_patches**.5), cls_token=True)\n",
    "        self.decoder_pos_embed.data.copy_(torch.from_numpy(decoder_pos_embed).float().unsqueeze(0))\n",
    "\n",
    "        # timm's trunc_normal_(std=.02) is effectively normal_(std=0.02) as cutoff is too big (2.)\n",
    "        torch.nn.init.normal_(self.mask_token, std=.02)\n",
    "\n",
    "        # initialize nn.Linear and nn.LayerNorm\n",
    "        self.apply(self._init_weights)\n",
    "\n",
    "    def _init_weights(self, m):\n",
    "        if isinstance(m, nn.Linear):\n",
    "            # we use xavier_uniform following official JAX ViT:\n",
    "            torch.nn.init.xavier_uniform_(m.weight)\n",
    "            if isinstance(m, nn.Linear) and m.bias is not None:\n",
    "                nn.init.constant_(m.bias, 0)\n",
    "        elif isinstance(m, nn.LayerNorm):\n",
    "            nn.init.constant_(m.bias, 0)\n",
    "            nn.init.constant_(m.weight, 1.0)\n",
    "\n",
    "\n",
    "    def forward(self, x, ids_restore):\n",
    "        # embed tokens\n",
    "        x = self.decoder_embed(x)\n",
    "\n",
    "        # append mask tokens to sequence\n",
    "        mask_tokens = self.mask_token.repeat(x.shape[0], ids_restore.shape[1] + 1 - x.shape[1], 1)\n",
    "        x_ = torch.cat([x[:, 1:, :], mask_tokens], dim=1)  # no cls token\n",
    "        x_ = torch.gather(x_, dim=1, index=ids_restore.unsqueeze(-1).repeat(1, 1, x.shape[2]))  # unshuffle\n",
    "        x = torch.cat([x[:, :1, :], x_], dim=1)  # append cls token\n",
    "\n",
    "        # add pos embed\n",
    "        x = x + self.decoder_pos_embed\n",
    "\n",
    "        # apply Transformer blocks\n",
    "        for blk in self.decoder_blocks:\n",
    "            x = blk(x)\n",
    "        x = self.decoder_norm(x)\n",
    "\n",
    "        # predictor projection\n",
    "        x = self.decoder_pred(x)\n",
    "\n",
    "        # remove cls token\n",
    "        x = x[:, 1:, :]\n",
    "\n",
    "        return x\n",
    "    \n",
    "class Masked_VIT(nn.Module):\n",
    "    def __init__(self, encoder, decoder, mask_ratio):\n",
    "        super().__init__()\n",
    "        \n",
    "        self.encoder = encoder\n",
    "        self.decoder = decoder\n",
    "        self.mask_ratio = mask_ratio\n",
    "\n",
    "    def forward_loss(self, imgs, pred, mask):\n",
    "        \"\"\"\n",
    "        imgs: [N, 3, H, W]\n",
    "        pred: [N, L, p*p*3]\n",
    "        mask: [N, L], 0 is keep, 1 is remove, \n",
    "        \"\"\"\n",
    "        target = patchify(imgs, 64, 4, 1, 256)\n",
    "        criterion = nn.BCEWithLogitsLoss(reduction = \"mean\")\n",
    "        loss = criterion(pred, target)\n",
    "        return loss\n",
    "\n",
    "    def forward_loss_mse(self, imgs, pred, mask):\n",
    "        target = patchify(imgs, 64, 4, 1, 256)\n",
    "        loss = (pred - target) ** 2\n",
    "        loss = loss.mean(dim=-1)  # [N, L], mean loss per patch\n",
    "\n",
    "        loss = (loss * mask).sum() / mask.sum()  # mean loss on removed patches\n",
    "        return loss\n",
    "\n",
    "    def forward(self, imgs):\n",
    "        latent, mask, ids_restore = self.encoder(imgs)\n",
    "        pred = self.decoder(latent, ids_restore)\n",
    "        bce_loss = self.forward_loss(imgs, pred, mask)\n",
    "        # mse_loss = self.forward_loss_mse(imgs, pred, mask)\n",
    "        return bce_loss, pred, mask"
   ]
  },
  {
   "cell_type": "code",
   "execution_count": 6,
   "metadata": {
    "execution": {
     "iopub.execute_input": "2025-04-03T18:02:47.113089Z",
     "iopub.status.busy": "2025-04-03T18:02:47.112664Z",
     "iopub.status.idle": "2025-04-03T18:02:47.119891Z",
     "shell.execute_reply": "2025-04-03T18:02:47.118715Z",
     "shell.execute_reply.started": "2025-04-03T18:02:47.113053Z"
    },
    "trusted": true
   },
   "outputs": [],
   "source": [
    "def mae_vit_base(img_size=64, mask_ratio = 0.75, **kwargs):\n",
    "    encoder = Encoder(\n",
    "        img_size=img_size, patch_size=4, in_chans= 1,mask_ratio = 0.75,\n",
    "        embed_dim=256, depth=8, num_heads=8,\n",
    "        mlp_ratio=4, norm_layer=partial(nn.LayerNorm, eps=1e-6), **kwargs)\n",
    "    \n",
    "    decoder = Decoder(\n",
    "        img_size=img_size, patch_size=4, in_chans = 1, embed_dim=256,\n",
    "        decoder_embed_dim=128, decoder_depth=4, decoder_num_heads=8,\n",
    "        mlp_ratio=4, norm_layer=partial(nn.LayerNorm, eps=1e-6), **kwargs)\n",
    "    \n",
    "    model = Masked_VIT(encoder, decoder, mask_ratio)\n",
    "    \n",
    "    return model"
   ]
  },
  {
   "cell_type": "markdown",
   "metadata": {},
   "source": [
    "## CLASSIFICATION MODEL"
   ]
  },
  {
   "cell_type": "code",
   "execution_count": 7,
   "metadata": {
    "execution": {
     "iopub.execute_input": "2025-04-03T18:02:51.603375Z",
     "iopub.status.busy": "2025-04-03T18:02:51.603031Z",
     "iopub.status.idle": "2025-04-03T18:02:51.614999Z",
     "shell.execute_reply": "2025-04-03T18:02:51.613837Z",
     "shell.execute_reply.started": "2025-04-03T18:02:51.603349Z"
    },
    "trusted": true
   },
   "outputs": [],
   "source": [
    "##hidden_dims = 1024, 512, 256\n",
    "class ClassificationModel(nn.Module):\n",
    "    def __init__(self, encoder, num_classes, hidden_dims=[512, 256], dropout_rate=0.2):\n",
    "        super(ClassificationModel, self).__init__()\n",
    "        self.encoder = encoder\n",
    "        \n",
    "        # Freeze the encoder parameters\n",
    "        for param in self.encoder.parameters():\n",
    "            param.requires_grad = False\n",
    "        \n",
    "        # Get the output dimension of the encoder\n",
    "        encoder_output_dim = self.get_encoder_output_dim()\n",
    "        \n",
    "        # Build MLP layers dynamically based on hidden_dims\n",
    "        layers = []\n",
    "        in_dim = encoder_output_dim\n",
    "        \n",
    "        for dim in hidden_dims:\n",
    "            layers.extend([\n",
    "                nn.Linear(in_dim, dim),\n",
    "                nn.BatchNorm1d(dim),  # Add BatchNorm for better convergence\n",
    "                nn.ReLU(),\n",
    "                nn.Dropout(dropout_rate)\n",
    "            ])\n",
    "            in_dim = dim\n",
    "        \n",
    "        self.mlp = nn.Sequential(*layers)\n",
    "        \n",
    "        # Classification head\n",
    "        self.classifier = nn.Linear(hidden_dims[-1], num_classes)\n",
    "    \n",
    "    def get_encoder_output_dim(self):\n",
    "        return 256\n",
    "    \n",
    "    def forward(self, x):\n",
    "        # Get encoder output\n",
    "        encoder_output, mask, ids_restore = self.encoder(x)\n",
    "        \n",
    "        # Use the [CLS] token or equivalent (first token)\n",
    "        features = encoder_output[:, 0, :]\n",
    "        \n",
    "        # Apply MLP\n",
    "        features = self.mlp(features)\n",
    "        \n",
    "        # Apply classifier\n",
    "        logits = self.classifier(features)\n",
    "        \n",
    "        return logits\n",
    "\n",
    "def load_pretrained_encoder(weights_path, img_size):\n",
    "    from functools import partial\n",
    "    \n",
    "    encoder = Encoder(\n",
    "        img_size=img_size, patch_size=4, in_chans=1, mask_ratio=0.75,\n",
    "        embed_dim=256, depth=8, num_heads=8,\n",
    "        mlp_ratio=4, norm_layer=partial(nn.LayerNorm, eps=1e-6))\n",
    "    \n",
    "    # Load weights\n",
    "    checkpoint = torch.load(weights_path, map_location = 'cpu')\n",
    "    \n",
    "    # Handle different checkpoint formats\n",
    "    if 'model' in checkpoint:\n",
    "        checkpoint = checkpoint['model']\n",
    "    \n",
    "    # Create a new state dict with the correct keys\n",
    "    encoder_state_dict = {}\n",
    "    for key, value in checkpoint.items():\n",
    "        # Check various possible prefixes\n",
    "        if key.startswith(\"module.encoder.\"):\n",
    "            new_key = key.replace(\"module.encoder.\", \"\")\n",
    "            encoder_state_dict[new_key] = value\n",
    "        elif key.startswith(\"encoder.\"):\n",
    "            new_key = key.replace(\"encoder.\", \"\")\n",
    "            encoder_state_dict[new_key] = value\n",
    "        elif key.startswith(\"module.\"):\n",
    "            new_key = key.replace(\"module.\", \"\")\n",
    "            encoder_state_dict[new_key] = value\n",
    "        else:\n",
    "            encoder_state_dict[key] = value\n",
    "    \n",
    "    # Load the modified state dict into the encoder\n",
    "    msg = encoder.load_state_dict(encoder_state_dict, strict=False)\n",
    "    print(f\"Missing keys: {msg.missing_keys}\")\n",
    "    print(f\"Unexpected keys: {msg.unexpected_keys}\")\n",
    "    \n",
    "    # Freeze encoder weights\n",
    "    for param in encoder.parameters():\n",
    "        param.requires_grad = False\n",
    "    \n",
    "    return encoder"
   ]
  },
  {
   "cell_type": "markdown",
   "metadata": {},
   "source": [
    "## SUPER RESOLUTION MODEL"
   ]
  },
  {
   "cell_type": "code",
   "execution_count": 8,
   "metadata": {
    "execution": {
     "iopub.execute_input": "2025-04-03T18:02:54.797779Z",
     "iopub.status.busy": "2025-04-03T18:02:54.797383Z",
     "iopub.status.idle": "2025-04-03T18:02:54.806933Z",
     "shell.execute_reply": "2025-04-03T18:02:54.805693Z",
     "shell.execute_reply.started": "2025-04-03T18:02:54.797745Z"
    },
    "trusted": true
   },
   "outputs": [],
   "source": [
    "class SuperResolutionMAE(nn.Module):\n",
    "    def __init__(self, pretrained_mae, upscale_factor=2):\n",
    "        super().__init__()\n",
    "        \n",
    "        # Pretrained MAE components\n",
    "        self.encoder = pretrained_mae.encoder\n",
    "        self.decoder = pretrained_mae.decoder\n",
    "        \n",
    "        # Upscaler: Converts decoder output (64x64) → (150x150)\n",
    "        self.conv = nn.Conv2d(in_channels=1, out_channels=1, kernel_size=3, stride=1, padding=1, bias=True)\n",
    "        self.upscaler = nn.Sequential(\n",
    "            nn.Conv2d(1, 64, kernel_size=3, padding=1),  # Initial feature extraction\n",
    "            nn.ReLU(),\n",
    "            \n",
    "            nn.Conv2d(64, 256, kernel_size=3, padding=1),  # Prepare for PixelShuffle\n",
    "            nn.PixelShuffle(2),  # Upscales 64x64 → 128x128\n",
    "            \n",
    "            nn.Conv2d(64, 32, kernel_size=3, padding=1),  # Feature refinement\n",
    "            nn.ReLU(),\n",
    "            nn.Conv2d(32, 1, kernel_size=3, padding=1)\n",
    "        )\n",
    "\n",
    "        # Additional upscaling to 150x150\n",
    "        self.final_upsample = nn.ConvTranspose2d(1,1, 25, stride=1, padding=1)\n",
    "\n",
    "\n",
    "\n",
    "    def forward(self, lr_image):\n",
    "        \"\"\"\n",
    "        Forward pass:\n",
    "        - Downscale 75x75 input → 64x64\n",
    "        - Pass through MAE encoder-decoder\n",
    "        - Upscale output to 150x150\n",
    "        \"\"\"\n",
    "        # Step 1: Downscale to 64x64\n",
    "        # kernel = torch.ones(1, 1, 3, 3, device=lr_image.device, dtype=lr_image.dtype) / 9.0\n",
    "        convolved_image =self.conv(lr_image)\n",
    "\n",
    "        #crop and take out the first 64 x 64 grid from top left corner\n",
    "        resized_input = convolved_image[:, :, :64, :64]  # Shape: (batch, 1, 64, 64)\n",
    "\n",
    "        # Step 2: Encode & Decode using MAE\n",
    "        latent, mask, ids_restore = self.encoder(resized_input)\n",
    "        decoded = self.decoder(latent, ids_restore)\n",
    "        # decoded = unpatchify(decoded, 64, 4, 1, 256)\n",
    "        # print(decoded == decoded.view(-1,1,64,64))\n",
    "\n",
    "        # Step 3: Upscale to 150x150\n",
    "        hr_image = self.upscaler(decoded.view(-1, 1, 64, 64))\n",
    "        # hr_image = self.upscaler(decoded)\n",
    "        hr_image = self.final_upsample(hr_image, output_size = torch.Size([1, 1, 150, 150]))\n",
    "\n",
    "        return hr_image"
   ]
  },
  {
   "cell_type": "code",
   "execution_count": null,
   "metadata": {
    "trusted": true
   },
   "outputs": [],
   "source": []
  },
  {
   "cell_type": "markdown",
   "metadata": {},
   "source": [
    "## DATASET BUILDER FUNCTIONS"
   ]
  },
  {
   "cell_type": "code",
   "execution_count": 29,
   "metadata": {
    "execution": {
     "iopub.execute_input": "2025-04-03T18:34:57.767768Z",
     "iopub.status.busy": "2025-04-03T18:34:57.767370Z",
     "iopub.status.idle": "2025-04-03T18:34:57.779228Z",
     "shell.execute_reply": "2025-04-03T18:34:57.777680Z",
     "shell.execute_reply.started": "2025-04-03T18:34:57.767738Z"
    },
    "trusted": true
   },
   "outputs": [],
   "source": [
    "class CustomMultiCLassDataset(Dataset):\n",
    "    def __init__(self, root_dir, transform=None):\n",
    "        \"\"\"\n",
    "        Custom Dataset for loading .npy grayscale images organized in class folders.\n",
    "        \n",
    "        Args:\n",
    "            root_dir (string): Directory with all the class subfolders.\n",
    "            transform (callable, optional): Optional transform to be applied on a sample.\n",
    "        \"\"\"\n",
    "        self.root_dir = root_dir\n",
    "        self.transform = transform\n",
    "        \n",
    "        # Get all class folders\n",
    "        self.classes = [d for d in os.listdir(root_dir) if os.path.isdir(os.path.join(root_dir, d))]\n",
    "        # self.classes = sorted([d for d in os.listdir(root_dir) if os.path.isdir(os.path.join(root_dir, d))])\n",
    "        self.class_to_idx = {cls_name: i for i, cls_name in enumerate(self.classes)}\n",
    "        \n",
    "        # Create a list of (file_path, class_index) tuples\n",
    "        self.samples = []\n",
    "        for class_name in self.classes:\n",
    "            class_dir = os.path.join(self.root_dir, class_name)\n",
    "            class_idx = self.class_to_idx[class_name]\n",
    "            \n",
    "            for file_name in os.listdir(class_dir):\n",
    "                if file_name.endswith('.npy'):\n",
    "                    self.samples.append((os.path.join(class_dir, file_name), class_idx))\n",
    "    \n",
    "    def __len__(self):\n",
    "        return len(self.samples)\n",
    "    \n",
    "    def __getitem__(self, idx):\n",
    "        img_path, class_idx = self.samples[idx]\n",
    "        \n",
    "        try:\n",
    "            # First try direct loading (works for 'no_sub' and 'cdm')\n",
    "            image = np.load(img_path)\n",
    "            \n",
    "            # If this worked, the file is a direct (64,64) array\n",
    "            if image.shape != (64, 64):\n",
    "                raise ValueError(\"Not the expected shape\")\n",
    "                \n",
    "        except (ValueError, TypeError):\n",
    "            # For 'axion' class with object arrays\n",
    "            data = np.load(img_path, allow_pickle=True)\n",
    "            \n",
    "            # Handle the (2,) object array\n",
    "            if data.shape == (2,) and data.dtype == np.dtype('object'):\n",
    "                # Extract the first element which should be the image\n",
    "                image = data[0]\n",
    "            else:\n",
    "                # Unexpected format - try first element or whole array\n",
    "                try:\n",
    "                    image = data[0]\n",
    "                except:\n",
    "                    image = data\n",
    "        \n",
    "        # Ensure we have a proper float32 array\n",
    "        image = np.asarray(image, dtype=np.float32)/255\n",
    "        \n",
    "        # Add channel dimension: (64, 64) -> (1, 64, 64)\n",
    "        image = image[np.newaxis, :, :]\n",
    "        \n",
    "        # Convert to tensor\n",
    "        # data_point = (image - np.mean(image, axis=(1,2)))/(np.std(image, axis=(1,2)))\n",
    "        image = torch.from_numpy(image).float()\n",
    "        \n",
    "        # Apply transforms\n",
    "        if self.transform:\n",
    "            image = self.transform(image)\n",
    "        \n",
    "        return image, class_idx"
   ]
  },
  {
   "cell_type": "code",
   "execution_count": 30,
   "metadata": {
    "execution": {
     "iopub.execute_input": "2025-04-03T18:35:00.525835Z",
     "iopub.status.busy": "2025-04-03T18:35:00.525301Z",
     "iopub.status.idle": "2025-04-03T18:35:00.535516Z",
     "shell.execute_reply": "2025-04-03T18:35:00.534326Z",
     "shell.execute_reply.started": "2025-04-03T18:35:00.525780Z"
    },
    "trusted": true
   },
   "outputs": [],
   "source": [
    "\n",
    "##Pixel Values are already b/w (0, 1) so no excess normalisation is used\n",
    "\n",
    "class SRDataset(Dataset):\n",
    "    def __init__(self, lr_folder, hr_folder, transform=None):\n",
    "        self.lr_folder = lr_folder\n",
    "        self.hr_folder = hr_folder\n",
    "        self.transform = transform\n",
    "        \n",
    "        # Assuming matching filenames in both folders\n",
    "        self.filenames = sorted(os.listdir(lr_folder))  # Ensure order matches\n",
    "    \n",
    "    def __len__(self):\n",
    "        return len(self.filenames)\n",
    "    \n",
    "    def __getitem__(self, idx):\n",
    "        filename = self.filenames[idx]\n",
    "        \n",
    "        # Load .npy images\n",
    "        lr_img_path = os.path.join(self.lr_folder, filename)\n",
    "        hr_img_path = os.path.join(self.hr_folder, filename)\n",
    "        \n",
    "        lr_img = np.load(lr_img_path)  # Shape: (75, 75)\n",
    "        hr_img = np.load(hr_img_path)  # Shape: (150, 150)\n",
    "        \n",
    "        # Convert to float tensors\n",
    "        lr_img = torch.tensor(lr_img, dtype=torch.float32)\n",
    "        hr_img = torch.tensor(hr_img, dtype=torch.float32)\n",
    "\n",
    "        return lr_img, hr_img"
   ]
  },
  {
   "cell_type": "code",
   "execution_count": 31,
   "metadata": {
    "execution": {
     "iopub.execute_input": "2025-04-03T18:35:02.831410Z",
     "iopub.status.busy": "2025-04-03T18:35:02.831073Z",
     "iopub.status.idle": "2025-04-03T18:35:02.837129Z",
     "shell.execute_reply": "2025-04-03T18:35:02.835948Z",
     "shell.execute_reply.started": "2025-04-03T18:35:02.831384Z"
    },
    "trusted": true
   },
   "outputs": [],
   "source": [
    "def load_model(model, checkpoint_path, device='cpu'):\n",
    "\n",
    "    # Load checkpoint\n",
    "    ckpt = torch.load(checkpoint_path, map_location=device)\n",
    "\n",
    "    # Handle 'module.' prefix from DataParallel/DistributedDataParallel\n",
    "    new_state_dict = {k.replace(\"module.\", \"\"): v for k, v in ckpt.items()}\n",
    "    \n",
    "    # Load state dictionary into model\n",
    "    model.load_state_dict(new_state_dict)\n",
    "\n",
    "    # Move model to device\n",
    "    model.to(device)\n",
    "    print(f\"Model loaded successfully from {checkpoint_path} on {device}\")\n",
    "    return model"
   ]
  },
  {
   "cell_type": "markdown",
   "metadata": {},
   "source": [
    "## EVAL FUNCTIONS"
   ]
  },
  {
   "cell_type": "code",
   "execution_count": 52,
   "metadata": {
    "execution": {
     "iopub.execute_input": "2025-04-03T18:55:38.093812Z",
     "iopub.status.busy": "2025-04-03T18:55:38.093405Z",
     "iopub.status.idle": "2025-04-03T18:55:38.105054Z",
     "shell.execute_reply": "2025-04-03T18:55:38.103859Z",
     "shell.execute_reply.started": "2025-04-03T18:55:38.093781Z"
    },
    "trusted": true
   },
   "outputs": [],
   "source": [
    "def evaluate_classification_model(model, test_dataloader, device, num_classes=3):\n",
    "    model.eval()\n",
    "    all_labels = []\n",
    "    all_scores = []\n",
    "\n",
    "    with torch.no_grad():\n",
    "        for val_inputs, val_labels in test_dataloader:\n",
    "            val_inputs, val_labels = val_inputs.to(device), val_labels.to(device)\n",
    "            val_outputs = model(val_inputs)\n",
    "            \n",
    "            # Apply softmax to get probabilities\n",
    "            probabilities = torch.nn.functional.softmax(val_outputs, dim=1)\n",
    "            \n",
    "            all_labels.extend(val_labels.cpu().numpy())\n",
    "            all_scores.extend(probabilities.cpu().numpy())\n",
    "\n",
    "    # Binarize the labels\n",
    "    y_true = label_binarize(all_labels, classes=list(range(num_classes)))\n",
    "    y_true = np.array(y_true)\n",
    "    all_scores = np.array(all_scores)\n",
    "\n",
    "    # Compute ROC curve and ROC area for each class\n",
    "    fpr = dict()\n",
    "    tpr = dict()\n",
    "    roc_auc = dict()\n",
    "    for i in range(num_classes):\n",
    "        fpr[i], tpr[i], _ = roc_curve(y_true[:, i], all_scores[:, i])\n",
    "        roc_auc[i] = auc(fpr[i], tpr[i])\n",
    "\n",
    "    # Compute micro-average ROC curve and ROC area\n",
    "    fpr[\"micro\"], tpr[\"micro\"], _ = roc_curve(y_true.ravel(), all_scores.ravel())\n",
    "    roc_auc[\"micro\"] = auc(fpr[\"micro\"], tpr[\"micro\"]) \n",
    "\n",
    "    # Plot the ROC curves\n",
    "    plt.figure(figsize=(10, 6))\n",
    "    for i in range(num_classes):\n",
    "        plt.plot(fpr[i], tpr[i], lw=2, label=f'Class {i} (AUC = {roc_auc[i]:.2f})')\n",
    "    \n",
    "    plt.plot(fpr[\"micro\"], tpr[\"micro\"], color='darkorange', linestyle='--', lw=2, label=f'Micro-average (AUC = {roc_auc[\"micro\"]:.4f})')\n",
    "    plt.plot([0, 1], [0, 1], color='navy', lw=2, linestyle='--')\n",
    "    plt.xlabel('False Positive Rate (FPR)')\n",
    "    plt.ylabel('True Positive Rate (TPR)')\n",
    "    plt.title('ROC Curve')\n",
    "    plt.legend(loc=\"lower right\")\n",
    "    plt.show()\n",
    "\n",
    "    # Compute and plot the confusion matrix\n",
    "    \n",
    "    y_pred = np.argmax(all_scores, axis=1)\n",
    "    cm = confusion_matrix(all_labels, y_pred)\n",
    "    disp = ConfusionMatrixDisplay(confusion_matrix=cm, display_labels=range(num_classes))\n",
    "    disp.plot(cmap=plt.cm.Blues)\n",
    "    plt.title('Confusion Matrix')\n",
    "    plt.show()\n",
    "\n",
    "\n"
   ]
  },
  {
   "cell_type": "code",
   "execution_count": 12,
   "metadata": {
    "execution": {
     "iopub.execute_input": "2025-04-03T18:03:09.313028Z",
     "iopub.status.busy": "2025-04-03T18:03:09.312498Z",
     "iopub.status.idle": "2025-04-03T18:03:09.324723Z",
     "shell.execute_reply": "2025-04-03T18:03:09.323361Z",
     "shell.execute_reply.started": "2025-04-03T18:03:09.312983Z"
    },
    "trusted": true
   },
   "outputs": [],
   "source": [
    "def evaluate_sr_model(model, val_dataloader, device):\n",
    "    model.eval()\n",
    "    total_psnr, total_ssim, total_mse = 0.0, 0.0, 0.0\n",
    "    num_samples = 0\n",
    "\n",
    "    with torch.no_grad():\n",
    "        for lr_img, hr_img in tqdm(val_dataloader, desc=\"Evaluating\", unit=\"batch\"):\n",
    "            # Move images to device\n",
    "            lr_img = lr_img.to(device).float()\n",
    "            hr_img = hr_img.to(device).float()\n",
    "\n",
    "            # Super-resolve the LR image\n",
    "            sr_img = model(lr_img)\n",
    "\n",
    "            # Compute MSE loss\n",
    "            mse_loss = F.mse_loss(sr_img, hr_img)\n",
    "            total_mse += mse_loss.item()\n",
    "\n",
    "            # Convert tensors to numpy for PSNR & SSIM calculation\n",
    "            sr_np = sr_img.squeeze().cpu().numpy()\n",
    "            hr_np = hr_img.squeeze().cpu().numpy()\n",
    "\n",
    "            # Ensure data range is correct\n",
    "            psnr_val = psnr(hr_np, sr_np, data_range=hr_np.max() - hr_np.min())\n",
    "            ssim_val = ssim(hr_np, sr_np, data_range=hr_np.max() - hr_np.min(), multichannel=False)\n",
    "\n",
    "            total_psnr += psnr_val\n",
    "            total_ssim += ssim_val\n",
    "            num_samples += 1\n",
    "\n",
    "    # Compute average metrics\n",
    "    avg_psnr = total_psnr / num_samples\n",
    "    avg_ssim = total_ssim / num_samples\n",
    "    avg_mse = total_mse / num_samples\n",
    "\n",
    "    print(f\"Validation Results - PSNR: {avg_psnr:.4f}, SSIM: {avg_ssim:.4f}, MSE: {avg_mse:.6f}\")\n",
    "    return avg_psnr, avg_ssim, avg_mse"
   ]
  },
  {
   "cell_type": "markdown",
   "metadata": {},
   "source": [
    "## RESULTS"
   ]
  },
  {
   "cell_type": "markdown",
   "metadata": {},
   "source": [
    "### Classification "
   ]
  },
  {
   "cell_type": "code",
   "execution_count": 33,
   "metadata": {
    "execution": {
     "iopub.execute_input": "2025-04-03T18:36:03.398404Z",
     "iopub.status.busy": "2025-04-03T18:36:03.398043Z",
     "iopub.status.idle": "2025-04-03T18:36:03.444094Z",
     "shell.execute_reply": "2025-04-03T18:36:03.442941Z",
     "shell.execute_reply.started": "2025-04-03T18:36:03.398379Z"
    },
    "trusted": true
   },
   "outputs": [],
   "source": [
    "size = 64\n",
    "\n",
    "transform = None\n",
    "train_path = '/kaggle/input/masked-autoencoder/train'\n",
    "val_path = '/kaggle/input/masked-autoencoder/val'\n",
    "train_dataset = CustomMultiCLassDataset(val_path, transform = transform)\n",
    "val_dataset = CustomMultiCLassDataset(val_path, transform = transform)\n",
    "batch_size = 512\n",
    "test_dataloader = DataLoader(val_dataset, batch_size=batch_size, shuffle=False)  #no shuffle\n",
    "\n"
   ]
  },
  {
   "cell_type": "code",
   "execution_count": 34,
   "metadata": {
    "execution": {
     "iopub.execute_input": "2025-04-03T18:36:05.705223Z",
     "iopub.status.busy": "2025-04-03T18:36:05.704757Z",
     "iopub.status.idle": "2025-04-03T18:36:05.711371Z",
     "shell.execute_reply": "2025-04-03T18:36:05.709892Z",
     "shell.execute_reply.started": "2025-04-03T18:36:05.705187Z"
    },
    "trusted": true
   },
   "outputs": [
    {
     "name": "stdout",
     "output_type": "stream",
     "text": [
      "['axion', 'no_sub', 'cdm']\n"
     ]
    }
   ],
   "source": [
    "print(train_dataset.classes)"
   ]
  },
  {
   "cell_type": "code",
   "execution_count": 35,
   "metadata": {
    "execution": {
     "iopub.execute_input": "2025-04-03T18:36:07.682741Z",
     "iopub.status.busy": "2025-04-03T18:36:07.682336Z",
     "iopub.status.idle": "2025-04-03T18:36:07.688093Z",
     "shell.execute_reply": "2025-04-03T18:36:07.687059Z",
     "shell.execute_reply.started": "2025-04-03T18:36:07.682709Z"
    },
    "trusted": true
   },
   "outputs": [
    {
     "name": "stdout",
     "output_type": "stream",
     "text": [
      "['axion', 'no_sub', 'cdm']\n"
     ]
    }
   ],
   "source": [
    "print(val_dataset.classes)"
   ]
  },
  {
   "cell_type": "code",
   "execution_count": 36,
   "metadata": {
    "execution": {
     "iopub.execute_input": "2025-04-03T18:36:10.678611Z",
     "iopub.status.busy": "2025-04-03T18:36:10.678221Z",
     "iopub.status.idle": "2025-04-03T18:36:10.683582Z",
     "shell.execute_reply": "2025-04-03T18:36:10.682437Z",
     "shell.execute_reply.started": "2025-04-03T18:36:10.678551Z"
    },
    "trusted": true
   },
   "outputs": [
    {
     "name": "stdout",
     "output_type": "stream",
     "text": [
      "Class-to-Index Mapping: {'axion': 0, 'no_sub': 1, 'cdm': 2}\n"
     ]
    }
   ],
   "source": [
    "print(\"Class-to-Index Mapping:\", val_dataset.class_to_idx)"
   ]
  },
  {
   "cell_type": "code",
   "execution_count": 37,
   "metadata": {
    "execution": {
     "iopub.execute_input": "2025-04-03T18:36:14.940804Z",
     "iopub.status.busy": "2025-04-03T18:36:14.940389Z",
     "iopub.status.idle": "2025-04-03T18:36:15.163768Z",
     "shell.execute_reply": "2025-04-03T18:36:15.162732Z",
     "shell.execute_reply.started": "2025-04-03T18:36:14.940760Z"
    },
    "trusted": true
   },
   "outputs": [
    {
     "name": "stdout",
     "output_type": "stream",
     "text": [
      "Missing keys: []\n",
      "Unexpected keys: ['decoder.mask_token', 'decoder.decoder_pos_embed', 'decoder.decoder_embed.weight', 'decoder.decoder_embed.bias', 'decoder.decoder_blocks.0.norm1.weight', 'decoder.decoder_blocks.0.norm1.bias', 'decoder.decoder_blocks.0.attn.qkv.weight', 'decoder.decoder_blocks.0.attn.qkv.bias', 'decoder.decoder_blocks.0.attn.proj.weight', 'decoder.decoder_blocks.0.attn.proj.bias', 'decoder.decoder_blocks.0.norm2.weight', 'decoder.decoder_blocks.0.norm2.bias', 'decoder.decoder_blocks.0.mlp.fc1.weight', 'decoder.decoder_blocks.0.mlp.fc1.bias', 'decoder.decoder_blocks.0.mlp.fc2.weight', 'decoder.decoder_blocks.0.mlp.fc2.bias', 'decoder.decoder_blocks.1.norm1.weight', 'decoder.decoder_blocks.1.norm1.bias', 'decoder.decoder_blocks.1.attn.qkv.weight', 'decoder.decoder_blocks.1.attn.qkv.bias', 'decoder.decoder_blocks.1.attn.proj.weight', 'decoder.decoder_blocks.1.attn.proj.bias', 'decoder.decoder_blocks.1.norm2.weight', 'decoder.decoder_blocks.1.norm2.bias', 'decoder.decoder_blocks.1.mlp.fc1.weight', 'decoder.decoder_blocks.1.mlp.fc1.bias', 'decoder.decoder_blocks.1.mlp.fc2.weight', 'decoder.decoder_blocks.1.mlp.fc2.bias', 'decoder.decoder_blocks.2.norm1.weight', 'decoder.decoder_blocks.2.norm1.bias', 'decoder.decoder_blocks.2.attn.qkv.weight', 'decoder.decoder_blocks.2.attn.qkv.bias', 'decoder.decoder_blocks.2.attn.proj.weight', 'decoder.decoder_blocks.2.attn.proj.bias', 'decoder.decoder_blocks.2.norm2.weight', 'decoder.decoder_blocks.2.norm2.bias', 'decoder.decoder_blocks.2.mlp.fc1.weight', 'decoder.decoder_blocks.2.mlp.fc1.bias', 'decoder.decoder_blocks.2.mlp.fc2.weight', 'decoder.decoder_blocks.2.mlp.fc2.bias', 'decoder.decoder_blocks.3.norm1.weight', 'decoder.decoder_blocks.3.norm1.bias', 'decoder.decoder_blocks.3.attn.qkv.weight', 'decoder.decoder_blocks.3.attn.qkv.bias', 'decoder.decoder_blocks.3.attn.proj.weight', 'decoder.decoder_blocks.3.attn.proj.bias', 'decoder.decoder_blocks.3.norm2.weight', 'decoder.decoder_blocks.3.norm2.bias', 'decoder.decoder_blocks.3.mlp.fc1.weight', 'decoder.decoder_blocks.3.mlp.fc1.bias', 'decoder.decoder_blocks.3.mlp.fc2.weight', 'decoder.decoder_blocks.3.mlp.fc2.bias', 'decoder.decoder_norm.weight', 'decoder.decoder_norm.bias', 'decoder.decoder_pred.weight', 'decoder.decoder_pred.bias']\n"
     ]
    },
    {
     "data": {
      "text/plain": [
       "<All keys matched successfully>"
      ]
     },
     "execution_count": 37,
     "metadata": {},
     "output_type": "execute_result"
    }
   ],
   "source": [
    "warnings.filterwarnings(\"ignore\")\n",
    "enc_weights_path = \"/kaggle/input/weights-ml4sci-all/best_mae_vit_model_256emb_final.pth\"\n",
    "checkpoint = torch.load(\"/kaggle/input/weights-ml4sci-all/FT_classification_final_256emb.pth\", map_location = 'cpu')\n",
    "img_size = 64\n",
    "encoder = load_pretrained_encoder(enc_weights_path, img_size)\n",
    "num_classes = 3\n",
    "device = 'cpu'\n",
    "new_state_dict = {key.replace(\"module.\", \"\"): value for key, value in checkpoint.items()}\n",
    "class_model = ClassificationModel(encoder, num_classes=3).to(device)\n",
    "class_model.load_state_dict(new_state_dict)\n",
    "\n",
    "\n"
   ]
  },
  {
   "cell_type": "code",
   "execution_count": 53,
   "metadata": {
    "execution": {
     "iopub.execute_input": "2025-04-03T18:55:42.690934Z",
     "iopub.status.busy": "2025-04-03T18:55:42.690539Z",
     "iopub.status.idle": "2025-04-03T18:57:42.918358Z",
     "shell.execute_reply": "2025-04-03T18:57:42.917203Z",
     "shell.execute_reply.started": "2025-04-03T18:55:42.690906Z"
    },
    "trusted": true
   },
   "outputs": [
    {
     "data": {
      "image/png": "[encoded data removed]",
      "text/plain": [
       "<Figure size 1000x600 with 1 Axes>"
      ]
     },
     "metadata": {},
     "output_type": "display_data"
    },
    {
     "data": {
      "image/png": "[encoded data removed]",
      "text/plain": [
       "<Figure size 640x480 with 2 Axes>"
      ]
     },
     "metadata": {},
     "output_type": "display_data"
    }
   ],
   "source": [
    "evaluate_classification_model(class_model, test_dataloader, 'cpu')"
   ]
  },
  {
   "cell_type": "markdown",
   "metadata": {},
   "source": [
    "### SUPER RESOLUTION"
   ]
  },
  {
   "cell_type": "code",
   "execution_count": 16,
   "metadata": {
    "execution": {
     "iopub.execute_input": "2025-03-27T10:05:27.475549Z",
     "iopub.status.busy": "2025-03-27T10:05:27.475109Z",
     "iopub.status.idle": "2025-03-27T10:05:27.494711Z",
     "shell.execute_reply": "2025-03-27T10:05:27.493181Z",
     "shell.execute_reply.started": "2025-03-27T10:05:27.475519Z"
    },
    "trusted": true
   },
   "outputs": [],
   "source": [
    "transform = None\n",
    "val =  SRDataset(\"/kaggle/input/mae-sr-dataset-split/val/LR\",\"/kaggle/input/mae-sr-dataset-split/val/HR\", transform = transform)\n",
    "test_sr_dataloader = DataLoader(val, batch_size = 512, shuffle = False)"
   ]
  },
  {
   "cell_type": "code",
   "execution_count": 17,
   "metadata": {
    "execution": {
     "iopub.execute_input": "2025-03-27T10:05:27.496079Z",
     "iopub.status.busy": "2025-03-27T10:05:27.495793Z",
     "iopub.status.idle": "2025-03-27T10:05:28.310039Z",
     "shell.execute_reply": "2025-03-27T10:05:28.308759Z",
     "shell.execute_reply.started": "2025-03-27T10:05:27.496054Z"
    },
    "trusted": true
   },
   "outputs": [
    {
     "name": "stdout",
     "output_type": "stream",
     "text": [
      "Model loaded successfully from /kaggle/input/weights-ml4sci-all/best_sr_mae_model_FT_256emb.pth on cpu\n"
     ]
    }
   ],
   "source": [
    "mae = mae_vit_base(64)\n",
    "ckpt = torch.load(\"/kaggle/input/weights-ml4sci-all/best_mae_vit_model_256emb_final.pth\", map_location=\"cpu\")\n",
    "new_state_dict = {k.replace(\"module.\", \"\"):ckpt[k] for k in ckpt.keys()}\n",
    "mae.load_state_dict(new_state_dict, strict=True)\n",
    "\n",
    "warnings.filterwarnings(\"ignore\")\n",
    "ckpt_path = \"/kaggle/input/weights-ml4sci-all/best_sr_mae_model_FT_256emb.pth\"\n",
    "sr_model = load_model(SuperResolutionMAE(pretrained_mae=mae),ckpt_path)\n",
    "\n"
   ]
  },
  {
   "cell_type": "code",
   "execution_count": 18,
   "metadata": {
    "execution": {
     "iopub.execute_input": "2025-03-27T10:05:28.313919Z",
     "iopub.status.busy": "2025-03-27T10:05:28.313583Z",
     "iopub.status.idle": "2025-03-27T10:06:56.802102Z",
     "shell.execute_reply": "2025-03-27T10:06:56.800846Z",
     "shell.execute_reply.started": "2025-03-27T10:05:28.313894Z"
    },
    "trusted": true
   },
   "outputs": [
    {
     "name": "stderr",
     "output_type": "stream",
     "text": [
      "Evaluating: 100%|██████████| 2/2 [01:28<00:00, 44.24s/batch]"
     ]
    },
    {
     "name": "stdout",
     "output_type": "stream",
     "text": [
      "Validation Results - PSNR: 33.7001, SSIM: 0.9681, MSE: 0.000427\n"
     ]
    },
    {
     "name": "stderr",
     "output_type": "stream",
     "text": [
      "\n"
     ]
    }
   ],
   "source": [
    "avg_psnr, avg_ssim, avg_mse = evaluate_sr_model(sr_model, test_sr_dataloader, device='cpu')"
   ]
  },
  {
   "cell_type": "code",
   "execution_count": null,
   "metadata": {
    "trusted": true
   },
   "outputs": [],
   "source": []
  }
 ],
 "metadata": {
  "kaggle": {
   "accelerator": "none",
   "dataSources": [
    {
     "databundleVersionId": 11546958,
     "datasetId": 6955817,
     "sourceId": 11149338,
     "sourceType": "datasetVersion"
    },
    {
     "databundleVersionId": 11494000,
     "datasetId": 6921500,
     "sourceId": 11102907,
     "sourceType": "datasetVersion"
    },
    {
     "databundleVersionId": 11619214,
     "datasetId": 6904484,
     "sourceId": 11212215,
     "sourceType": "datasetVersion"
    }
   ],
   "dockerImageVersionId": 30918,
   "isGpuEnabled": false,
   "isInternetEnabled": true,
   "language": "python",
   "sourceType": "notebook"
  },
  "kernelspec": {
   "display_name": "Python 3",
   "language": "python",
   "name": "python3"
  },
  "language_info": {
   "codemirror_mode": {
    "name": "ipython",
    "version": 3
   },
   "file_extension": ".py",
   "mimetype": "text/x-python",
   "name": "python",
   "nbconvert_exporter": "python",
   "pygments_lexer": "ipython3",
   "version": "3.10.12"
  }
 },
 "nbformat": 4,
 "nbformat_minor": 4
}
